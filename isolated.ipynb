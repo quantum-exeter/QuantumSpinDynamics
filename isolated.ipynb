{
 "cells": [
  {
   "cell_type": "markdown",
   "id": "6d001135",
   "metadata": {},
   "source": [
    "# RC Quantum Spin Dynamics Simulations #"
   ]
  },
  {
   "cell_type": "markdown",
   "id": "44767f3d",
   "metadata": {},
   "source": [
    "### Preamble ###"
   ]
  },
  {
   "cell_type": "code",
   "execution_count": 27,
   "id": "cfd413ea",
   "metadata": {
    "ExecuteTime": {
     "end_time": "2022-03-21T16:24:10.992467Z",
     "start_time": "2022-03-21T16:24:10.978965Z"
    }
   },
   "outputs": [],
   "source": [
    "from math import *\n",
    "from cmath import *\n",
    "from sympy import *\n",
    "from qutip import *\n",
    "\n",
    "import numpy as np\n",
    "import scipy as sp\n",
    "import matplotlib.pyplot as plt\n",
    "\n",
    "plt.rcParams['font.sans-serif'] = \"Arial\"\n",
    "plt.rcParams['font.family'] = \"sans-serif\"\n",
    "plt.rcParams['mathtext.fontset'] = \"cm\""
   ]
  },
  {
   "cell_type": "markdown",
   "id": "8caec2e0",
   "metadata": {},
   "source": [
    "### Variables ###"
   ]
  },
  {
   "cell_type": "code",
   "execution_count": 28,
   "id": "49b6123a",
   "metadata": {
    "ExecuteTime": {
     "end_time": "2022-03-21T16:24:11.827988Z",
     "start_time": "2022-03-21T16:24:11.817510Z"
    }
   },
   "outputs": [],
   "source": [
    "n=20 # Number of harmonic oscillator levels"
   ]
  },
  {
   "cell_type": "code",
   "execution_count": 91,
   "id": "f910a0f3",
   "metadata": {
    "ExecuteTime": {
     "end_time": "2022-03-21T16:27:57.431984Z",
     "start_time": "2022-03-21T16:27:57.419484Z"
    }
   },
   "outputs": [],
   "source": [
    "gratio = 1.76*10**(11) # Gyromagnetic ratio\n",
    "bz = 10 # External magnetic field along z\n",
    "omegaL = gratio*bz # Larmor frequency\n",
    "A = 10*omegaL # Coupling Strength\n",
    "omega0 = 4*omegaL # Resonant frequency\n",
    "T = 1 # Temperature (Kelvin)\n",
    "kB = 1.38*10**(-23) # Boltzmann constant\n",
    "hbar = 1.05*10**(-34) # Reduced Planck constant\n",
    "beta = (hbar*omega0)/(kB*T) # Beta factor"
   ]
  },
  {
   "cell_type": "markdown",
   "id": "9fecd629",
   "metadata": {},
   "source": [
    "RC-specific variables:"
   ]
  },
  {
   "cell_type": "code",
   "execution_count": 92,
   "id": "326e8ae5",
   "metadata": {
    "ExecuteTime": {
     "end_time": "2022-03-21T16:27:57.942893Z",
     "start_time": "2022-03-21T16:27:57.932802Z"
    }
   },
   "outputs": [],
   "source": [
    "Omega = omega0;\n",
    "Lambda = np.sqrt(A/Omega);"
   ]
  },
  {
   "cell_type": "markdown",
   "id": "5a2918cd",
   "metadata": {},
   "source": [
    "### Initial States ###"
   ]
  },
  {
   "cell_type": "code",
   "execution_count": 93,
   "id": "6449be47",
   "metadata": {
    "ExecuteTime": {
     "end_time": "2022-03-21T16:27:58.270628Z",
     "start_time": "2022-03-21T16:27:58.258023Z"
    }
   },
   "outputs": [],
   "source": [
    "sx0 = 0.5*sigmax()\n",
    "sy0 = 0.5*sigmay()\n",
    "sz0 = 0.5*sigmaz()\n",
    "s0 = [sx0, sy0, sz0]"
   ]
  },
  {
   "cell_type": "code",
   "execution_count": 94,
   "id": "978605c4",
   "metadata": {
    "ExecuteTime": {
     "end_time": "2022-03-21T16:27:58.425133Z",
     "start_time": "2022-03-21T16:27:58.422133Z"
    }
   },
   "outputs": [],
   "source": [
    "identity_sys = qeye(2)\n",
    "identity_bath = qeye(n)"
   ]
  },
  {
   "cell_type": "code",
   "execution_count": 95,
   "id": "a4c478e3",
   "metadata": {
    "ExecuteTime": {
     "end_time": "2022-03-21T16:27:58.626687Z",
     "start_time": "2022-03-21T16:27:58.621621Z"
    }
   },
   "outputs": [],
   "source": [
    "def htot():\n",
    "    hsys = tensor(s0[2],identity_bath)\n",
    "    hint = Lambda*tensor(s0[0], (create(n)+destroy(n)))\n",
    "    hrc = -(Omega/omegaL)*tensor(identity_sys, create(n)*destroy(n))\n",
    "    return(hsys+hint+hrc)"
   ]
  },
  {
   "cell_type": "code",
   "execution_count": 109,
   "id": "c11b9d4d",
   "metadata": {
    "ExecuteTime": {
     "end_time": "2022-03-21T16:29:08.716394Z",
     "start_time": "2022-03-21T16:29:08.697953Z"
    }
   },
   "outputs": [
    {
     "data": {
      "text/latex": [
       "Quantum object: dims = [[2, 20], [2, 20]], shape = (40, 40), type = oper, isherm = True\\begin{equation*}\\left(\\begin{array}{*{11}c}0.500 & 0.0 & 0.0 & 0.0 & 0.0 & \\cdots & 0.0 & 0.0 & 0.0 & 0.0 & 0.0\\\\0.0 & -3.500 & 0.0 & 0.0 & 0.0 & \\cdots & 0.0 & 0.0 & 0.0 & 0.0 & 0.0\\\\0.0 & 0.0 & -7.500 & 0.0 & 0.0 & \\cdots & 0.0 & 0.0 & 0.0 & 0.0 & 0.0\\\\0.0 & 0.0 & 0.0 & -11.500 & 0.0 & \\cdots & 0.0 & 0.0 & 0.0 & 0.0 & 0.0\\\\0.0 & 0.0 & 0.0 & 0.0 & -15.500 & \\cdots & 0.0 & 0.0 & 0.0 & 0.0 & 0.0\\\\\\vdots & \\vdots & \\vdots & \\vdots & \\vdots & \\ddots & \\vdots & \\vdots & \\vdots & \\vdots & \\vdots\\\\0.0 & 0.0 & 0.0 & 0.0 & 0.0 & \\cdots & -60.500 & 0.0 & 0.0 & 0.0 & 0.0\\\\0.0 & 0.0 & 0.0 & 0.0 & 0.0 & \\cdots & 0.0 & -64.500 & 0.0 & 0.0 & 0.0\\\\0.0 & 0.0 & 0.0 & 0.0 & 0.0 & \\cdots & 0.0 & 0.0 & -68.500 & 0.0 & 0.0\\\\0.0 & 0.0 & 0.0 & 0.0 & 0.0 & \\cdots & 0.0 & 0.0 & 0.0 & -72.500 & 0.0\\\\0.0 & 0.0 & 0.0 & 0.0 & 0.0 & \\cdots & 0.0 & 0.0 & 0.0 & 0.0 & -76.500\\\\\\end{array}\\right)\\end{equation*}"
      ],
      "text/plain": [
       "Quantum object: dims = [[2, 20], [2, 20]], shape = (40, 40), type = oper, isherm = True\n",
       "Qobj data =\n",
       "[[  0.5   0.    0.  ...   0.    0.    0. ]\n",
       " [  0.   -3.5   0.  ...   0.    0.    0. ]\n",
       " [  0.    0.   -7.5 ...   0.    0.    0. ]\n",
       " ...\n",
       " [  0.    0.    0.  ... -68.5   0.    0. ]\n",
       " [  0.    0.    0.  ...   0.  -72.5   0. ]\n",
       " [  0.    0.    0.  ...   0.    0.  -76.5]]"
      ]
     },
     "execution_count": 109,
     "metadata": {},
     "output_type": "execute_result"
    }
   ],
   "source": [
    "htot()"
   ]
  },
  {
   "cell_type": "code",
   "execution_count": 97,
   "id": "48f85ee1",
   "metadata": {
    "ExecuteTime": {
     "end_time": "2022-03-21T16:27:59.045947Z",
     "start_time": "2022-03-21T16:27:59.033962Z"
    }
   },
   "outputs": [],
   "source": [
    "def evolve(operator,t):\n",
    "    unitary_lhs = (1j*htot()*t).expm()\n",
    "    unitary_rhs = (-1j*htot()*t).expm()\n",
    "    return(unitary_lhs*(operator*unitary_rhs))"
   ]
  },
  {
   "cell_type": "code",
   "execution_count": 98,
   "id": "6621389b",
   "metadata": {
    "ExecuteTime": {
     "end_time": "2022-03-21T16:27:59.216295Z",
     "start_time": "2022-03-21T16:27:59.208294Z"
    }
   },
   "outputs": [],
   "source": [
    "theta, phi = -np.pi/2, 0 "
   ]
  },
  {
   "cell_type": "code",
   "execution_count": 99,
   "id": "942680c1",
   "metadata": {
    "ExecuteTime": {
     "end_time": "2022-03-21T16:27:59.388716Z",
     "start_time": "2022-03-21T16:27:59.369622Z"
    }
   },
   "outputs": [],
   "source": [
    "rho_sys = Qobj([[np.cos((theta)/2)**2, 0.5*exp(-1j*phi)*np.sin(theta)],[0.5*exp(1j*phi)*np.sin(theta),np.sin((theta)/2)**2]])"
   ]
  },
  {
   "cell_type": "code",
   "execution_count": 100,
   "id": "40a38402",
   "metadata": {
    "ExecuteTime": {
     "end_time": "2022-03-21T16:27:59.557856Z",
     "start_time": "2022-03-21T16:27:59.543973Z"
    }
   },
   "outputs": [
    {
     "data": {
      "text/latex": [
       "Quantum object: dims = [[2], [2]], shape = (2, 2), type = oper, isherm = True\\begin{equation*}\\left(\\begin{array}{*{11}c}0.500 & -0.500\\\\-0.500 & 0.500\\\\\\end{array}\\right)\\end{equation*}"
      ],
      "text/plain": [
       "Quantum object: dims = [[2], [2]], shape = (2, 2), type = oper, isherm = True\n",
       "Qobj data =\n",
       "[[ 0.5 -0.5]\n",
       " [-0.5  0.5]]"
      ]
     },
     "execution_count": 100,
     "metadata": {},
     "output_type": "execute_result"
    }
   ],
   "source": [
    "rho_sys"
   ]
  },
  {
   "cell_type": "code",
   "execution_count": 101,
   "id": "0db90e16",
   "metadata": {
    "ExecuteTime": {
     "end_time": "2022-03-21T16:28:00.054138Z",
     "start_time": "2022-03-21T16:28:00.044256Z"
    }
   },
   "outputs": [],
   "source": [
    "thermal_expectation = 1/(np.exp(beta)-1)"
   ]
  },
  {
   "cell_type": "code",
   "execution_count": 102,
   "id": "232250f8",
   "metadata": {
    "ExecuteTime": {
     "end_time": "2022-03-21T16:28:00.101253Z",
     "start_time": "2022-03-21T16:28:00.094629Z"
    }
   },
   "outputs": [],
   "source": [
    "rho_th = thermal_dm(n, thermal_expectation)"
   ]
  },
  {
   "cell_type": "code",
   "execution_count": 103,
   "id": "f54e3453",
   "metadata": {
    "ExecuteTime": {
     "end_time": "2022-03-21T16:28:00.148208Z",
     "start_time": "2022-03-21T16:28:00.125562Z"
    }
   },
   "outputs": [
    {
     "data": {
      "text/latex": [
       "Quantum object: dims = [[20], [20]], shape = (20, 20), type = oper, isherm = True\\begin{equation*}\\left(\\begin{array}{*{11}c}1.0 & 0.0 & 0.0 & 0.0 & 0.0 & \\cdots & 0.0 & 0.0 & 0.0 & 0.0 & 0.0\\\\0.0 & 5.457\\times10^{-24} & 0.0 & 0.0 & 0.0 & \\cdots & 0.0 & 0.0 & 0.0 & 0.0 & 0.0\\\\0.0 & 0.0 & 2.977\\times10^{-47} & 0.0 & 0.0 & \\cdots & 0.0 & 0.0 & 0.0 & 0.0 & 0.0\\\\0.0 & 0.0 & 0.0 & 1.625\\times10^{-70} & 0.0 & \\cdots & 0.0 & 0.0 & 0.0 & 0.0 & 0.0\\\\0.0 & 0.0 & 0.0 & 0.0 & 8.865\\times10^{-94} & \\cdots & 0.0 & 0.0 & 0.0 & 0.0 & 0.0\\\\\\vdots & \\vdots & \\vdots & \\vdots & \\vdots & \\ddots & \\vdots & \\vdots & \\vdots & \\vdots & \\vdots\\\\0.0 & 0.0 & 0.0 & 0.0 & 0.0 & \\cdots & 0.0 & 0.0 & 0.0 & 0.0 & 0.0\\\\0.0 & 0.0 & 0.0 & 0.0 & 0.0 & \\cdots & 0.0 & 0.0 & 0.0 & 0.0 & 0.0\\\\0.0 & 0.0 & 0.0 & 0.0 & 0.0 & \\cdots & 0.0 & 0.0 & 0.0 & 0.0 & 0.0\\\\0.0 & 0.0 & 0.0 & 0.0 & 0.0 & \\cdots & 0.0 & 0.0 & 0.0 & 0.0 & 0.0\\\\0.0 & 0.0 & 0.0 & 0.0 & 0.0 & \\cdots & 0.0 & 0.0 & 0.0 & 0.0 & 0.0\\\\\\end{array}\\right)\\end{equation*}"
      ],
      "text/plain": [
       "Quantum object: dims = [[20], [20]], shape = (20, 20), type = oper, isherm = True\n",
       "Qobj data =\n",
       "[[1.00000000e+000 0.00000000e+000 0.00000000e+000 0.00000000e+000\n",
       "  0.00000000e+000 0.00000000e+000 0.00000000e+000 0.00000000e+000\n",
       "  0.00000000e+000 0.00000000e+000 0.00000000e+000 0.00000000e+000\n",
       "  0.00000000e+000 0.00000000e+000 0.00000000e+000 0.00000000e+000\n",
       "  0.00000000e+000 0.00000000e+000 0.00000000e+000 0.00000000e+000]\n",
       " [0.00000000e+000 5.45659430e-024 0.00000000e+000 0.00000000e+000\n",
       "  0.00000000e+000 0.00000000e+000 0.00000000e+000 0.00000000e+000\n",
       "  0.00000000e+000 0.00000000e+000 0.00000000e+000 0.00000000e+000\n",
       "  0.00000000e+000 0.00000000e+000 0.00000000e+000 0.00000000e+000\n",
       "  0.00000000e+000 0.00000000e+000 0.00000000e+000 0.00000000e+000]\n",
       " [0.00000000e+000 0.00000000e+000 2.97744214e-047 0.00000000e+000\n",
       "  0.00000000e+000 0.00000000e+000 0.00000000e+000 0.00000000e+000\n",
       "  0.00000000e+000 0.00000000e+000 0.00000000e+000 0.00000000e+000\n",
       "  0.00000000e+000 0.00000000e+000 0.00000000e+000 0.00000000e+000\n",
       "  0.00000000e+000 0.00000000e+000 0.00000000e+000 0.00000000e+000]\n",
       " [0.00000000e+000 0.00000000e+000 0.00000000e+000 1.62466938e-070\n",
       "  0.00000000e+000 0.00000000e+000 0.00000000e+000 0.00000000e+000\n",
       "  0.00000000e+000 0.00000000e+000 0.00000000e+000 0.00000000e+000\n",
       "  0.00000000e+000 0.00000000e+000 0.00000000e+000 0.00000000e+000\n",
       "  0.00000000e+000 0.00000000e+000 0.00000000e+000 0.00000000e+000]\n",
       " [0.00000000e+000 0.00000000e+000 0.00000000e+000 0.00000000e+000\n",
       "  8.86516167e-094 0.00000000e+000 0.00000000e+000 0.00000000e+000\n",
       "  0.00000000e+000 0.00000000e+000 0.00000000e+000 0.00000000e+000\n",
       "  0.00000000e+000 0.00000000e+000 0.00000000e+000 0.00000000e+000\n",
       "  0.00000000e+000 0.00000000e+000 0.00000000e+000 0.00000000e+000]\n",
       " [0.00000000e+000 0.00000000e+000 0.00000000e+000 0.00000000e+000\n",
       "  0.00000000e+000 4.83735906e-117 0.00000000e+000 0.00000000e+000\n",
       "  0.00000000e+000 0.00000000e+000 0.00000000e+000 0.00000000e+000\n",
       "  0.00000000e+000 0.00000000e+000 0.00000000e+000 0.00000000e+000\n",
       "  0.00000000e+000 0.00000000e+000 0.00000000e+000 0.00000000e+000]\n",
       " [0.00000000e+000 0.00000000e+000 0.00000000e+000 0.00000000e+000\n",
       "  0.00000000e+000 0.00000000e+000 2.63955059e-140 0.00000000e+000\n",
       "  0.00000000e+000 0.00000000e+000 0.00000000e+000 0.00000000e+000\n",
       "  0.00000000e+000 0.00000000e+000 0.00000000e+000 0.00000000e+000\n",
       "  0.00000000e+000 0.00000000e+000 0.00000000e+000 0.00000000e+000]\n",
       " [0.00000000e+000 0.00000000e+000 0.00000000e+000 0.00000000e+000\n",
       "  0.00000000e+000 0.00000000e+000 0.00000000e+000 1.44029567e-163\n",
       "  0.00000000e+000 0.00000000e+000 0.00000000e+000 0.00000000e+000\n",
       "  0.00000000e+000 0.00000000e+000 0.00000000e+000 0.00000000e+000\n",
       "  0.00000000e+000 0.00000000e+000 0.00000000e+000 0.00000000e+000]\n",
       " [0.00000000e+000 0.00000000e+000 0.00000000e+000 0.00000000e+000\n",
       "  0.00000000e+000 0.00000000e+000 0.00000000e+000 0.00000000e+000\n",
       "  7.85910914e-187 0.00000000e+000 0.00000000e+000 0.00000000e+000\n",
       "  0.00000000e+000 0.00000000e+000 0.00000000e+000 0.00000000e+000\n",
       "  0.00000000e+000 0.00000000e+000 0.00000000e+000 0.00000000e+000]\n",
       " [0.00000000e+000 0.00000000e+000 0.00000000e+000 0.00000000e+000\n",
       "  0.00000000e+000 0.00000000e+000 0.00000000e+000 0.00000000e+000\n",
       "  0.00000000e+000 4.28839702e-210 0.00000000e+000 0.00000000e+000\n",
       "  0.00000000e+000 0.00000000e+000 0.00000000e+000 0.00000000e+000\n",
       "  0.00000000e+000 0.00000000e+000 0.00000000e+000 0.00000000e+000]\n",
       " [0.00000000e+000 0.00000000e+000 0.00000000e+000 0.00000000e+000\n",
       "  0.00000000e+000 0.00000000e+000 0.00000000e+000 0.00000000e+000\n",
       "  0.00000000e+000 0.00000000e+000 2.34000427e-233 0.00000000e+000\n",
       "  0.00000000e+000 0.00000000e+000 0.00000000e+000 0.00000000e+000\n",
       "  0.00000000e+000 0.00000000e+000 0.00000000e+000 0.00000000e+000]\n",
       " [0.00000000e+000 0.00000000e+000 0.00000000e+000 0.00000000e+000\n",
       "  0.00000000e+000 0.00000000e+000 0.00000000e+000 0.00000000e+000\n",
       "  0.00000000e+000 0.00000000e+000 0.00000000e+000 1.27684540e-256\n",
       "  0.00000000e+000 0.00000000e+000 0.00000000e+000 0.00000000e+000\n",
       "  0.00000000e+000 0.00000000e+000 0.00000000e+000 0.00000000e+000]\n",
       " [0.00000000e+000 0.00000000e+000 0.00000000e+000 0.00000000e+000\n",
       "  0.00000000e+000 0.00000000e+000 0.00000000e+000 0.00000000e+000\n",
       "  0.00000000e+000 0.00000000e+000 0.00000000e+000 0.00000000e+000\n",
       "  6.96722731e-280 0.00000000e+000 0.00000000e+000 0.00000000e+000\n",
       "  0.00000000e+000 0.00000000e+000 0.00000000e+000 0.00000000e+000]\n",
       " [0.00000000e+000 0.00000000e+000 0.00000000e+000 0.00000000e+000\n",
       "  0.00000000e+000 0.00000000e+000 0.00000000e+000 0.00000000e+000\n",
       "  0.00000000e+000 0.00000000e+000 0.00000000e+000 0.00000000e+000\n",
       "  0.00000000e+000 3.80173328e-303 0.00000000e+000 0.00000000e+000\n",
       "  0.00000000e+000 0.00000000e+000 0.00000000e+000 0.00000000e+000]\n",
       " [0.00000000e+000 0.00000000e+000 0.00000000e+000 0.00000000e+000\n",
       "  0.00000000e+000 0.00000000e+000 0.00000000e+000 0.00000000e+000\n",
       "  0.00000000e+000 0.00000000e+000 0.00000000e+000 0.00000000e+000\n",
       "  0.00000000e+000 0.00000000e+000 0.00000000e+000 0.00000000e+000\n",
       "  0.00000000e+000 0.00000000e+000 0.00000000e+000 0.00000000e+000]\n",
       " [0.00000000e+000 0.00000000e+000 0.00000000e+000 0.00000000e+000\n",
       "  0.00000000e+000 0.00000000e+000 0.00000000e+000 0.00000000e+000\n",
       "  0.00000000e+000 0.00000000e+000 0.00000000e+000 0.00000000e+000\n",
       "  0.00000000e+000 0.00000000e+000 0.00000000e+000 0.00000000e+000\n",
       "  0.00000000e+000 0.00000000e+000 0.00000000e+000 0.00000000e+000]\n",
       " [0.00000000e+000 0.00000000e+000 0.00000000e+000 0.00000000e+000\n",
       "  0.00000000e+000 0.00000000e+000 0.00000000e+000 0.00000000e+000\n",
       "  0.00000000e+000 0.00000000e+000 0.00000000e+000 0.00000000e+000\n",
       "  0.00000000e+000 0.00000000e+000 0.00000000e+000 0.00000000e+000\n",
       "  0.00000000e+000 0.00000000e+000 0.00000000e+000 0.00000000e+000]\n",
       " [0.00000000e+000 0.00000000e+000 0.00000000e+000 0.00000000e+000\n",
       "  0.00000000e+000 0.00000000e+000 0.00000000e+000 0.00000000e+000\n",
       "  0.00000000e+000 0.00000000e+000 0.00000000e+000 0.00000000e+000\n",
       "  0.00000000e+000 0.00000000e+000 0.00000000e+000 0.00000000e+000\n",
       "  0.00000000e+000 0.00000000e+000 0.00000000e+000 0.00000000e+000]\n",
       " [0.00000000e+000 0.00000000e+000 0.00000000e+000 0.00000000e+000\n",
       "  0.00000000e+000 0.00000000e+000 0.00000000e+000 0.00000000e+000\n",
       "  0.00000000e+000 0.00000000e+000 0.00000000e+000 0.00000000e+000\n",
       "  0.00000000e+000 0.00000000e+000 0.00000000e+000 0.00000000e+000\n",
       "  0.00000000e+000 0.00000000e+000 0.00000000e+000 0.00000000e+000]\n",
       " [0.00000000e+000 0.00000000e+000 0.00000000e+000 0.00000000e+000\n",
       "  0.00000000e+000 0.00000000e+000 0.00000000e+000 0.00000000e+000\n",
       "  0.00000000e+000 0.00000000e+000 0.00000000e+000 0.00000000e+000\n",
       "  0.00000000e+000 0.00000000e+000 0.00000000e+000 0.00000000e+000\n",
       "  0.00000000e+000 0.00000000e+000 0.00000000e+000 0.00000000e+000]]"
      ]
     },
     "execution_count": 103,
     "metadata": {},
     "output_type": "execute_result"
    }
   ],
   "source": [
    "rho_th"
   ]
  },
  {
   "cell_type": "code",
   "execution_count": 104,
   "id": "ca70c7b1",
   "metadata": {
    "ExecuteTime": {
     "end_time": "2022-03-21T16:28:00.163462Z",
     "start_time": "2022-03-21T16:28:00.154273Z"
    }
   },
   "outputs": [],
   "source": [
    "rho0 = tensor(rho_sys, rho_th)"
   ]
  },
  {
   "cell_type": "code",
   "execution_count": 105,
   "id": "b2365ab5",
   "metadata": {
    "ExecuteTime": {
     "end_time": "2022-03-21T16:28:00.194393Z",
     "start_time": "2022-03-21T16:28:00.184560Z"
    }
   },
   "outputs": [],
   "source": [
    "def s(i,t):\n",
    "    return((rho0*evolve(tensor(s0[i], identity_bath),t)).tr().real)"
   ]
  },
  {
   "cell_type": "code",
   "execution_count": 106,
   "id": "4aacb294",
   "metadata": {
    "ExecuteTime": {
     "end_time": "2022-03-21T16:28:00.242020Z",
     "start_time": "2022-03-21T16:28:00.230025Z"
    }
   },
   "outputs": [],
   "source": [
    "t = np.arange(0,12*np.pi,0.15)"
   ]
  },
  {
   "cell_type": "code",
   "execution_count": 107,
   "id": "be332396",
   "metadata": {
    "ExecuteTime": {
     "end_time": "2022-03-21T16:28:00.272717Z",
     "start_time": "2022-03-21T16:28:00.260725Z"
    }
   },
   "outputs": [],
   "source": [
    "def s_list(i):\n",
    "    list = np.zeros(len(t));\n",
    "    for j in range(len(t)):\n",
    "        list[j] = s(i,t[j])\n",
    "    return(list)"
   ]
  },
  {
   "cell_type": "code",
   "execution_count": 108,
   "id": "a58241b4",
   "metadata": {
    "ExecuteTime": {
     "end_time": "2022-03-21T16:28:07.663768Z",
     "start_time": "2022-03-21T16:28:00.286969Z"
    }
   },
   "outputs": [
    {
     "data": {
      "image/png": "[encoded data removed]",
      "text/plain": [
       "<Figure size 468x324 with 1 Axes>"
      ]
     },
     "metadata": {
      "needs_background": "light"
     },
     "output_type": "display_data"
    }
   ],
   "source": [
    "fig, ax = plt.subplots(figsize=(6.5, 4.5))  #size in inches\n",
    "\n",
    "# labeling\n",
    "\n",
    "ax.spines[\"top\"].set_visible(False)\n",
    "ax.spines[\"right\"].set_visible(False)\n",
    "ax.get_xaxis().tick_bottom()\n",
    "ax.get_yaxis().tick_left()\n",
    "\n",
    "ax.set_ylim(-0.6, 0.6)\n",
    "ax.set_xlabel(\"$\\omega_L t$\", fontsize=18)\n",
    "ax.set_ylabel(\"$S(t)$\", fontsize=18)\n",
    "\n",
    "##### data ######\n",
    "\n",
    "ax.plot(t, s_list(0), 'g-')\n",
    "ax.plot(t, s_list(1), 'k-')\n",
    "ax.plot(t, s_list(2), 'b-')\n",
    "\n",
    "plt.savefig('graph.jpg', dpi=300)"
   ]
  }
 ],
 "metadata": {
  "kernelspec": {
   "display_name": "Python 3 (ipykernel)",
   "language": "python",
   "name": "python3"
  },
  "language_info": {
   "codemirror_mode": {
    "name": "ipython",
    "version": 3
   },
   "file_extension": ".py",
   "mimetype": "text/x-python",
   "name": "python",
   "nbconvert_exporter": "python",
   "pygments_lexer": "ipython3",
   "version": "3.9.7"
  },
  "toc": {
   "base_numbering": 1,
   "nav_menu": {},
   "number_sections": true,
   "sideBar": true,
   "skip_h1_title": false,
   "title_cell": "Table of Contents",
   "title_sidebar": "Contents",
   "toc_cell": false,
   "toc_position": {},
   "toc_section_display": true,
   "toc_window_display": false
  }
 },
 "nbformat": 4,
 "nbformat_minor": 5
}
