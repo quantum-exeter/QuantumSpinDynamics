{
 "cells": [
  {
   "cell_type": "markdown",
   "id": "3fa0fa83",
   "metadata": {},
   "source": [
    "# Plot Statics"
   ]
  },
  {
   "cell_type": "code",
   "execution_count": 17,
   "id": "c951f2d6",
   "metadata": {
    "ExecuteTime": {
     "end_time": "2022-06-08T14:58:10.082503Z",
     "start_time": "2022-06-08T14:58:10.077854Z"
    }
   },
   "outputs": [],
   "source": [
    "import numpy as np\n",
    "import numpy.random as rn\n",
    "import scipy.stats as st\n",
    "import scipy.fftpack as ft\n",
    "import scipy.integrate as od\n",
    "import scipy.signal as sig\n",
    "import scipy.interpolate as intpl\n",
    "import matplotlib\n",
    "import matplotlib.pyplot as plt\n",
    "from mpl_toolkits.mplot3d import Axes3D\n",
    "from matplotlib import rc\n",
    "import tqdm as tqdm\n",
    "import pickle\n",
    "from scikits.odes.odeint import odeint\n",
    "\n",
    "# Say, \"the default sans-serif font is COMIC SANS\"\n",
    "matplotlib.rcParams['font.sans-serif'] = \"Arial\"  #\"Times New Roman\"\n",
    "# Then, \"ALWAYS use sans-serif fonts\"\n",
    "matplotlib.rcParams['font.family'] = \"sans-serif\"\n",
    "matplotlib.rcParams['mathtext.fontset'] = \"cm\"\n",
    "#rc('text', usetex=True)"
   ]
  },
  {
   "cell_type": "code",
   "execution_count": 18,
   "id": "409f56fb",
   "metadata": {
    "ExecuteTime": {
     "end_time": "2022-06-08T14:58:10.534413Z",
     "start_time": "2022-06-08T14:58:10.517892Z"
    }
   },
   "outputs": [],
   "source": [
    "import pandas as pd"
   ]
  },
  {
   "cell_type": "code",
   "execution_count": 19,
   "id": "03c379fd",
   "metadata": {
    "ExecuteTime": {
     "end_time": "2022-06-08T14:58:12.122545Z",
     "start_time": "2022-06-08T14:58:12.093172Z"
    }
   },
   "outputs": [],
   "source": [
    "dataG = np.array(pd.read_csv(r'..//data//gibbs.csv')) \n",
    "data1D = np.array(pd.read_csv(r'..//data//mfgs1D.csv'))\n",
    "dataszA = np.array(pd.read_csv(r'..//data//sz_analytical.csv'))\n",
    "data2D = np.array(pd.read_csv(r'..//data//mfgs2D.csv')) \n",
    "data3D = np.array(pd.read_csv(r'..//data//mfgs3D.csv')) "
   ]
  },
  {
   "cell_type": "code",
   "execution_count": 22,
   "id": "d8923087",
   "metadata": {
    "ExecuteTime": {
     "end_time": "2022-06-08T14:58:20.443025Z",
     "start_time": "2022-06-08T14:58:19.955995Z"
    }
   },
   "outputs": [
    {
     "data": {
      "image/png": "[encoded data removed]",
      "text/plain": [
       "<Figure size 468x324 with 1 Axes>"
      ]
     },
     "metadata": {
      "needs_background": "light"
     },
     "output_type": "display_data"
    }
   ],
   "source": [
    "fig, ax = plt.subplots(figsize=(6.5, 4.5))  #size in inches\n",
    "\n",
    "ax.get_xaxis().tick_bottom()\n",
    "ax.get_yaxis().tick_left()\n",
    "\n",
    "ax.set_xlabel(\"$T$\", fontsize=12)\n",
    "ax.set_ylabel(\"$\\langle \\\\hat{S}_z\\\\rangle$\", fontsize=12)\n",
    "\n",
    "ax.set_xlim(0.1, 10000)\n",
    "\n",
    "##### Data ######\n",
    "\n",
    "# ax.semilogx(dataG[:,0], -dataG[:,3], 'k-', label = \"Quantum Gibbs State\") # Gibbs State\n",
    "ax.semilogx(data1D[:,0], -data1D[:,5], 'k-', label = \"1D Quantum MFGS\") # 1D MFGS\n",
    "ax.semilogx(data1D[:,0], -0.5*dataszA[:,1], 'k--', label = \"1D Analytical Expression\") # 1D MFGS\n",
    "# # ax.semilogx(data2D[:,0], -data2D[:,5], 'g-', label = \"2D Quantum MFGS\") # 2D MFGS\n",
    "# # ax.semilogx(data3D[:,0], -data3D[:,5], 'r-', label = \"3D Quantum MFGS\") # 3D MFGS\n",
    "\n",
    "# ax.semilogx(data1D[:,0], -data1D[:,6], 'k--') # 1D MFGS Ground State\n",
    "# ax.semilogx(data2D[:,0], -data2D[:,6], 'g--') # 2D MFGS Ground State\n",
    "# ax.semilogx(data3D[:,0], -data3D[:,6], 'r--') # 3D MFGS Ground State\n",
    "\n",
    "##### Plot ######\n",
    "\n",
    "plt.legend(loc=\"upper right\")\n",
    "plt.grid(which='both', lw='0.2')\n",
    "plt.title('Steady-State Magnetisations for Isotropic Coupling (Prm. A)')\n",
    "\n",
    "plt.savefig(\"C://Users//crh222//Dropbox//PhD//1. RC Mapping//Graphs//MFGS_analytics.pdf\", dpi=300)"
   ]
  },
  {
   "cell_type": "code",
   "execution_count": null,
   "id": "59910762",
   "metadata": {},
   "outputs": [],
   "source": []
  }
 ],
 "metadata": {
  "kernelspec": {
   "display_name": "Python 3 (ipykernel)",
   "language": "python",
   "name": "python3"
  },
  "language_info": {
   "codemirror_mode": {
    "name": "ipython",
    "version": 3
   },
   "file_extension": ".py",
   "mimetype": "text/x-python",
   "name": "python",
   "nbconvert_exporter": "python",
   "pygments_lexer": "ipython3",
   "version": "3.9.7"
  }
 },
 "nbformat": 4,
 "nbformat_minor": 5
}
