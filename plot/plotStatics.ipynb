{
 "cells": [
  {
   "attachments": {},
   "cell_type": "markdown",
   "id": "3fa0fa83",
   "metadata": {},
   "source": [
    "# Plot Statics #"
   ]
  },
  {
   "attachments": {},
   "cell_type": "markdown",
   "id": "219e8d03",
   "metadata": {},
   "source": [
    "#### Preamble ####"
   ]
  },
  {
   "cell_type": "code",
   "execution_count": 2,
   "id": "c951f2d6",
   "metadata": {
    "ExecuteTime": {
     "end_time": "2022-06-17T08:51:34.276302Z",
     "start_time": "2022-06-17T08:51:34.266188Z"
    }
   },
   "outputs": [],
   "source": [
    "import numpy as np\n",
    "import numpy.random as rn\n",
    "import matplotlib\n",
    "import matplotlib.pyplot as plt\n",
    "import pandas as pd\n",
    "from mpl_toolkits.axes_grid1.inset_locator import inset_axes\n",
    "from matplotlib import ticker\n",
    "\n",
    "from scipy.linalg import expm\n",
    "\n",
    "matplotlib.rcParams['text.usetex'] = True\n",
    "matplotlib.rcParams['text.latex.preamble'] = r'\\usepackage{bm}'\n",
    "matplotlib.rcParams['font.size'] = 8.5\n",
    "matplotlib.rcParams['legend.fontsize'] = 8.5\n",
    "matplotlib.rcParams['font.family'] = 'serif'\n",
    "matplotlib.rcParams['font.serif'] = ['Computer Modern']"
   ]
  },
  {
   "attachments": {},
   "cell_type": "markdown",
   "id": "3daddd0c",
   "metadata": {},
   "source": [
    "#### Import data ####"
   ]
  },
  {
   "attachments": {},
   "cell_type": "markdown",
   "id": "d4066d15",
   "metadata": {},
   "source": [
    "##### Windows #####"
   ]
  },
  {
   "cell_type": "code",
   "execution_count": 3,
   "id": "58ecddce",
   "metadata": {},
   "outputs": [],
   "source": [
    "#### Gibbs ####\n",
    "dataG_qu = np.array(pd.read_csv(r'../paper_data/qu_Gibbs.csv'))\n",
    "dataG_cl = np.array(pd.read_csv(r'C:/Users/crh222/ClassicalSpinMFGS/paper_data/cl_Gibbs.csv'))\n",
    "\n",
    "#### prmd ####\n",
    "data1D_prmd = np.array(pd.read_csv(r'../paper_data/qu_MFGS_1D_prmd_150.csv'))\n",
    "data1D_prmd_cl = np.array(pd.read_csv(r'C://Users/crh222/ClassicalSpinMFGS/paper_data/cl_MFGS_1D_prmd.csv'))\n",
    "\n",
    "data3D_prmd = np.array(pd.read_csv(r'../paper_data/qu_MFGS_3D_prmd_5.csv'))\n",
    "data3D_prmd_cl = np.array(pd.read_csv(r'C:/Users/crh222/ClassicalSpinMFGS/paper_data/cl_MFGS_3D_prmd.csv'))\n",
    "\n",
    "data_tempo = np.array(pd.read_csv(r'../paper_data/TEMPO.csv'))\n",
    "\n",
    "#### prmc - Weak ####\n",
    "data3D_wk = np.array(pd.read_csv(r'../paper_data/WK_analytical_prmc2.csv'))\n",
    "data3D_MFGS_wk = np.array(pd.read_csv(r'../paper_data/WK_MFGS_prmc.csv'))"
   ]
  },
  {
   "attachments": {},
   "cell_type": "markdown",
   "id": "f8904ae3",
   "metadata": {},
   "source": [
    "#### sz ####"
   ]
  },
  {
   "attachments": {},
   "cell_type": "markdown",
   "id": "ff789a2e",
   "metadata": {},
   "source": [
    "##### Single- vs. multi-bath ####"
   ]
  },
  {
   "cell_type": "code",
   "execution_count": 69,
   "id": "725559d7",
   "metadata": {},
   "outputs": [
    {
     "data": {
      "image/png": "[encoded data removed]",
      "text/plain": [
       "<Figure size 475.2x198 with 2 Axes>"
      ]
     },
     "metadata": {
      "needs_background": "light"
     },
     "output_type": "display_data"
    }
   ],
   "source": [
    "fig, ax = plt.subplots(1, 2, figsize=(6.6, 2.75))\n",
    "\n",
    "bcmap = plt.get_cmap('Blues') # Blue colormap\n",
    "gcmap = plt.get_cmap('Greys') # Grey colormap\n",
    "\n",
    "ax[0].set_xlabel(\"$2k_B T/\\hbar\\omega_L$\")\n",
    "ax[1].set_xlabel(\"$2k_B T/\\hbar\\omega_L$\")\n",
    "ax[0].set_ylabel(\"$s_z$\")\n",
    "\n",
    "for i in [0, 1]:\n",
    "        ax[i].set_xlim(0.5e-2, 1.0e2)\n",
    "        ax[i].set_ylim(0.0, 1.05)\n",
    "\n",
    "##### Data 3D ######\n",
    "ax[0].semilogx(dataG_qu[:,0], dataG_qu[:,3], color=bcmap(0.6), linestyle='--', label='QG', zorder=1) # Gibbs\n",
    "ax[0].semilogx(data3D_prmd[:,0], data3D_prmd[:,3], color=bcmap(0.8), label='QMF', zorder=2) # MFGS\n",
    "\n",
    "ax[0].semilogx(data3D_prmd[:,0], np.sqrt(data3D_prmd[:,1]**2 + data3D_prmd[:,2]**2 + data3D_prmd[:,3]**2), color=gcmap(0.35), linestyle='-', linewidth=4, zorder=0, label='$|\\\\bm{s}|$') # MFGS\n",
    "\n",
    "ax[0].plot(0.01, 0.745, color=bcmap(0.8), marker='x', linestyle='None', label='QD', zorder=3) # Dynamics\n",
    "ax[0].plot(0.1, 0.745, color=bcmap(0.8), marker='x', linestyle='None', zorder=3) # Dynamics\n",
    "ax[0].plot(1, 0.476, color=bcmap(0.8), marker='x', linestyle='None', zorder=3) # Dynamics\n",
    "ax[0].plot(10, 0.0942, color=bcmap(0.8), marker='x', linestyle='None', zorder=3) # Dynamics\n",
    "\n",
    "ax[0].semilogx(data_tempo[:,0], data_tempo[:,1], 'ko', markersize=4, label='TEMPO', zorder=4) # TEMPO\n",
    "\n",
    "##### Data 1D ######\n",
    "ax[1].semilogx(dataG_qu[:,0], dataG_qu[:,3], color=bcmap(0.6), linestyle='--', zorder=1) # Gibbs\n",
    "ax[1].semilogx(data1D_prmd[:,0], data1D_prmd[:,3], color=bcmap(0.8), zorder=3) # MFGS\n",
    "\n",
    "ax[1].plot(0.01, 0.685, color=bcmap(0.8), marker='x', linestyle='None', zorder=4) # Dynamics\n",
    "ax[1].plot(0.1, 0.685, color=bcmap(0.8), marker='x', linestyle='None', zorder=4) # Dynamics\n",
    "ax[1].plot(1, 0.417, color=bcmap(0.8), marker='x', linestyle='None', zorder=4) # Dynamics\n",
    "ax[1].plot(10, 0.086, color=bcmap(0.8), marker='x', linestyle='None', zorder=4) # Dynamics\n",
    "\n",
    "ax[1].fill_between(data1D_prmd[:,0], np.sqrt(data1D_prmd[:,1]**2 + data1D_prmd[:,2]**2 + data1D_prmd[:,3]**2), data1D_prmd[:,3], color=gcmap(0.15), zorder=0)\n",
    "\n",
    "ax[1].semilogx(data1D_prmd[:,0], np.sqrt(data1D_prmd[:,1]**2 + data1D_prmd[:,2]**2 + data1D_prmd[:,3]**2), color=gcmap(0.35), linestyle='-', linewidth=3, zorder=2) # MFGS\n",
    "\n",
    "ax[0].text(0.08e-2, 0.98, '\\\\textbf{a)}')\n",
    "ax[1].text(0.08e-2, 0.98, '\\\\textbf{b)}')\n",
    "\n",
    "ax[0].legend(ncol=1, loc='lower left', frameon=False, handlelength=1.8)\n",
    "\n",
    "fig.tight_layout()\n",
    "\n",
    "plt.savefig('C:/Users/crh222/Dropbox/charlie/multi_bath/paper/graphs/new_fig.pdf', dpi=300) # Export for Windows"
   ]
  },
  {
   "attachments": {},
   "cell_type": "markdown",
   "id": "3929a031",
   "metadata": {},
   "source": [
    "##### Quantum vs. classical ####"
   ]
  },
  {
   "cell_type": "code",
   "execution_count": 36,
   "id": "9e706cbe",
   "metadata": {},
   "outputs": [
    {
     "data": {
      "image/png": "[encoded data removed]",
      "text/plain": [
       "<Figure size 230.4x190.8 with 1 Axes>"
      ]
     },
     "metadata": {
      "needs_background": "light"
     },
     "output_type": "display_data"
    }
   ],
   "source": [
    "fig, ax = plt.subplots(1, 1, figsize=(3.2, 2.65))\n",
    "\n",
    "bcmap = plt.get_cmap('Blues') # Blue colormap\n",
    "ocmap = plt.get_cmap('YlGn') # Green colormap\n",
    "\n",
    "ax.set_xlabel(\"$2k_B T/\\hbar\\omega_L$\")\n",
    "ax.set_ylabel(\"$s_z$\")\n",
    "\n",
    "ax.set_xlim(0.5e-2, 1.0e2)\n",
    "ax.set_ylim(0.0, 1.05)\n",
    "\n",
    "def clGibbs(T): # Analytical classical Gibbs state\n",
    "    return(1/np.tanh(1/T) - T)\n",
    "\n",
    "##### Classical ######\n",
    "# ax.semilogx(dataG_qu[:,0], clGibbs(dataG_qu[:,0]), 'r-') # Gibbs (Analytical)\n",
    "ax.semilogx(dataG_cl[:,0], dataG_cl[:,3], color=ocmap(0.4), linestyle='--', zorder=4, label='CG') # Gibbs (Numerical)\n",
    "ax.semilogx(data3D_prmd_cl[:,0], data3D_prmd_cl[:,3], color=ocmap(0.8), linestyle='-', linewidth=3, zorder=3, label='CMF') # MFGS\n",
    "\n",
    "##### Quantum ######\n",
    "ax.semilogx(dataG_qu[:,0], dataG_qu[:,3], color=bcmap(0.6), linestyle='--', label='QG', zorder=0) # Gibbs\n",
    "ax.semilogx(data3D_prmd[:,0], data3D_prmd[:,3], color=bcmap(0.8), label='QMF', zorder=1) # MFGS\n",
    "\n",
    "ax.legend(ncol=1, loc='lower left', frameon=False, handlelength=1.7)\n",
    "\n",
    "ax.set_xticks([1.0e-2, 1.0e-1, 1, 10, 100])           \n",
    "ax.xaxis.set_major_locator(ticker.LogLocator(numticks=99))\n",
    "ax.xaxis.set_minor_locator(ticker.LogLocator(numticks=99, subs='auto'))\n",
    "\n",
    "fig.tight_layout()\n",
    "\n",
    "# plt.savefig('/Users/charliehogg/Dropbox/charlie/multi_bath/paper/graphs/sz_T_prmd_qu_cl.pdf', dpi=300) # Export for Mac\n",
    "plt.savefig('C:/Users/crh222/Dropbox/charlie/multi_bath/paper/graphs/classical_quantum.pdf', dpi=300) # Export for Windows"
   ]
  },
  {
   "attachments": {},
   "cell_type": "markdown",
   "id": "7cb1b1de",
   "metadata": {},
   "source": [
    "#### Weak ####"
   ]
  },
  {
   "cell_type": "code",
   "execution_count": 37,
   "id": "e9d57b3f",
   "metadata": {},
   "outputs": [
    {
     "name": "stderr",
     "output_type": "stream",
     "text": [
      "C:\\Users\\crh222\\AppData\\Local\\Temp\\ipykernel_12296\\1393569495.py:34: UserWarning: This figure includes Axes that are not compatible with tight_layout, so results might be incorrect.\n",
      "  fig.tight_layout(w_pad = 0.5)\n"
     ]
    },
    {
     "data": {
      "image/png": "[encoded data removed]",
      "text/plain": [
       "<Figure size 230.4x190.8 with 2 Axes>"
      ]
     },
     "metadata": {
      "needs_background": "light"
     },
     "output_type": "display_data"
    }
   ],
   "source": [
    "fig, ax = plt.subplots(1, 1, figsize=(3.2, 2.65))\n",
    "\n",
    "bcmap = plt.get_cmap('Blues')\n",
    "ocmap = plt.get_cmap('YlGn')\n",
    "rcmap = plt.get_cmap('Greys')\n",
    "\n",
    "ax.set_xlabel(\"$2k_B T/\\hbar\\omega_L$\")\n",
    "ax.set_ylabel(\"$s_z$\")\n",
    "\n",
    "ax.set_xlim(1.0e-2, 1.0e2)\n",
    "ax.set_ylim(0.0, 1.05)\n",
    "\n",
    "##### Weak ######\n",
    "\n",
    "ax.semilogx(dataG_qu[:,0], dataG_qu[:,3], color=bcmap(0.6), linestyle='--', label='QG') # Gibbs\n",
    "ax.semilogx(data3D_MFGS_wk[:,0], data3D_MFGS_wk[:,1], color=bcmap(0.8), label='QMF') # MFGS\n",
    "ax.semilogx(2*data3D_wk[:,0], data3D_wk[:,1], 'o', markersize=4, label='WK', color=rcmap(0.5)) # Weak Approximation\n",
    "\n",
    "axins0 = inset_axes(ax, width=\"29%\", height=\"22%\", loc=1, borderpad=0.8)\n",
    "axins0.semilogx(dataG_qu[:,0], dataG_qu[:,3], color=bcmap(0.6), linestyle='--')\n",
    "axins0.axhline(0.9944940859343847, color=rcmap(0.5), label='WK $T=0$K')\n",
    "axins0.semilogx(data3D_MFGS_wk[:,0], data3D_MFGS_wk[:,1], color=bcmap(0.8))\n",
    "axins0.semilogx(2*data3D_wk[:,0], data3D_wk[:,1], 'o', markersize=3, color=rcmap(0.5))\n",
    "\n",
    "axins0.tick_params(labelsize=6)\n",
    "\n",
    "axins0.set_xlim(1.0e-2, 0.5)\n",
    "axins0.set_xticks([1.0e-2, 1.0e-1, 0.5], ['0.01', '0.1', '0.5'])\n",
    "axins0.set_ylim(0.9944940859343847-0.004, 1.003)\n",
    "axins0.set_yticks([0.9944940859343847, 1], ['0.994', '1.000'])\n",
    "\n",
    "fig.legend(ncol=1, loc=(0.195, 0.23), frameon=False, handlelength=1.6)\n",
    "\n",
    "fig.tight_layout(w_pad = 0.5)\n",
    "\n",
    "plt.savefig('C://Users/crh222/Dropbox/charlie/multi_bath/paper/graphs/weak.pdf', dpi=300) # Export for Windows"
   ]
  }
 ],
 "metadata": {
  "kernelspec": {
   "display_name": "Python 3",
   "language": "python",
   "name": "python3"
  },
  "language_info": {
   "codemirror_mode": {
    "name": "ipython",
    "version": 3
   },
   "file_extension": ".py",
   "mimetype": "text/x-python",
   "name": "python",
   "nbconvert_exporter": "python",
   "pygments_lexer": "ipython3",
   "version": "3.10.11"
  },
  "vscode": {
   "interpreter": {
    "hash": "aee8b7b246df8f9039afb4144a1f6fd8d2ca17a180786b69acc140d282b71a49"
   }
  }
 },
 "nbformat": 4,
 "nbformat_minor": 5
}
