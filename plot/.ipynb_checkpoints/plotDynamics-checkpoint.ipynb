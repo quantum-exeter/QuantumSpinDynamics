{
 "cells": [
  {
   "cell_type": "markdown",
   "id": "3fa0fa83",
   "metadata": {},
   "source": [
    "# Plot Dynamics"
   ]
  },
  {
   "cell_type": "code",
   "execution_count": 1,
   "id": "c951f2d6",
   "metadata": {
    "ExecuteTime": {
     "end_time": "2022-06-06T14:23:15.315424Z",
     "start_time": "2022-06-06T14:23:13.941001Z"
    }
   },
   "outputs": [],
   "source": [
    "import numpy as np\n",
    "import numpy.random as rn\n",
    "import scipy.stats as st\n",
    "import scipy.fftpack as ft\n",
    "import scipy.integrate as od\n",
    "import scipy.signal as sig\n",
    "import scipy.interpolate as intpl\n",
    "import matplotlib\n",
    "import matplotlib.pyplot as plt\n",
    "from mpl_toolkits.mplot3d import Axes3D\n",
    "from matplotlib import rc\n",
    "import tqdm as tqdm\n",
    "import pickle\n",
    "from scikits.odes.odeint import odeint\n",
    "\n",
    "# Say, \"the default sans-serif font is COMIC SANS\"\n",
    "matplotlib.rcParams['font.sans-serif'] = \"Arial\"  #\"Times New Roman\"\n",
    "# Then, \"ALWAYS use sans-serif fonts\"\n",
    "matplotlib.rcParams['font.family'] = \"sans-serif\"\n",
    "matplotlib.rcParams['mathtext.fontset'] = \"cm\"\n",
    "#rc('text', usetex=True)"
   ]
  },
  {
   "cell_type": "code",
   "execution_count": 2,
   "id": "409f56fb",
   "metadata": {
    "ExecuteTime": {
     "end_time": "2022-06-06T14:23:15.798539Z",
     "start_time": "2022-06-06T14:23:15.317407Z"
    }
   },
   "outputs": [],
   "source": [
    "import pandas as pd"
   ]
  },
  {
   "cell_type": "code",
   "execution_count": 3,
   "id": "03c379fd",
   "metadata": {
    "ExecuteTime": {
     "end_time": "2022-06-06T14:23:15.814714Z",
     "start_time": "2022-06-06T14:23:15.800710Z"
    }
   },
   "outputs": [],
   "source": [
    "dataDyn1D = np.array(pd.read_csv(r'..//data//dyn1D.csv')) \n",
    "# dataDyn2D = np.array(pd.read_csv(r'..//data//dyn2D.csv')) \n",
    "# dataDyn3D = np.array(pd.read_csv(r'..//data//dyn3D.csv')) "
   ]
  },
  {
   "cell_type": "code",
   "execution_count": 4,
   "id": "d8923087",
   "metadata": {
    "ExecuteTime": {
     "end_time": "2022-06-06T14:23:16.465110Z",
     "start_time": "2022-06-06T14:23:15.817148Z"
    }
   },
   "outputs": [
    {
     "data": {
      "image/png": "[encoded data removed]",
      "text/plain": [
       "<Figure size 468x324 with 1 Axes>"
      ]
     },
     "metadata": {
      "needs_background": "light"
     },
     "output_type": "display_data"
    }
   ],
   "source": [
    "fig, ax = plt.subplots(figsize=(6.5, 4.5))  #size in inches\n",
    "\n",
    "ax.get_xaxis().tick_bottom()\n",
    "ax.get_yaxis().tick_left()\n",
    "\n",
    "ax.set_xlabel(\"$t$\", fontsize=12)\n",
    "ax.set_ylabel(\"$\\langle \\\\hat{S}_z\\\\rangle$\", fontsize=12)\n",
    "\n",
    "\n",
    "##### Data ######\n",
    "\n",
    "ax.plot(dataDyn1D[:,0], -dataDyn1D[:,3], 'b-', label = \"1D\") # 1D Dynamics\n",
    "# ax.plot(dataDyn1D[:,0], -dataDyn2D[:,3], 'k-', label = \"2D\") # 2D Dynamics\n",
    "# ax.plot(dataDyn3D[:,0], -dataDyn3D[:,3], 'b-', label = \"3D\") # 3D Dynamics\n",
    "\n",
    "##### Plot ######\n",
    "\n",
    "plt.legend(loc=\"upper right\")\n",
    "plt.grid(which='both', lw='0.2')\n",
    "plt.title('Magnetisations for Isotropic Coupling (Prm. A)')\n",
    "\n",
    "plt.savefig(\"C://Users//crh222//Dropbox//PhD//1. MFGS in Higher-Dimensional Couplings//Graphs//dyn_dim_dep.pdf\", dpi=300)"
   ]
  }
 ],
 "metadata": {
  "kernelspec": {
   "display_name": "Python 3 (ipykernel)",
   "language": "python",
   "name": "python3"
  },
  "language_info": {
   "codemirror_mode": {
    "name": "ipython",
    "version": 3
   },
   "file_extension": ".py",
   "mimetype": "text/x-python",
   "name": "python",
   "nbconvert_exporter": "python",
   "pygments_lexer": "ipython3",
   "version": "3.9.7"
  }
 },
 "nbformat": 4,
 "nbformat_minor": 5
}
