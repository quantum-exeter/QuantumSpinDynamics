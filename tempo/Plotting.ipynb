{
 "cells": [
  {
   "cell_type": "code",
   "execution_count": 18,
   "metadata": {},
   "outputs": [],
   "source": [
    "import numpy as np\n",
    "import matplotlib.pyplot as plt\n",
    "plt.rcParams.update({\n",
    "    \"text.usetex\": True,\n",
    "})"
   ]
  },
  {
   "cell_type": "code",
   "execution_count": 19,
   "metadata": {},
   "outputs": [
    {
     "name": "stdout",
     "output_type": "stream",
     "text": [
      "['α', 'ω0', 'Γ', 'dt', 'dkmax', 'epsrel', 'T', 'sss']\n"
     ]
    }
   ],
   "source": [
    "D = [np.load(\"outputs/ss_run_1658771030.npz\"), np.load(\"outputs/ss_run_1658821005.npz\")]\n",
    "print(list(D[0].keys()))"
   ]
  },
  {
   "cell_type": "code",
   "execution_count": 20,
   "metadata": {},
   "outputs": [
    {
     "data": {
      "text/plain": [
       "(array(10.), array(2.), array(1.))"
      ]
     },
     "execution_count": 20,
     "metadata": {},
     "output_type": "execute_result"
    }
   ],
   "source": [
    "D[0][\"α\"], D[0][\"ω0\"], D[0][\"Γ\"]#, D[\"theta\"]/np.pi"
   ]
  },
  {
   "cell_type": "code",
   "execution_count": 23,
   "metadata": {},
   "outputs": [
    {
     "name": "stdout",
     "output_type": "stream",
     "text": [
      "(100, 2)\n"
     ]
    }
   ],
   "source": [
    "C = np.loadtxt(\"charlie/MFGS_1D_x_prma_100.csv\", delimiter=\",\", skiprows=1)\n",
    "# C = np.loadtxt(\"charlie/MFGS_3D_xyz_prma_5.csv\", delimiter=\",\", skiprows=1)\n",
    "# C = np.loadtxt(\"charlie/MFGS_3D_xyz_prma_10.csv\", delimiter=\",\", skiprows=1)\n",
    "print(C.shape)"
   ]
  },
  {
   "cell_type": "code",
   "execution_count": 24,
   "metadata": {},
   "outputs": [
    {
     "data": {
      "image/png": "[encoded data removed]",
      "text/plain": [
       "<Figure size 432x288 with 1 Axes>"
      ]
     },
     "metadata": {
      "needs_background": "light"
     },
     "output_type": "display_data"
    }
   ],
   "source": [
    "plt.figure()\n",
    "for d in D:\n",
    "    plt.semilogx(d[\"T\"], -d[\"sss\"][:,2], '--o', color='C0')\n",
    "plt.semilogx(C[:,0], -C[:,1], '-', color='C1', linewidth=2.0)\n",
    "plt.tight_layout()\n",
    "plt.show()\n",
    "# plt.savefig(\"outputs/charlie_comp_1d.pdf\")"
   ]
  },
  {
   "cell_type": "markdown",
   "metadata": {},
   "source": [
    "---------------------"
   ]
  },
  {
   "cell_type": "code",
   "execution_count": 298,
   "metadata": {},
   "outputs": [],
   "source": [
    "# D = [np.load(\"outputs/run_3d_T0.01_1658822870.npz\"),\n",
    "#      np.load(\"outputs/run_3d_T0.01873817422860384_1658822870.npz\"),\n",
    "#      np.load(\"outputs/run_3d_T0.03511191734215131_1658822870.npz\"),\n",
    "#      np.load(\"outputs/run_3d_T0.0657933224657568_1658822870.npz\"),\n",
    "#      np.load(\"outputs/run_3d_T0.12328467394420659_1658822870.npz\"),\n",
    "#      np.load(\"outputs/run_3d_T0.23101297000831592_1658822870.npz\"),\n",
    "#      np.load(\"outputs/run_3d_T0.4328761281083057_1658822870.npz\"),\n",
    "#      np.load(\"outputs/run_3d_T0.8111308307896868_1658822870.npz\"),\n",
    "#      np.load(\"outputs/run_3d_T1.5199110829529332_1658822870.npz\")]\n",
    "\n",
    "# D = [np.load(\"outputs/run_3d_T0.01_1658829742.npz\"),\n",
    "#      np.load(\"outputs/run_3d_T0.01873817422860384_1658829742.npz\"),\n",
    "#      np.load(\"outputs/run_3d_T0.03511191734215131_1658829742.npz\")]\n",
    "\n",
    "# D = [np.load(f) for f in\n",
    "#      [\"outputs/run_3d_T0.01_1658857049.npz\",\n",
    "#       \"outputs/run_3d_T0.01873817422860384_1658857049.npz\",\n",
    "#       \"outputs/run_3d_T0.03511191734215131_1658857049.npz\",\n",
    "#       \"outputs/run_3d_T0.0657933224657568_1658857049.npz\",\n",
    "#       \"outputs/run_3d_T0.12328467394420659_1658857049.npz\",\n",
    "#       \"outputs/run_3d_T0.23101297000831592_1658857049.npz\",\n",
    "#       \"outputs/run_3d_T0.4328761281083057_1658857049.npz\",\n",
    "#       \"outputs/run_3d_T0.8111308307896868_1658857049.npz\",\n",
    "#       \"outputs/run_3d_T1.5199110829529332_1658857049.npz\"]]\n",
    "\n",
    "# D = [np.load(f) for f in\n",
    "#      [\"outputs/run_3d_T0.01_1658879444.npz\"]]\n",
    "\n",
    "# D = [np.load(f) for f in\n",
    "#      [\"outputs/run_3d_T0.01_1658964001.npz\",\n",
    "#       \"outputs/run_3d_T0.01873817422860384_1658964001.npz\",\n",
    "#       \"outputs/run_3d_T0.03511191734215131_1658964001.npz\",\n",
    "#       \"outputs/run_3d_T0.0657933224657568_1658964001.npz\",\n",
    "#       \"outputs/run_3d_T0.12328467394420659_1658964001.npz\",\n",
    "#       \"outputs/run_3d_T0.23101297000831592_1658964001.npz\",\n",
    "#       \"outputs/run_3d_T0.4328761281083057_1658964001.npz\",\n",
    "#       \"outputs/run_3d_T0.8111308307896868_1658964001.npz\",\n",
    "#       \"outputs/run_3d_T1.5199110829529332_1658964001.npz\",\n",
    "#       \"outputs/run_3d_T2.848035868435799_1658964001.npz\"]]\n",
    "\n",
    "# D = [np.load(f) for f in\n",
    "#      [\"outputs/run_3d_T0.01_1658991560.npz\",\n",
    "#       \"outputs/run_3d_T0.01873817422860384_1658991560.npz\",\n",
    "#       \"outputs/run_3d_T0.03511191734215131_1658991560.npz\",\n",
    "#       \"outputs/run_3d_T0.0657933224657568_1658991560.npz\",\n",
    "#       \"outputs/run_3d_T0.12328467394420659_1658991560.npz\",\n",
    "#       \"outputs/run_3d_T0.23101297000831592_1658991560.npz\",\n",
    "#       \"outputs/run_3d_T0.4328761281083057_1658991560.npz\",\n",
    "#       \"outputs/run_3d_T0.8111308307896868_1658991560.npz\",\n",
    "#       \"outputs/run_3d_T1.5199110829529332_1658991560.npz\",\n",
    "#       \"outputs/run_3d_T2.848035868435799_1658991560.npz\"]]\n",
    "\n",
    "# D = [np.load(f) for f in\n",
    "#      [\"outputs/run_3d_T0.01_1659002443.npz\",\n",
    "#       \"outputs/run_3d_T0.01873817422860384_1659002443.npz\"]]\n",
    "\n",
    "# D = [np.load(f) for f in\n",
    "#      [\"outputs/run_3d_T0.01_1659003670.npz\",\n",
    "#       \"outputs/run_3d_T0.01873817422860384_1659003670.npz\",\n",
    "#       \"outputs/run_3d_T0.03511191734215131_1659003670.npz\",\n",
    "#       \"outputs/run_3d_T0.0657933224657568_1659003670.npz\",\n",
    "#       \"outputs/run_3d_T0.12328467394420659_1659003670.npz\",\n",
    "#       \"outputs/run_3d_T0.23101297000831592_1659003670.npz\",\n",
    "#       \"outputs/run_3d_T0.4328761281083057_1659003670.npz\"]]\n",
    "\n",
    "# D = [np.load(f) for f in\n",
    "#      [\"outputs/run_3d_T0.01_1659011510.npz\",\n",
    "#       \"outputs/run_3d_T0.01873817422860384_1659011510.npz\",\n",
    "#       \"outputs/run_3d_T0.03511191734215131_1659011510.npz\",\n",
    "#       \"outputs/run_3d_T0.0657933224657568_1659011510.npz\",\n",
    "#       \"outputs/run_3d_T0.12328467394420659_1659011510.npz\",\n",
    "#       \"outputs/run_3d_T0.23101297000831592_1659011510.npz\",\n",
    "#       \"outputs/run_3d_T0.4328761281083057_1659011510.npz\",\n",
    "#       \"outputs/run_3d_T0.8111308307896868_1659011510.npz\",\n",
    "#       \"outputs/run_3d_T1.5199110829529332_1659011510.npz\",\n",
    "#       \"outputs/run_3d_T2.848035868435799_1659011510.npz\"]]\n",
    "\n",
    "# D = [np.load(f) for f in\n",
    "#      [\"outputs/run_3d_T0.01_1659022107.npz\",\n",
    "#       \"outputs/run_3d_T0.01873817422860384_1659022107.npz\",\n",
    "#       \"outputs/run_3d_T0.03511191734215131_1659022107.npz\",\n",
    "#       \"outputs/run_3d_T0.0657933224657568_1659022107.npz\",\n",
    "#       \"outputs/run_3d_T0.12328467394420659_1659022107.npz\",\n",
    "#       \"outputs/run_3d_T0.23101297000831592_1659022107.npz\",\n",
    "#       \"outputs/run_3d_T0.4328761281083057_1659022107.npz\",\n",
    "#       \"outputs/run_3d_T0.8111308307896868_1659022107.npz\",\n",
    "#       \"outputs/run_3d_T1.5199110829529332_1659022107.npz\",\n",
    "#       \"outputs/run_3d_T2.848035868435799_1659022107.npz\"]]\n",
    "\n",
    "# D = [np.load(f) for f in\n",
    "#      [\"outputs/run_3d_T0.01_1659029233.npz\",\n",
    "#       \"outputs/run_3d_T0.01873817422860384_1659029233.npz\",\n",
    "#       \"outputs/run_3d_T0.03511191734215131_1659029233.npz\",\n",
    "#       \"outputs/run_3d_T0.0657933224657568_1659029233.npz\",\n",
    "#       \"outputs/run_3d_T0.12328467394420659_1659029233.npz\",\n",
    "#       \"outputs/run_3d_T0.23101297000831592_1659029233.npz\",\n",
    "#       \"outputs/run_3d_T0.4328761281083057_1659029233.npz\",\n",
    "#       \"outputs/run_3d_T0.8111308307896868_1659029233.npz\",\n",
    "#       \"outputs/run_3d_T1.5199110829529332_1659029233.npz\",\n",
    "#       \"outputs/run_3d_T2.848035868435799_1659029233.npz\"]]\n",
    "\n",
    "# D = [np.load(f) for f in\n",
    "#      [\"outputs/run_3d_T0.01_1659035468.npz\",\n",
    "#       \"outputs/run_3d_T0.01873817422860384_1659035468.npz\",\n",
    "#       \"outputs/run_3d_T0.03511191734215131_1659035468.npz\",\n",
    "#       \"outputs/run_3d_T0.0657933224657568_1659035468.npz\",\n",
    "#       \"outputs/run_3d_T0.12328467394420659_1659035468.npz\",\n",
    "#       \"outputs/run_3d_T0.23101297000831592_1659035468.npz\",\n",
    "#       \"outputs/run_3d_T0.4328761281083057_1659035468.npz\",\n",
    "#       \"outputs/run_3d_T0.8111308307896868_1659035468.npz\",\n",
    "#       \"outputs/run_3d_T1.5199110829529332_1659035468.npz\",\n",
    "#       \"outputs/run_3d_T2.848035868435799_1659035468.npz\",\n",
    "#       \"outputs/run_3d_T5.336699231206307_1659035468.npz\"]]\n",
    "\n",
    "# D = [np.load(f) for f in\n",
    "#      [\"outputs/run_3d_T0.01_1659044181.npz\",\n",
    "#       \"outputs/run_3d_T0.01873817422860384_1659044181.npz\",\n",
    "#       \"outputs/run_3d_T0.03511191734215131_1659044181.npz\",\n",
    "#       \"outputs/run_3d_T0.0657933224657568_1659044181.npz\",\n",
    "#       \"outputs/run_3d_T0.12328467394420659_1659044181.npz\",\n",
    "#       \"outputs/run_3d_T0.23101297000831592_1659044181.npz\",\n",
    "#       \"outputs/run_3d_T0.4328761281083057_1659044181.npz\",\n",
    "#       \"outputs/run_3d_T0.8111308307896868_1659044181.npz\",\n",
    "#       \"outputs/run_3d_T1.5199110829529332_1659044181.npz\",\n",
    "#       \"outputs/run_3d_T2.848035868435799_1659044181.npz\"]]\n",
    "\n",
    "# D = [np.load(f) for f in\n",
    "#      [\"outputs/run_3d_T0.01_1659047906.npz\",\n",
    "#       \"outputs/run_3d_T0.01873817422860384_1659047906.npz\",\n",
    "#       \"outputs/run_3d_T0.03511191734215131_1659047906.npz\",\n",
    "#       \"outputs/run_3d_T0.0657933224657568_1659047906.npz\",\n",
    "#       \"outputs/run_3d_T0.12328467394420659_1659047906.npz\",\n",
    "#       \"outputs/run_3d_T0.23101297000831592_1659047906.npz\",\n",
    "#       \"outputs/run_3d_T0.4328761281083057_1659047906.npz\",\n",
    "#       \"outputs/run_3d_T0.8111308307896868_1659047906.npz\",\n",
    "#       \"outputs/run_3d_T1.5199110829529332_1659047906.npz\",\n",
    "#       \"outputs/run_3d_T2.848035868435799_1659047906.npz\"]]\n",
    "\n",
    "# # GOOD one\n",
    "D = [np.load(f) for f in\n",
    "     [\"outputs/run_3d_T0.01_1659053378.npz\",\n",
    "      \"outputs/run_3d_T0.01873817422860384_1659053378.npz\",\n",
    "      \"outputs/run_3d_T0.03511191734215131_1659053378.npz\",\n",
    "      \"outputs/run_3d_T0.0657933224657568_1659053378.npz\",\n",
    "      \"outputs/run_3d_T0.12328467394420659_1659053378.npz\",\n",
    "      \"outputs/run_3d_T0.23101297000831592_1659053378.npz\",\n",
    "      \"outputs/run_3d_T0.4328761281083057_1659053378.npz\",\n",
    "      \"outputs/run_3d_T0.8111308307896868_1659053378.npz\",\n",
    "      \"outputs/run_3d_T1.5199110829529332_1659053378.npz\",\n",
    "      \"outputs/run_3d_T2.848035868435799_1659053378.npz\"]]\n",
    "\n",
    "# D = [np.load(f) for f in\n",
    "#      [\"outputs/run_3d_T0.01_1659059120.npz\",\n",
    "#       \"outputs/run_3d_T0.01873817422860384_1659059120.npz\",\n",
    "#       \"outputs/run_3d_T0.03511191734215131_1659059120.npz\",\n",
    "#       \"outputs/run_3d_T0.0657933224657568_1659059120.npz\",\n",
    "#       \"outputs/run_3d_T0.12328467394420659_1659059120.npz\",\n",
    "#       \"outputs/run_3d_T0.23101297000831592_1659059120.npz\",\n",
    "#       \"outputs/run_3d_T0.4328761281083057_1659059120.npz\",\n",
    "#       \"outputs/run_3d_T0.8111308307896868_1659059120.npz\",\n",
    "#       \"outputs/run_3d_T1.5199110829529332_1659059120.npz\"]]\n",
    "\n",
    "# D = [np.load(f) for f in\n",
    "#      [\"outputs/run_3d_T0.01_1659017667.npz\",\n",
    "#       \"outputs/run_3d_T0.01873817422860384_1659017667.npz\",\n",
    "#       \"outputs/run_3d_T0.03511191734215131_1659017667.npz\",\n",
    "#       \"outputs/run_3d_T0.0657933224657568_1659017667.npz\",\n",
    "#       \"outputs/run_3d_T0.12328467394420659_1659017667.npz\",\n",
    "#       \"outputs/run_3d_T0.23101297000831592_1659017667.npz\",\n",
    "#       \"outputs/run_3d_T0.4328761281083057_1659017667.npz\",\n",
    "#       \"outputs/run_3d_T0.8111308307896868_1659017667.npz\",\n",
    "#       \"outputs/run_3d_T1.5199110829529332_1659017667.npz\",\n",
    "#       \"outputs/run_3d_T2.848035868435799_1659017667.npz\"]]"
   ]
  },
  {
   "cell_type": "code",
   "execution_count": 299,
   "metadata": {},
   "outputs": [],
   "source": [
    "sz = np.zeros(len(D))\n",
    "T = np.zeros(len(D))\n",
    "for n in range(len(D)):\n",
    "    sz[n] = np.mean(D[n][\"sz\"][-50:-1])\n",
    "    T[n] = D[n][\"T\"]"
   ]
  },
  {
   "cell_type": "code",
   "execution_count": 300,
   "metadata": {},
   "outputs": [
    {
     "name": "stdout",
     "output_type": "stream",
     "text": [
      "(30, 2)\n"
     ]
    }
   ],
   "source": [
    "# C = np.loadtxt(\"charlie/MFGS_1D_x_prma_100.csv\", delimiter=\",\", skiprows=1)\n",
    "# C = np.loadtxt(\"charlie/MFGS_3D_xyz_prma_5.csv\", delimiter=\",\", skiprows=1)\n",
    "C = np.loadtxt(\"charlie/MFGS_3D_xyz_prma_10.csv\", delimiter=\",\", skiprows=1)\n",
    "# C = np.loadtxt(\"charlie/MFGS_3D_xyz_prmf_10.csv\", delimiter=\",\", skiprows=1)\n",
    "print(C.shape)"
   ]
  },
  {
   "cell_type": "code",
   "execution_count": 301,
   "metadata": {},
   "outputs": [],
   "source": [
    "# M = np.array([[0.01, 0.1, 1.0,], [-0.77, -0.7206, -0.5966]]).T"
   ]
  },
  {
   "cell_type": "code",
   "execution_count": 312,
   "metadata": {},
   "outputs": [
    {
     "data": {
      "image/png": "[encoded data removed]",
      "text/plain": [
       "<Figure size 360x216 with 1 Axes>"
      ]
     },
     "metadata": {
      "needs_background": "light"
     },
     "output_type": "display_data"
    }
   ],
   "source": [
    "plt.figure(figsize=(5,3))\n",
    "plt.semilogx(C[:,0], C[:,1], '-', color='black', linewidth=2.0, label='Charlie RC [prma]')\n",
    "plt.semilogx(T, -sz, 'o', color='C0', markersize=5, label='TEMPO $\\Gamma={}$'.format(D[0]['Γ'][0]))\n",
    "# plt.semilogx(M[:,0],-M[:,1], 'x', color='C1', markersize=4.0, label='HEOM(lab)')\n",
    "plt.axhline(0.0, linestyle='-', linewidth=1, color='gray')\n",
    "plt.ylim([-0.05, 1.05])\n",
    "plt.xlabel('$T$')\n",
    "plt.ylabel('$s_z$')\n",
    "plt.legend()\n",
    "plt.tight_layout()\n",
    "plt.savefig(\"./charlie_comp_3d.pdf\")\n",
    "plt.show()"
   ]
  },
  {
   "cell_type": "code",
   "execution_count": 316,
   "metadata": {},
   "outputs": [],
   "source": [
    "np.savetxt('charlie_and_tempo_comp_3d.cvs', np.array([T, -sz]).T)"
   ]
  },
  {
   "cell_type": "code",
   "execution_count": 303,
   "metadata": {},
   "outputs": [
    {
     "data": {
      "text/plain": [
       "['α', 'ω0', 'Γ', 'dt', 'dkmax', 'epsrel', 't', 'sx', 'sy', 'sz', 'T']"
      ]
     },
     "execution_count": 303,
     "metadata": {},
     "output_type": "execute_result"
    }
   ],
   "source": [
    "list(D[0].keys())"
   ]
  },
  {
   "cell_type": "code",
   "execution_count": 304,
   "metadata": {},
   "outputs": [
    {
     "data": {
      "text/plain": [
       "(array([10., 10., 10.]),\n",
       " array([2., 2., 2.]),\n",
       " array([0.6, 0.6, 0.6]),\n",
       " array(0.04),\n",
       " array(260),\n",
       " array(5.e-06))"
      ]
     },
     "execution_count": 304,
     "metadata": {},
     "output_type": "execute_result"
    }
   ],
   "source": [
    "D[0]['α'], D[0]['ω0'], D[0]['Γ'], D[0]['dt'], D[0]['dkmax'], D[0]['epsrel']"
   ]
  },
  {
   "cell_type": "code",
   "execution_count": 305,
   "metadata": {},
   "outputs": [
    {
     "data": {
      "image/png": "[encoded data removed]",
      "text/plain": [
       "<Figure size 792x360 with 1 Axes>"
      ]
     },
     "metadata": {
      "needs_background": "light"
     },
     "output_type": "display_data"
    }
   ],
   "source": [
    "Didx = 0\n",
    "Dlidx = -50\n",
    "Dridx = -1\n",
    "\n",
    "plt.figure(figsize=(11,5))\n",
    "plt.plot(D[Didx][\"t\"], D[Didx][\"sz\"], '-o', markersize=3, linewidth=1.8)\n",
    "plt.axvline(D[Didx][\"t\"][Dlidx], linestyle='--', color='gray')\n",
    "plt.axvline(D[Didx][\"t\"][Dridx], linestyle='--', color='gray')\n",
    "plt.axvline(7.0, linestyle='-', color='black')\n",
    "plt.tight_layout()\n",
    "plt.xlabel(\"$t$\")\n",
    "# plt.show()\n",
    "plt.savefig(\"tevol_test.pdf\")"
   ]
  },
  {
   "cell_type": "code",
   "execution_count": null,
   "metadata": {},
   "outputs": [],
   "source": []
  },
  {
   "cell_type": "code",
   "execution_count": null,
   "metadata": {},
   "outputs": [],
   "source": []
  }
 ],
 "metadata": {
  "kernelspec": {
   "display_name": "Python 3.10.8 64-bit (microsoft store)",
   "language": "python",
   "name": "python3"
  },
  "language_info": {
   "codemirror_mode": {
    "name": "ipython",
    "version": 3
   },
   "file_extension": ".py",
   "mimetype": "text/x-python",
   "name": "python",
   "nbconvert_exporter": "python",
   "pygments_lexer": "ipython3",
   "version": "3.10.8"
  },
  "vscode": {
   "interpreter": {
    "hash": "aff08001783458d94b9250450d7d4da0a7d260668e94fc441e7a8e1778d43d8b"
   }
  }
 },
 "nbformat": 4,
 "nbformat_minor": 4
}
