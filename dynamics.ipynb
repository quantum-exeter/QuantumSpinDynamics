{
 "cells": [
  {
   "cell_type": "markdown",
   "id": "4a8149a7",
   "metadata": {},
   "source": [
    "# Quantum Code (Charlie)"
   ]
  },
  {
   "cell_type": "markdown",
   "id": "d48feb2d",
   "metadata": {
    "ExecuteTime": {
     "end_time": "2022-04-20T15:12:34.705000+01:00",
     "start_time": "2022-04-20T14:12:33.997Z"
    }
   },
   "source": [
    "<span style=\"font-size:1.2em;\">*Notes:*</span>"
   ]
  },
  {
   "cell_type": "markdown",
   "id": "d7221af8",
   "metadata": {},
   "source": [
    "Bottleneck in the speed of this code seems to be solving the DE. May be able to speed up the construction of the superoperator by using multi-threading (https://docs.julialang.org/en/v1/manual/multi-threading/). Any feedback on how we can optimise this would be appreciated!"
   ]
  },
  {
   "cell_type": "markdown",
   "id": "37b98acf",
   "metadata": {
    "ExecuteTime": {
     "end_time": "2022-04-20T15:12:34.705000+01:00",
     "start_time": "2022-04-20T14:12:33.997Z"
    }
   },
   "source": [
    "<span style=\"font-size:1.2em;\">! Run this in **Julia** !</span> "
   ]
  },
  {
   "cell_type": "markdown",
   "id": "e8400041",
   "metadata": {},
   "source": [
    "1. You'll need to install the Julia add on for Jupyter Notebooks (IJulia). Follow guide here: https://datatofish.com/add-julia-to-jupyter/\n",
    "2. Go to *Kernel* -> *Change Kernel* -> *Julia*"
   ]
  },
  {
   "cell_type": "markdown",
   "id": "6a2849f6",
   "metadata": {},
   "source": [
    "## Packages"
   ]
  },
  {
   "cell_type": "code",
   "execution_count": 1,
   "id": "f1629c11",
   "metadata": {
    "ExecuteTime": {
     "end_time": "2022-05-26T17:02:46.398000+01:00",
     "start_time": "2022-05-26T16:02:32.537Z"
    }
   },
   "outputs": [],
   "source": [
    "include(\"RCLib.jl\") # Include the RC library with all the useful functions\n",
    "using .RCLib\n",
    "\n",
    "using LinearAlgebra # For IIL matrix multiplication\n",
    "using OrdinaryDiffEq\n",
    "using DifferentialEquations\n",
    "\n",
    "## Plotting Packages ##\n",
    "using CSV # Allows data to be converted to .CSV to use with Python for plotting\n",
    "using DataFrames # Another useful package for exporting data\n",
    "\n",
    "## Performance Packages ##\n",
    "using BenchmarkTools"
   ]
  },
  {
   "cell_type": "markdown",
   "id": "2763f260",
   "metadata": {},
   "source": [
    "## Variables"
   ]
  },
  {
   "cell_type": "markdown",
   "id": "158a098b",
   "metadata": {},
   "source": [
    "### Lorentzian Spectral Density"
   ]
  },
  {
   "cell_type": "code",
   "execution_count": 17,
   "id": "9efb3ec9",
   "metadata": {
    "ExecuteTime": {
     "end_time": "2022-05-26T17:04:27.362000+01:00",
     "start_time": "2022-05-26T16:04:27.360Z"
    }
   },
   "outputs": [],
   "source": [
    "prm = [1.4 0.001 10];"
   ]
  },
  {
   "cell_type": "code",
   "execution_count": 18,
   "id": "a3161496",
   "metadata": {
    "ExecuteTime": {
     "end_time": "2022-05-26T17:04:27.661000+01:00",
     "start_time": "2022-05-26T16:04:27.659Z"
    }
   },
   "outputs": [],
   "source": [
    "ω0, Γ, α = prm*ωL;"
   ]
  },
  {
   "cell_type": "markdown",
   "id": "0aa7d898",
   "metadata": {},
   "source": [
    "### RC-Specific"
   ]
  },
  {
   "cell_type": "code",
   "execution_count": 19,
   "id": "2bf455f0",
   "metadata": {
    "ExecuteTime": {
     "end_time": "2022-05-26T17:04:28.323000+01:00",
     "start_time": "2022-05-26T16:04:28.322Z"
    }
   },
   "outputs": [],
   "source": [
    "Ω = ω0;\n",
    "λ = ωL*sqrt(α/Ω);\n",
    "δ = Γ/(2π*Ω);\n",
    "n = 5;"
   ]
  },
  {
   "cell_type": "code",
   "execution_count": 20,
   "id": "3a35ca24",
   "metadata": {
    "ExecuteTime": {
     "end_time": "2022-05-26T17:04:28.557000+01:00",
     "start_time": "2022-05-26T16:04:28.561Z"
    }
   },
   "outputs": [],
   "source": [
    "Htot(n) = HRC1D(n, λ, Ω);"
   ]
  },
  {
   "cell_type": "markdown",
   "id": "790bce6b",
   "metadata": {},
   "source": [
    "### Environment"
   ]
  },
  {
   "cell_type": "code",
   "execution_count": 21,
   "id": "69f4a168",
   "metadata": {
    "ExecuteTime": {
     "end_time": "2022-05-26T17:04:29.073000+01:00",
     "start_time": "2022-05-26T16:04:29.072Z"
    }
   },
   "outputs": [],
   "source": [
    "T = 2;"
   ]
  },
  {
   "cell_type": "markdown",
   "id": "4489c688",
   "metadata": {},
   "source": [
    "### Timescales"
   ]
  },
  {
   "cell_type": "code",
   "execution_count": 22,
   "id": "48248730",
   "metadata": {
    "ExecuteTime": {
     "end_time": "2022-05-26T17:04:29.588000+01:00",
     "start_time": "2022-05-26T16:04:29.585Z"
    }
   },
   "outputs": [],
   "source": [
    "ti, tf, dt = 0.0, 20000.0, 100.0;\n",
    "tspan = (ti, tf);\n",
    "t = ti:dt:tf;"
   ]
  },
  {
   "cell_type": "markdown",
   "id": "5d61db5c",
   "metadata": {},
   "source": [
    "## Initial States"
   ]
  },
  {
   "cell_type": "code",
   "execution_count": 23,
   "id": "e798bd76",
   "metadata": {
    "ExecuteTime": {
     "end_time": "2022-05-26T17:04:30.049000+01:00",
     "start_time": "2022-05-26T16:04:30.047Z"
    }
   },
   "outputs": [],
   "source": [
    "θ, ϕ = -π/2, 0; # Define some θ and ϕ on the Bloch sphere"
   ]
  },
  {
   "cell_type": "code",
   "execution_count": 24,
   "id": "2cd4ac33",
   "metadata": {
    "ExecuteTime": {
     "end_time": "2022-05-26T17:04:30.307000+01:00",
     "start_time": "2022-05-26T16:04:30.311Z"
    }
   },
   "outputs": [],
   "source": [
    "state0 = ρ0(θ, ϕ, Ω, n, T);"
   ]
  },
  {
   "cell_type": "markdown",
   "id": "179d4e32",
   "metadata": {},
   "source": [
    "## Solving the Master Equation"
   ]
  },
  {
   "cell_type": "code",
   "execution_count": 25,
   "id": "dc3bee19",
   "metadata": {
    "ExecuteTime": {
     "end_time": "2022-05-26T17:04:30.780000+01:00",
     "start_time": "2022-05-26T16:04:30.772Z"
    }
   },
   "outputs": [],
   "source": [
    "superop = 𝒮(n, Ω, λ, δ, T); # This is the superoperator corresponding to the Redfield master equation"
   ]
  },
  {
   "cell_type": "code",
   "execution_count": 26,
   "id": "88ce2f87",
   "metadata": {
    "ExecuteTime": {
     "end_time": "2022-05-26T17:04:31.044000+01:00",
     "start_time": "2022-05-26T16:04:31.047Z"
    }
   },
   "outputs": [],
   "source": [
    "alg = Vern7();"
   ]
  },
  {
   "cell_type": "code",
   "execution_count": 27,
   "id": "a7eb6fc8",
   "metadata": {
    "ExecuteTime": {
     "end_time": "2022-05-26T17:04:47.361000+01:00",
     "start_time": "2022-05-26T16:04:31.322Z"
    }
   },
   "outputs": [],
   "source": [
    "dstate(dρ, ρ, v, t) = mul!(dρ, superop, ρ); # Solves the DE\n",
    "prob = ODEProblem(dstate, vec(state0), tspan);\n",
    "sol = solve(prob, alg);\n",
    "solF(t) = reshape(sol(t), (2n, 2n)); # Reformats vector into a density matrix\n",
    "\n",
    "expx(t) = real(tr(solF(t)*kron(sx0, 𝕀b(n))));  # Sx expectation value\n",
    "expy(t) = real(tr(solF(t)*kron(sy0, 𝕀b(n)))); # Sy expectation value\n",
    "expz(t) = real(tr(solF(t)*kron(sz0, 𝕀b(n)))); # Sz expectation value"
   ]
  },
  {
   "cell_type": "code",
   "execution_count": 28,
   "id": "1d2411f0",
   "metadata": {
    "ExecuteTime": {
     "end_time": "2022-05-26T17:04:47.558000+01:00",
     "start_time": "2022-05-26T16:04:31.796Z"
    }
   },
   "outputs": [],
   "source": [
    "time = [i for i in t];\n",
    "sx = [expx(i) for i in t];\n",
    "sy = [expy(i) for i in t];\n",
    "sz = [expz(i) for i in t];"
   ]
  },
  {
   "cell_type": "code",
   "execution_count": 29,
   "id": "bd6a94e1",
   "metadata": {
    "ExecuteTime": {
     "end_time": "2022-05-26T17:04:47.559000+01:00",
     "start_time": "2022-05-26T16:04:32.296Z"
    },
    "scrolled": true
   },
   "outputs": [],
   "source": [
    "df = DataFrame(hcat(time, sx, sy, sz), :auto);"
   ]
  },
  {
   "cell_type": "code",
   "execution_count": 30,
   "id": "d90ff8e6",
   "metadata": {
    "ExecuteTime": {
     "end_time": "2022-05-26T17:04:47.560000+01:00",
     "start_time": "2022-05-26T16:04:32.546Z"
    }
   },
   "outputs": [],
   "source": [
    "CSV.write(\"dyn_data.csv\", df, header = [\"t\", \"sx\", \"sy\", \"sz\"]); # Exports RC data to a CSV file"
   ]
  },
  {
   "cell_type": "markdown",
   "id": "5d001c0b",
   "metadata": {},
   "source": [
    "## Fidelity with MFGS"
   ]
  },
  {
   "cell_type": "code",
   "execution_count": 31,
   "id": "d91cd8c1",
   "metadata": {
    "ExecuteTime": {
     "end_time": "2022-05-26T17:04:47.579000+01:00",
     "start_time": "2022-05-26T16:04:33.158Z"
    }
   },
   "outputs": [],
   "source": [
    "Htot1D = HRC1D(n, λ, Ω); # System Hamiltonian in original basis\n",
    "P1D = eigen(Htot1D).vectors; # Find the projectors onto the system eigenbasis\n",
    "Htot1DT = adjoint(P1D)*Htot1D*P1D; # System Hamiltonian in its eigenbasis\n",
    "ρtot1D(T) = P1D*gibbs(Htot1DT, T)*adjoint(P1D); # Total Gibbs state in original basis\n",
    "ρMFGS1D(T) = ptrace(ρtot1D(T), n); # Trace out the bath"
   ]
  },
  {
   "cell_type": "code",
   "execution_count": 32,
   "id": "af329a12",
   "metadata": {
    "ExecuteTime": {
     "end_time": "2022-05-26T17:04:53.718000+01:00",
     "start_time": "2022-05-26T16:04:33.613Z"
    }
   },
   "outputs": [],
   "source": [
    "time = [i for i in t];\n",
    "fid = [real(ℱ(ptrace(solF(i), n), ρMFGS1D(T))) for i in t];\n",
    "dfid = DataFrame(hcat(time, fid), :auto);"
   ]
  },
  {
   "cell_type": "code",
   "execution_count": 33,
   "id": "6f0521e8",
   "metadata": {
    "ExecuteTime": {
     "end_time": "2022-05-26T17:04:53.807000+01:00",
     "start_time": "2022-05-26T16:04:34.101Z"
    }
   },
   "outputs": [],
   "source": [
    "CSV.write(\"fid_data.csv\", dfid, header = [\"t\", \"fid\"]); # Exports RC data to a CSV file"
   ]
  },
  {
   "cell_type": "code",
   "execution_count": null,
   "id": "d182a0d8",
   "metadata": {},
   "outputs": [],
   "source": []
  }
 ],
 "metadata": {
  "kernelspec": {
   "display_name": "Julia 1.7.2",
   "language": "julia",
   "name": "julia-1.7"
  },
  "language_info": {
   "file_extension": ".jl",
   "mimetype": "application/julia",
   "name": "julia",
   "version": "1.7.2"
  },
  "toc": {
   "base_numbering": 1,
   "nav_menu": {},
   "number_sections": true,
   "sideBar": true,
   "skip_h1_title": false,
   "title_cell": "Table of Contents",
   "title_sidebar": "Contents",
   "toc_cell": false,
   "toc_position": {},
   "toc_section_display": true,
   "toc_window_display": false
  }
 },
 "nbformat": 4,
 "nbformat_minor": 5
}
