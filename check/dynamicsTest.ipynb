{
 "cells": [
  {
   "cell_type": "code",
   "execution_count": 1,
   "metadata": {},
   "outputs": [],
   "source": [
    "using LinearAlgebra\n",
    "using Kronecker"
   ]
  },
  {
   "cell_type": "code",
   "execution_count": 38,
   "metadata": {},
   "outputs": [
    {
     "data": {
      "text/plain": [
       "hspace_dimension (generic function with 1 method)"
      ]
     },
     "metadata": {},
     "output_type": "display_data"
    }
   ],
   "source": [
    "######################\n",
    "#### variables.jl ####\n",
    "######################\n",
    "\n",
    "γ = -1 # Gyromagnetic ratio for an electron (T^-1s^-1)\n",
    "Bext = 10 # External magnetic field (T)\n",
    "ωL = abs(γ)*Bext # Larmor frequency (s^-1)\n",
    "Λ = 10^10 # Cutoff frequency for spectral density\n",
    "\n",
    "### Temperatures ###\n",
    "\n",
    "### Statics ###\n",
    "T = exp10.(range(-3, 3, length=100));\n",
    "\n",
    "### Dynamics ###\n",
    "\n",
    "TDyn = 1\n",
    "\n",
    "### Parameter Sets ###\n",
    "prma = [1.4 0.001 10]\n",
    "prmb = [7 0 50]\n",
    "prmc = [0.014 0 0.1]\n",
    "prmd = [1.4 0 10000]\n",
    "prme = [2 0.001 10]\n",
    "prmf = [2 0.001 1]\n",
    "prmg = [2 0.001 50]\n",
    "\n",
    "prm1 = prme; # Change the RHS here to change parameter set for coupling direction 1\n",
    "prm2 = prme; # Change the RHS here to change parameter set for coupling direction 2\n",
    "prm3 = prme; # Change the RHS here to change parameter set for coupling direction 3\n",
    "\n",
    "ω01, Γ1, α1 = [2.0 0.001 10.0]\n",
    "ω02, Γ2, α2 = prm2\n",
    "ω03, Γ3, α3 = prm3\n",
    "\n",
    "### RC-Specific Parameters ###\n",
    "\n",
    "Ω1, Ω2, Ω3 = [ω01 ω02 ω03]\n",
    "λ1, λ2, λ3 = [sqrt(α1/Ω1) sqrt(α2/Ω2) sqrt(α3/Ω3)]\n",
    "δ1, δ2, δ3 = [Γ1 Γ2 Γ3]\n",
    "n1, n2, n3 = [3 3 1] # Change the number of RC levels here\n",
    "\n",
    "δ_list(dim) = [2.0 δ2 δ3][dim] # List of dissipation strengths for Dynamics.jl module\n",
    "hspace_dimension(dim) = [2*n1 2*n1*n2 2*n1*n2*n3][dim] # List of Hilbert space dimensions"
   ]
  },
  {
   "cell_type": "code",
   "execution_count": 3,
   "metadata": {},
   "outputs": [
    {
     "data": {
      "text/plain": [
       "ρ0 (generic function with 1 method)"
      ]
     },
     "metadata": {},
     "output_type": "display_data"
    }
   ],
   "source": [
    "###########################\n",
    "#### initial_States.jl ####\n",
    "###########################\n",
    "\n",
    "### Spins ###\n",
    "\n",
    "## Pauli Matrices ##\n",
    "σx = [[0 1];[1 0]]\n",
    "σy = [[0 -im];[im 0]]\n",
    "σz = [[1 0];[0 -1]]\n",
    "\n",
    "scale = 2;\n",
    "\n",
    "## Spin Coupling Operators ##\n",
    "# The {θ, ϕ}[i] pairs set the direction of coupling in the ith direction #\n",
    "function sc(i)\n",
    "    θ = [0 0 0] # Coupling direction 1, 2 and 3\n",
    "    ϕ = [0 0 0] # Coupling direction 1, 2 and 3 \n",
    "    # # 1D x - Coupling ##\n",
    "    # θ = [π/2 0 0]\n",
    "    # ϕ = [0 0 0]\n",
    "    # # 1D y - Coupling ##\n",
    "    # θ = [π/2 0 0]\n",
    "    # ϕ = [π/2 0 0] \n",
    "    # # 1D z- Coupling ##\n",
    "    # θ = [0 0 0]\n",
    "    # ϕ = [0 0 0]\n",
    "    return σx*(sin(θ[i])*cos(ϕ[i])) + σy*(sin(θ[i])*sin(ϕ[i])) + σz*cos(θ[i])\n",
    "end\n",
    "\n",
    "## Bloch State ##\n",
    "# This sets the initial state of the spin on the Bloch sphere, defined by the polar angle α and azimuth β #\n",
    "function bloch_state()\n",
    "    α = -π/2\n",
    "    β = 0\n",
    "    return [cos(α/2)^2 0.5*exp(-im*β)*sin(α); 0.5*exp(im*β)*sin(α) sin(α/2)^2]\n",
    "end\n",
    "\n",
    "### RC ###\n",
    "\n",
    "## Thermal Initial State ##\n",
    "function gibbs(H, T)\n",
    "    n = size(H, 1)\n",
    "    ϵ = eigen(H).values\n",
    "    P = eigen(H).vectors\n",
    "    𝒵 = sum(exp(-ϵ[i]/T) for i = 1:n)\n",
    "    ρ = (1/𝒵)*Diagonal([exp(-ϵ[i]/T) for i = 1:n])\n",
    "    return P*ρ*adjoint(P)\n",
    "end\n",
    "\n",
    "### Joint Initital States ###\n",
    "function ρ0(dim)\n",
    "    if dim == 1\n",
    "        return kronecker(bloch_state(), gibbs(HB(n1, Ω1), TDyn))\n",
    "    elseif dim == 2\n",
    "        return kronecker(bloch_state(), gibbs(HB(n1, Ω1), TDyn), gibbs(HB(n2, Ω2), TDyn))\n",
    "    elseif dim == 3\n",
    "        return kronecker(bloch_state(), gibbs(HB(n1, Ω1), TDyn), gibbs(HB(n2, Ω2), TDyn), gibbs(HB(n3, Ω3), TDyn))\n",
    "    else\n",
    "        print(\"Please return a dimension of either 1, 2 or 3.\")\n",
    "    end\n",
    "end"
   ]
  },
  {
   "cell_type": "code",
   "execution_count": 4,
   "metadata": {},
   "outputs": [
    {
     "data": {
      "text/plain": [
       "spectral_density (generic function with 1 method)"
      ]
     },
     "metadata": {},
     "output_type": "display_data"
    }
   ],
   "source": [
    "############################\n",
    "#### spectralDensity.jl ####\n",
    "############################\n",
    "\n",
    "### Spectral Density ###\n",
    "spectral_density(ω, δ) = ((δ*ω)/π)*(Λ^2/(ω^2 + Λ^2))"
   ]
  },
  {
   "cell_type": "code",
   "execution_count": 5,
   "metadata": {},
   "outputs": [],
   "source": [
    "##################\n",
    "#### maths.jl ####\n",
    "##################\n",
    "\n",
    "### Commutators/Anticommutators ###\n",
    "comm(A,B) = A*B - B*A\n",
    "acomm(A,B) = A*B + B*A\n",
    "\n",
    "### Square ###\n",
    "square(n) = n*n\n",
    "\n",
    "### Identity Matrices ###\n",
    "𝕀(n) = Matrix(I, n, n) \n",
    "𝕀s = 𝕀(2) # Spin\n",
    "\n",
    "#### Partial Trace ###\n",
    "function ptrace(ρ, n)\n",
    "    nR = Int(size(ρ, 1)/n) # This is the remaining dimension\n",
    "    lhs(i) = kronecker(𝕀(nR), (𝕀(n)[[i],:]))\n",
    "    rhs(i) = kronecker(𝕀(nR), (𝕀(n)[:,i]))\n",
    "    return sum(lhs(i)*ρ*rhs(i) for i=1:n)\n",
    "end\n",
    "\n",
    "### Uhlmann Fidelity ###\n",
    "fidelity(ρ1, ρ2) = square(tr(sqrt(sqrt(ρ1)*ρ2*sqrt(ρ1))))\n",
    "\n",
    "### Check for Choppable Components ###\n",
    "realIfClose(c) = isnan(imag(c)) || imag(c) < 1e-14 ? real(c) : c;\n",
    "realIfClose(c::AbstractArray) = realIfClose.(c);"
   ]
  },
  {
   "cell_type": "code",
   "execution_count": 6,
   "metadata": {},
   "outputs": [
    {
     "data": {
      "text/plain": [
       "HB (generic function with 1 method)"
      ]
     },
     "metadata": {},
     "output_type": "display_data"
    }
   ],
   "source": [
    "#########################\n",
    "#### hamiltonians.jl ####\n",
    "#########################\n",
    "\n",
    "### Creation and Annihilation Operators ###\n",
    "\n",
    "## Creation Operator ##\n",
    "function create(n)\n",
    "    matrix = zeros(n, n)\n",
    "    for i in 1:n\n",
    "        new_row = zeros(1, n)\n",
    "        for j in Array(1:n)\n",
    "            if i == j+1\n",
    "                new_row[j] = sqrt(i-1)\n",
    "            else\n",
    "                new_row[j] = 0\n",
    "            end\n",
    "        end\n",
    "        matrix[[i],:] = new_row\n",
    "    end\n",
    "    return matrix\n",
    "end\n",
    "\n",
    "## Annihilation Operator ##\n",
    "function annihilate(n)\n",
    "    return adjoint(create(n))\n",
    "end\n",
    "\n",
    "### Hamiltonians ###\n",
    "\n",
    "## Bare Spin Hamiltonian ##\n",
    "HG() = -sign(γ)*σz\n",
    "\n",
    "## 1D Hamiltonian ##\n",
    "function HS1D(n1, λ1, Ω1)\n",
    "    spin = -sign(γ)*kronecker(σz, 𝕀(n1))\n",
    "    rc = scale*kronecker(𝕀s, Ω1*(create(n1)*annihilate(n1)))\n",
    "    int = λ1*kronecker(sc(1), (create(n1) + annihilate(n1)))\n",
    "    return spin + rc + int\n",
    "end\n",
    "\n",
    "## 2D Hamiltonian ##\n",
    "function HS2D(n1, n2, λ1, λ2, Ω1, Ω2)\n",
    "    spin = -sign(γ)*kronecker(σz, 𝕀(n1), 𝕀(n2))\n",
    "    rc = scale*kronecker(𝕀s, (Ω1/ωL)*(create(n1)*annihilate(n1)), 𝕀(n2)) + scale*kronecker(𝕀s, 𝕀(n1), (Ω2/ωL)*(create(n2)*annihilate(n2)))\n",
    "    int = (λ1/ωL)*kronecker(sc(1), (create(n1) + annihilate(n1)), 𝕀(n2)) + (λ2/ωL)*kronecker(sc(2), 𝕀(n1), (create(n2) + annihilate(n2)))\n",
    "    return spin + rc + int\n",
    "end\n",
    "\n",
    "## 3D Hamiltonian ##\n",
    "function HS3D(n1, n2, n3, λ1, λ2, λ3, Ω1, Ω2, Ω3)\n",
    "    spin = -sign(γ)*kronecker(σz, 𝕀(n1), 𝕀(n2), 𝕀(n3))\n",
    "    rc = scale*kronecker(𝕀s, (Ω1/ωL)*(create(n1)*annihilate(n1)), 𝕀(n2), 𝕀(n3)) + scale*kronecker(𝕀s, 𝕀(n1), (Ω2/ωL)*(create(n2)*annihilate(n2)), 𝕀(n3)) + scale*kronecker(𝕀s, 𝕀(n1), 𝕀(n2), (Ω3/ωL)*(create(n3)*annihilate(n3)))\n",
    "    int = λ1*kronecker(sc(1), (create(n1) + annihilate(n1)), 𝕀(n2), 𝕀(n3)) + λ2*kronecker(sc(2), 𝕀(n1), (create(n2) + annihilate(n2)), 𝕀(n3)) + λ3*kronecker(sc(3), 𝕀(n1), 𝕀(n2), (create(n3) + annihilate(n3)))\n",
    "    return spin + rc + int\n",
    "end\n",
    "\n",
    "## Single Function for Access to All Dimensions ##\n",
    "function HS(dim)\n",
    "    if dim == 1\n",
    "        return HS1D(n1, λ1, Ω1)\n",
    "    elseif dim == 2\n",
    "        return HS2D(n1, n2, λ1, λ2, Ω1, Ω2)\n",
    "    elseif dim == 3 \n",
    "        return HS3D(n1, n2, n3, λ1, λ2, λ3, Ω1, Ω2, Ω3)\n",
    "    else\n",
    "        print(\"Please return a dimension of either 1, 2 or 3.\")\n",
    "    end\n",
    "end\n",
    "\n",
    "## General Bath Hamiltonian ##\n",
    "HB(n, Ω) = Ω*(create(n)*annihilate(n))"
   ]
  },
  {
   "cell_type": "code",
   "execution_count": 12,
   "metadata": {},
   "outputs": [
    {
     "data": {
      "text/plain": [
       "jump3D (generic function with 1 method)"
      ]
     },
     "metadata": {},
     "output_type": "display_data"
    }
   ],
   "source": [
    "X(n) = create(n) + annihilate(n)\n",
    "\n",
    "# 1D Coupling #\n",
    "jump1D(n1) = [kronecker(𝕀s, X(n1))]\n",
    "\n",
    "# 2D Coupling #\n",
    "jump2D(n1, n2) = [kronecker(𝕀s, X(n1), 𝕀(n2)), kronecker(𝕀s, 𝕀(n1), X(n2))]\n",
    "\n",
    "# 3D Coupling #\n",
    "jump3D(n1, n2, n3) = [kronecker(𝕀s, X(n1), 𝕀(n2), 𝕀(n3)), kronecker(𝕀s, 𝕀(n1), X(n2), 𝕀(n3)), kronecker(𝕀s, 𝕀(n1), 𝕀(n2), X(n3))] "
   ]
  },
  {
   "cell_type": "code",
   "execution_count": 13,
   "metadata": {},
   "outputs": [
    {
     "data": {
      "text/plain": [
       "jump (generic function with 1 method)"
      ]
     },
     "metadata": {},
     "output_type": "display_data"
    }
   ],
   "source": [
    "function jump(dim)\n",
    "    if dim == 1\n",
    "        return jump1D(n1)\n",
    "    elseif dim == 2\n",
    "        return jump2D(n1, n2)\n",
    "    elseif dim == 3\n",
    "        return jump3D(n1, n2, n3)\n",
    "    else\n",
    "        print(\"Please return a dimension of either 1, 2 or 3.\")\n",
    "    end\n",
    "end"
   ]
  },
  {
   "cell_type": "code",
   "execution_count": 14,
   "metadata": {},
   "outputs": [
    {
     "data": {
      "text/plain": [
       "4×4 Matrix{ComplexF64}:\n",
       "     1.0+0.0im  2.23607+0.0im       0.0-0.0im       0.0-0.0im\n",
       " 2.23607+0.0im      5.0+0.0im       0.0-0.0im       0.0-0.0im\n",
       "     0.0+0.0im      0.0+0.0im      -1.0+0.0im  -2.23607+0.0im\n",
       "     0.0+0.0im      0.0+0.0im  -2.23607+0.0im       3.0+0.0im"
      ]
     },
     "metadata": {},
     "output_type": "display_data"
    }
   ],
   "source": [
    "HS1D(2, sqrt(10.0/2.0), 2.0)"
   ]
  },
  {
   "cell_type": "code",
   "execution_count": 30,
   "metadata": {},
   "outputs": [
    {
     "data": {
      "text/plain": [
       "transitions (generic function with 1 method)"
      ]
     },
     "metadata": {},
     "output_type": "display_data"
    }
   ],
   "source": [
    "function transitions(dim, i) # dim is the coupling dimension (1 for 1D, 2 for 2D etc...) and i the specific RC to generate Bohr frequencies/jump operators for\n",
    "    H = HS1D(2, sqrt(10.0/2.0), 2.0)\n",
    "    A = jump1D(2)[1]\n",
    "    n = 4\n",
    "    table = zeros(n, n)\n",
    "    bohr_freqs = Float64[]\n",
    "    jump_ops = Any[]\n",
    "    eval = eigen(H).values\n",
    "    evec = eigen(H).vectors\n",
    "    proj(j) = evec[:,j]*adjoint(evec[:,j])\n",
    "    # Create a table of transition frequencies\n",
    "    for k in 1:n\n",
    "        for l in 1:n\n",
    "            table[k, l] = eval[l] - eval[k]\n",
    "            if table[k, l] !=  0.0\n",
    "                append!(bohr_freqs, table[k, l])\n",
    "                push!(jump_ops, proj(l)*A*proj(k))\n",
    "            end\n",
    "        end\n",
    "    end\n",
    "    return bohr_freqs, jump_ops\n",
    "end"
   ]
  },
  {
   "cell_type": "code",
   "execution_count": 39,
   "metadata": {},
   "outputs": [
    {
     "data": {
      "text/plain": [
       "𝒮 (generic function with 1 method)"
      ]
     },
     "metadata": {},
     "output_type": "display_data"
    }
   ],
   "source": [
    "function 𝒮(dim)\n",
    "\n",
    "    ## Useful Definitions ##\n",
    "    H = HS1D(2, sqrt(10.0/2.0), 2.0) # System Hamiltonian for given dimension of coupling\n",
    "    n = hspace_dimension(dim) # Dimension of Hilbert space for given coupling dimension\n",
    "\n",
    "    ## Bohr Frequencies/Jump Operators for Each Coupling Dimension ##\n",
    "    transitions_list(i) = transitions(dim, i) # Extract Bohr freq-jump op pairs for the ith bath\n",
    "    len(i) = length(transitions_list(i)[1]) # Find the length of list (for each bath) to iterate over\n",
    "    ωb(i) = transitions_list(i)[1] # Rewrite function outputs (Bohr freqs) in more compact form\n",
    "    ATr(i) = transitions_list(i)[2] # Rewrite function outputs (transformed jump ops) in more compact form\n",
    "    ATot(i) = sum(ATr(i)[j] for j = 1:len(i)) # Define the sum of all jump operators for each bath\n",
    "\n",
    "    ## Iles-Smith Superoperators ##\n",
    "    χ(i) = (π/2)*sum(spectral_density(ωb(i)[j], δ_list(i))*coth((ωb(i)[j])/(2*TDyn))*ATr(i)[j] for j = 1:len(i)) # Iles-Smith χ superoperator\n",
    "    Θ(i) = (π/2)*sum(spectral_density(ωb(i)[j], δ_list(i))*ATr(i)[j] for j = 1:len(i)) # Iles-Smith Θ superoperator\n",
    "\n",
    "    ## Left/Right Multiplication Superoperators ##\n",
    "    ℒ(operator) = kronecker(operator, 𝕀(n)) # Define the left multiplication superoperator\n",
    "    ℛ(operator) = kronecker(𝕀(n), transpose(operator)) # Define the right multiplication superoperator\n",
    "\n",
    "    ## Return the Superoperator ##\n",
    "    return -im*(ℒ(H) - ℛ(H)) + sum(- ℒ(ATot(i))*(ℒ(χ(i)) - ℛ(χ(i))) + ℛ(ATot(i))*(ℒ(χ(i)) - ℛ(χ(i))) + ℒ(ATot(i))*(ℒ(Θ(i)) + ℛ(Θ(i))) - ℛ(ATot(i))*(ℒ(Θ(i)) + ℛ(Θ(i))) for i in 1:dim)\n",
    "\n",
    "end"
   ]
  },
  {
   "cell_type": "code",
   "execution_count": 43,
   "metadata": {},
   "outputs": [
    {
     "data": {
      "text/plain": [
       "ATot (generic function with 1 method)"
      ]
     },
     "metadata": {},
     "output_type": "display_data"
    }
   ],
   "source": [
    "H = HS1D(2, sqrt(10.0/2.0), 2.0) # System Hamiltonian for given dimension of coupling\n",
    "n = hspace_dimension(1) # Dimension of Hilbert space for given coupling dimension\n",
    "\n",
    "## Bohr Frequencies/Jump Operators for Each Coupling Dimension ##\n",
    "transitions_list(i) = transitions(1, i) # Extract Bohr freq-jump op pairs for the ith bath\n",
    "len(i) = length(transitions_list(i)[1]) # Find the length of list (for each bath) to iterate over\n",
    "ωb(i) = transitions_list(i)[1] # Rewrite function outputs (Bohr freqs) in more compact form\n",
    "ATr(i) = transitions_list(i)[2] # Rewrite function outputs (transformed jump ops) in more compact form\n",
    "ATot(i) = sum(ATr(i)[j] for j = 1:len(i)) # Define the sum of all jump operators for each bath"
   ]
  },
  {
   "cell_type": "code",
   "execution_count": 44,
   "metadata": {},
   "outputs": [
    {
     "data": {
      "text/plain": [
       "χ (generic function with 1 method)"
      ]
     },
     "metadata": {},
     "output_type": "display_data"
    }
   ],
   "source": [
    "χ(i) = (π/2)*sum(spectral_density(ωb(i)[j], δ_list(i))*coth((ωb(i)[j])/(2*TDyn))*ATr(i)[j] for j = 1:len(i)) # Iles-Smith χ superoperator"
   ]
  },
  {
   "cell_type": "code",
   "execution_count": 45,
   "metadata": {},
   "outputs": [
    {
     "data": {
      "text/plain": [
       "4×4 Matrix{ComplexF64}:\n",
       " 2.99624+0.0im   2.67992+0.0im       0.0+0.0im      0.0+0.0im\n",
       " 2.67992+0.0im  -2.99624+0.0im       0.0+0.0im      0.0+0.0im\n",
       "     0.0+0.0im       0.0+0.0im  -2.99624+0.0im  2.67992+0.0im\n",
       "     0.0+0.0im       0.0+0.0im   2.67992+0.0im  2.99624+0.0im"
      ]
     },
     "metadata": {},
     "output_type": "display_data"
    }
   ],
   "source": [
    "χ(1)"
   ]
  },
  {
   "cell_type": "code",
   "execution_count": null,
   "metadata": {},
   "outputs": [],
   "source": []
  }
 ],
 "metadata": {
  "kernelspec": {
   "display_name": "Julia 1.7.3",
   "language": "julia",
   "name": "julia-1.7"
  },
  "language_info": {
   "file_extension": ".jl",
   "mimetype": "application/julia",
   "name": "julia",
   "version": "1.7.3"
  },
  "orig_nbformat": 4,
  "vscode": {
   "interpreter": {
    "hash": "31f2aee4e71d21fbe5cf8b01ff0e069b9275f58929596ceb00d14d90e3e16cd6"
   }
  }
 },
 "nbformat": 4,
 "nbformat_minor": 2
}
