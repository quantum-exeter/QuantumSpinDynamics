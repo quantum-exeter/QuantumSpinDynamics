{
 "cells": [
  {
   "cell_type": "markdown",
   "id": "4a8149a7",
   "metadata": {},
   "source": [
    "# Dimension-Dependence of MFGS"
   ]
  },
  {
   "cell_type": "markdown",
   "id": "37b98acf",
   "metadata": {
    "ExecuteTime": {
     "end_time": "2022-04-20T15:12:34.705000+01:00",
     "start_time": "2022-04-20T14:12:33.997Z"
    }
   },
   "source": [
    "<span style=\"font-size:1.2em;\">! Run this in **Julia** !</span> "
   ]
  },
  {
   "cell_type": "markdown",
   "id": "e8400041",
   "metadata": {},
   "source": [
    "1. You'll need to install the Julia add on for Jupyter Notebooks (IJulia). Follow guide here: https://datatofish.com/add-julia-to-jupyter/\n",
    "2. Go to *Kernel* -> *Change Kernel* -> *Julia*"
   ]
  },
  {
   "cell_type": "markdown",
   "id": "6a2849f6",
   "metadata": {},
   "source": [
    "## Packages"
   ]
  },
  {
   "cell_type": "code",
   "execution_count": 1,
   "id": "f1629c11",
   "metadata": {
    "ExecuteTime": {
     "end_time": "2022-05-19T14:10:16.303000+01:00",
     "start_time": "2022-05-19T13:09:56.284Z"
    }
   },
   "outputs": [],
   "source": [
    "include(\"RCLib.jl\") # Include the RC library with all the useful functions\n",
    "using .RCLib\n",
    "\n",
    "using LinearAlgebra # For IIL matrix multiplication\n",
    "using Kronecker\n",
    "using OrdinaryDiffEq\n",
    "using DifferentialEquations\n",
    "\n",
    "## Plotting Packages ##\n",
    "using CSV # Allows data to be converted to .CSV to use with Python for plotting\n",
    "using DataFrames # Another useful package for exporting data\n",
    "using Plots\n",
    "\n",
    "## Performance Packages ##\n",
    "using BenchmarkTools"
   ]
  },
  {
   "cell_type": "markdown",
   "id": "2763f260",
   "metadata": {},
   "source": [
    "## Variables"
   ]
  },
  {
   "cell_type": "markdown",
   "id": "158a098b",
   "metadata": {},
   "source": [
    "### Lorentzian Spectral Density"
   ]
  },
  {
   "cell_type": "code",
   "execution_count": 2,
   "id": "9efb3ec9",
   "metadata": {
    "ExecuteTime": {
     "end_time": "2022-05-19T14:10:37.205000+01:00",
     "start_time": "2022-05-19T13:10:32.259Z"
    }
   },
   "outputs": [],
   "source": [
    "prm1 = [7.0 5.0 10.0];\n",
    "prm2 = [1.4 0.5 0.16];\n",
    "prm3 = [1.4 0.001 10];"
   ]
  },
  {
   "cell_type": "code",
   "execution_count": 3,
   "id": "a3161496",
   "metadata": {
    "ExecuteTime": {
     "end_time": "2022-05-19T14:10:37.769000+01:00",
     "start_time": "2022-05-19T13:10:37.709Z"
    }
   },
   "outputs": [],
   "source": [
    "ω0x, Γx, αx = prm3*ωL;\n",
    "ω0y, Γy, αy = prm3*ωL;\n",
    "ω0z, Γz, αz = prm3*ωL;"
   ]
  },
  {
   "cell_type": "markdown",
   "id": "0aa7d898",
   "metadata": {},
   "source": [
    "### RC-Specific"
   ]
  },
  {
   "cell_type": "code",
   "execution_count": 4,
   "id": "2bf455f0",
   "metadata": {
    "ExecuteTime": {
     "end_time": "2022-05-19T14:10:38.332000+01:00",
     "start_time": "2022-05-19T13:10:38.322Z"
    }
   },
   "outputs": [],
   "source": [
    "Ωx = ω0x;\n",
    "λx = ωL*sqrt(αx/Ωx);\n",
    "δx = Γx/(2π*Ωx);\n",
    "nx = 5;"
   ]
  },
  {
   "cell_type": "code",
   "execution_count": 5,
   "id": "7dfa306a",
   "metadata": {
    "ExecuteTime": {
     "end_time": "2022-05-19T14:10:38.562000+01:00",
     "start_time": "2022-05-19T13:10:38.559Z"
    }
   },
   "outputs": [],
   "source": [
    "Ωy = ω0y;\n",
    "λy = ωL*sqrt(αy/Ωy);\n",
    "δy = Γy/(2π*Ωy);\n",
    "ny = 5;"
   ]
  },
  {
   "cell_type": "code",
   "execution_count": 6,
   "id": "6d4512a2",
   "metadata": {
    "ExecuteTime": {
     "end_time": "2022-05-19T14:10:38.809000+01:00",
     "start_time": "2022-05-19T13:10:38.809Z"
    }
   },
   "outputs": [],
   "source": [
    "Ωz = ω0z;\n",
    "λz = ωL*sqrt(αz/Ωz);\n",
    "δz = Γz/(2π*Ωz);\n",
    "nz = 5;"
   ]
  },
  {
   "cell_type": "markdown",
   "id": "56a2a438",
   "metadata": {},
   "source": [
    "## Gibbs State"
   ]
  },
  {
   "cell_type": "code",
   "execution_count": 7,
   "id": "be242e93",
   "metadata": {
    "ExecuteTime": {
     "end_time": "2022-05-19T14:10:39.297000+01:00",
     "start_time": "2022-05-19T13:10:39.296Z"
    }
   },
   "outputs": [],
   "source": [
    "HG(T) = gibbs(HSpG(nx), T);"
   ]
  },
  {
   "cell_type": "code",
   "execution_count": 8,
   "id": "fc1ce5cb",
   "metadata": {
    "ExecuteTime": {
     "end_time": "2022-05-19T14:10:39.512000+01:00",
     "start_time": "2022-05-19T13:10:39.521Z"
    }
   },
   "outputs": [],
   "source": [
    "ρSpG(T)= ptrace(HG(T), nx);"
   ]
  },
  {
   "cell_type": "code",
   "execution_count": 9,
   "id": "b26b5522",
   "metadata": {
    "ExecuteTime": {
     "end_time": "2022-05-19T14:10:43.241000+01:00",
     "start_time": "2022-05-19T13:10:39.709Z"
    }
   },
   "outputs": [
    {
     "data": {
      "text/plain": [
       "1.0000000000000002"
      ]
     },
     "execution_count": 9,
     "metadata": {},
     "output_type": "execute_result"
    }
   ],
   "source": [
    "tr(ρSpG(1))"
   ]
  },
  {
   "cell_type": "markdown",
   "id": "d78f831d",
   "metadata": {},
   "source": [
    "## 1D Mean-Force Gibbs State\n"
   ]
  },
  {
   "cell_type": "code",
   "execution_count": 10,
   "id": "0c9fc24e",
   "metadata": {
    "ExecuteTime": {
     "end_time": "2022-05-19T14:10:44.561000+01:00",
     "start_time": "2022-05-19T13:10:40.195Z"
    }
   },
   "outputs": [],
   "source": [
    "Htot1D = HRC1D(nx, λx, Ωx);"
   ]
  },
  {
   "cell_type": "code",
   "execution_count": 11,
   "id": "ef67b3a8",
   "metadata": {
    "ExecuteTime": {
     "end_time": "2022-05-19T14:10:44.561000+01:00",
     "start_time": "2022-05-19T13:10:40.420Z"
    }
   },
   "outputs": [],
   "source": [
    "ρtot1D(T) = gibbs(Htot1D, T);"
   ]
  },
  {
   "cell_type": "code",
   "execution_count": 12,
   "id": "ce33a3a6",
   "metadata": {
    "ExecuteTime": {
     "end_time": "2022-05-19T14:10:44.561000+01:00",
     "start_time": "2022-05-19T13:10:40.645Z"
    }
   },
   "outputs": [],
   "source": [
    "ρSpMFGS1D(T) = ptrace(ρtot1D(T), nx);"
   ]
  },
  {
   "cell_type": "code",
   "execution_count": 13,
   "id": "b686421a",
   "metadata": {
    "ExecuteTime": {
     "end_time": "2022-05-19T14:10:44.593000+01:00",
     "start_time": "2022-05-19T13:10:40.820Z"
    }
   },
   "outputs": [
    {
     "data": {
      "text/plain": [
       "0.9999999999999999"
      ]
     },
     "execution_count": 13,
     "metadata": {},
     "output_type": "execute_result"
    }
   ],
   "source": [
    "tr(ρSpMFGS1D(1))"
   ]
  },
  {
   "cell_type": "code",
   "execution_count": 14,
   "id": "569d6be4",
   "metadata": {
    "ExecuteTime": {
     "end_time": "2022-05-19T14:10:44.968000+01:00",
     "start_time": "2022-05-19T13:10:41.257Z"
    }
   },
   "outputs": [],
   "source": [
    "GS = eigvecs(Htot1D)[:,1];"
   ]
  },
  {
   "cell_type": "markdown",
   "id": "25a20646",
   "metadata": {},
   "source": [
    "## 2D Mean-Force Gibbs State"
   ]
  },
  {
   "cell_type": "code",
   "execution_count": 15,
   "id": "8690746d",
   "metadata": {
    "ExecuteTime": {
     "end_time": "2022-05-19T14:10:45.669000+01:00",
     "start_time": "2022-05-19T13:10:41.795Z"
    }
   },
   "outputs": [],
   "source": [
    "Htot2D = HRC2D(nx, nz, λx, λz, Ωx, Ωz);"
   ]
  },
  {
   "cell_type": "code",
   "execution_count": 16,
   "id": "738e95f3",
   "metadata": {
    "ExecuteTime": {
     "end_time": "2022-05-19T14:10:45.670000+01:00",
     "start_time": "2022-05-19T13:10:41.982Z"
    }
   },
   "outputs": [],
   "source": [
    "ρtot2D(T) = gibbs(Htot2D, T);"
   ]
  },
  {
   "cell_type": "code",
   "execution_count": 17,
   "id": "72462178",
   "metadata": {
    "ExecuteTime": {
     "end_time": "2022-05-19T14:10:45.671000+01:00",
     "start_time": "2022-05-19T13:10:42.157Z"
    }
   },
   "outputs": [],
   "source": [
    "ρSpMFGS2D(T) = ptrace(ptrace(ρtot2D(T), nz), nx);"
   ]
  },
  {
   "cell_type": "code",
   "execution_count": 18,
   "id": "dd728363",
   "metadata": {
    "ExecuteTime": {
     "end_time": "2022-05-19T14:10:46.415000+01:00",
     "start_time": "2022-05-19T13:10:42.333Z"
    }
   },
   "outputs": [
    {
     "data": {
      "text/plain": [
       "1.0000000000000002"
      ]
     },
     "execution_count": 18,
     "metadata": {},
     "output_type": "execute_result"
    }
   ],
   "source": [
    "tr(ρSpMFGS2D(1))"
   ]
  },
  {
   "cell_type": "markdown",
   "id": "1e2ad694",
   "metadata": {},
   "source": [
    "## 3D Mean-Force Gibbs State"
   ]
  },
  {
   "cell_type": "code",
   "execution_count": 19,
   "id": "e4f1c0a8",
   "metadata": {
    "ExecuteTime": {
     "end_time": "2022-05-19T14:10:48.075000+01:00",
     "start_time": "2022-05-19T13:10:42.907Z"
    }
   },
   "outputs": [],
   "source": [
    "Htot3D = HRC3D(nx, ny, nz, λx, λy, λz, Ωx, Ωy, Ωz);"
   ]
  },
  {
   "cell_type": "code",
   "execution_count": 20,
   "id": "b79db20a",
   "metadata": {
    "ExecuteTime": {
     "end_time": "2022-05-19T14:10:48.082000+01:00",
     "start_time": "2022-05-19T13:10:43.157Z"
    }
   },
   "outputs": [],
   "source": [
    "ρtot3D(T) = gibbs(Htot3D, T);"
   ]
  },
  {
   "cell_type": "code",
   "execution_count": 21,
   "id": "f79a215a",
   "metadata": {
    "ExecuteTime": {
     "end_time": "2022-05-19T14:10:48.082000+01:00",
     "start_time": "2022-05-19T13:10:43.357Z"
    }
   },
   "outputs": [],
   "source": [
    "ρSpMFGS3D(T) = ptrace(ptrace(ptrace(ρtot3D(T), nz), ny), nx);"
   ]
  },
  {
   "cell_type": "code",
   "execution_count": 22,
   "id": "21bb30bc",
   "metadata": {
    "ExecuteTime": {
     "end_time": "2022-05-19T14:10:48.287000+01:00",
     "start_time": "2022-05-19T13:10:43.557Z"
    }
   },
   "outputs": [
    {
     "data": {
      "text/plain": [
       "1.0000000000000002"
      ]
     },
     "execution_count": 22,
     "metadata": {},
     "output_type": "execute_result"
    }
   ],
   "source": [
    "tr(ρSpMFGS3D(1))"
   ]
  },
  {
   "cell_type": "markdown",
   "id": "fa18c9e0",
   "metadata": {},
   "source": [
    "# Plots"
   ]
  },
  {
   "cell_type": "code",
   "execution_count": 23,
   "id": "3e60cbc2",
   "metadata": {
    "ExecuteTime": {
     "end_time": "2022-05-19T14:10:48.362000+01:00",
     "start_time": "2022-05-19T13:10:44.245Z"
    }
   },
   "outputs": [],
   "source": [
    "T_list = 0.001:1:1000;"
   ]
  },
  {
   "cell_type": "code",
   "execution_count": 24,
   "id": "b8ab81d8",
   "metadata": {
    "ExecuteTime": {
     "end_time": "2022-05-19T14:10:48.367000+01:00",
     "start_time": "2022-05-19T13:10:44.595Z"
    }
   },
   "outputs": [],
   "source": [
    "expzG(T) = real(tr(ρSpG(T)*sz0)); # Gibbs Sz expectation value\n",
    "expz1DMFGS(T) = real(tr(ρSpMFGS1D(T)*sz0)); # 1D MFGS Sz expectation value\n",
    "expz2DMFGS(T) = real(tr(ρSpMFGS2D(T)*sz0)); # 2D MFGS Sz expectation value\n",
    "expz3DMFGS(T) = real(tr(ρSpMFGS3D(T)*sz0)); # 2D MFGS Sz expectation value"
   ]
  },
  {
   "cell_type": "code",
   "execution_count": 27,
   "id": "0f5f6d38",
   "metadata": {
    "ExecuteTime": {
     "end_time": "2022-05-19T14:11:46.863000+01:00",
     "start_time": "2022-05-19T13:11:27.184Z"
    }
   },
   "outputs": [],
   "source": [
    "T = [i for i in T_list];\n",
    "szG = [expzG(i) for i in T_list];\n",
    "sz1DMFGS = [expz1DMFGS(i) for i in T_list];\n",
    "sz2DMFGS = [expz2DMFGS(i) for i in T_list];\n",
    "sz3DMFGS = [expz3DMFGS(i) for i in T_list];\n",
    "df = DataFrame(hcat(T, szG, sz1DMFGS, sz2DMFGS, sz3DMFGS), :auto);"
   ]
  },
  {
   "cell_type": "code",
   "execution_count": 28,
   "id": "97fef56d",
   "metadata": {
    "ExecuteTime": {
     "end_time": "2022-05-19T14:11:46.863000+01:00",
     "start_time": "2022-05-19T13:11:30.158Z"
    }
   },
   "outputs": [],
   "source": [
    "CSV.write(\"C://Users//crh222//QuantumSpinDynamics//MFGS_data.csv\",  df, header = [\"T\", \"szG\", \"sz1DMFGS\", \"sz2DMFGS\", \"sz3DMFGS\"]);"
   ]
  }
 ],
 "metadata": {
  "kernelspec": {
   "display_name": "Julia 1.7.2",
   "language": "julia",
   "name": "julia-1.7"
  },
  "language_info": {
   "file_extension": ".jl",
   "mimetype": "application/julia",
   "name": "julia",
   "version": "1.7.2"
  },
  "toc": {
   "base_numbering": 1,
   "nav_menu": {},
   "number_sections": true,
   "sideBar": true,
   "skip_h1_title": false,
   "title_cell": "Table of Contents",
   "title_sidebar": "Contents",
   "toc_cell": false,
   "toc_position": {},
   "toc_section_display": true,
   "toc_window_display": false
  }
 },
 "nbformat": 4,
 "nbformat_minor": 5
}
