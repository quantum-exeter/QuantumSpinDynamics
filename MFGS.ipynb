{
 "cells": [
  {
   "cell_type": "markdown",
   "id": "7443fafc",
   "metadata": {},
   "source": [
    "# Classical Dimension-Dependence of MFGS"
   ]
  },
  {
   "cell_type": "markdown",
   "id": "37b98acf",
   "metadata": {
    "ExecuteTime": {
     "end_time": "2022-04-20T15:12:34.705000+01:00",
     "start_time": "2022-04-20T14:12:33.997Z"
    }
   },
   "source": [
    "<span style=\"font-size:1.2em;\">! Run this in **Julia** !</span> "
   ]
  },
  {
   "cell_type": "markdown",
   "id": "e8400041",
   "metadata": {},
   "source": [
    "1. You'll need to install the Julia add on for Jupyter Notebooks (IJulia). Follow guide here: https://datatofish.com/add-julia-to-jupyter/\n",
    "2. Go to *Kernel* -> *Change Kernel* -> *Julia*"
   ]
  },
  {
   "cell_type": "markdown",
   "id": "6a2849f6",
   "metadata": {},
   "source": [
    "## Packages"
   ]
  },
  {
   "cell_type": "code",
   "execution_count": 1,
   "id": "f1629c11",
   "metadata": {
    "ExecuteTime": {
     "end_time": "2022-05-23T11:28:47.568000+01:00",
     "start_time": "2022-05-23T10:28:25.910Z"
    }
   },
   "outputs": [],
   "source": [
    "include(\"RCLib.jl\") # Include the RC library with all the useful functions\n",
    "using .RCLib\n",
    "\n",
    "using LinearAlgebra # For IIL matrix multiplication\n",
    "using Kronecker\n",
    "using OrdinaryDiffEq\n",
    "using DifferentialEquations\n",
    "\n",
    "## Plotting Packages ##\n",
    "using CSV # Allows data to be converted to .CSV to use with Python for plotting\n",
    "using DataFrames # Another useful package for exporting data\n",
    "using Plots\n",
    "\n",
    "## Performance Packages ##\n",
    "using BenchmarkTools"
   ]
  },
  {
   "cell_type": "code",
   "execution_count": 2,
   "id": "7653f695",
   "metadata": {
    "ExecuteTime": {
     "end_time": "2022-05-23T11:28:55.867000+01:00",
     "start_time": "2022-05-23T10:28:50.975Z"
    }
   },
   "outputs": [],
   "source": [
    "T_list_cl = [0.1, 1.6, 3.3, 5, 7.5, 10, 15, 20, 30, 40, 60, 100];"
   ]
  },
  {
   "cell_type": "code",
   "execution_count": 3,
   "id": "fe74e3e1",
   "metadata": {
    "ExecuteTime": {
     "end_time": "2022-05-23T11:28:56.444000+01:00",
     "start_time": "2022-05-23T10:28:56.373Z"
    }
   },
   "outputs": [],
   "source": [
    "T_cl = [i for i in T_list_cl];\n",
    "sz3DMFGS_cl = [pred(i) for i in T_list_cl];"
   ]
  },
  {
   "cell_type": "code",
   "execution_count": 4,
   "id": "666713d4",
   "metadata": {
    "ExecuteTime": {
     "end_time": "2022-05-23T11:28:57.134000+01:00",
     "start_time": "2022-05-23T10:28:56.873Z"
    }
   },
   "outputs": [],
   "source": [
    "df_cl = DataFrame(hcat(T_cl, sz3DMFGS_cl), :auto);"
   ]
  },
  {
   "cell_type": "code",
   "execution_count": 5,
   "id": "610a3639",
   "metadata": {
    "ExecuteTime": {
     "end_time": "2022-05-23T11:28:58.334000+01:00",
     "start_time": "2022-05-23T10:28:57.311Z"
    }
   },
   "outputs": [],
   "source": [
    "CSV.write(\"C://Users//crh222//QuantumSpinDynamics//MFGS_data_cl_pred.csv\",  df_cl, header = [\"T\", \"sz3D_cl\"]);"
   ]
  },
  {
   "cell_type": "markdown",
   "id": "4a8149a7",
   "metadata": {},
   "source": [
    "# Quantum Dimension-Dependence of MFGS"
   ]
  },
  {
   "cell_type": "markdown",
   "id": "2763f260",
   "metadata": {},
   "source": [
    "## Variables"
   ]
  },
  {
   "cell_type": "markdown",
   "id": "158a098b",
   "metadata": {},
   "source": [
    "### Lorentzian Spectral Density"
   ]
  },
  {
   "cell_type": "code",
   "execution_count": 6,
   "id": "9efb3ec9",
   "metadata": {
    "ExecuteTime": {
     "end_time": "2022-05-23T11:29:00.084000+01:00",
     "start_time": "2022-05-23T10:29:00.060Z"
    }
   },
   "outputs": [],
   "source": [
    "prm1 = [7.0 5.0 10.0];\n",
    "prm2 = [1.4 0.5 0.16];\n",
    "prm3 = [1.4 0.001 10];"
   ]
  },
  {
   "cell_type": "code",
   "execution_count": 7,
   "id": "a3161496",
   "metadata": {
    "ExecuteTime": {
     "end_time": "2022-05-23T11:29:00.668000+01:00",
     "start_time": "2022-05-23T10:29:00.610Z"
    }
   },
   "outputs": [],
   "source": [
    "ω0x, Γx, αx = prm3*ωL;\n",
    "ω0y, Γy, αy = prm3*ωL;\n",
    "ω0z, Γz, αz = prm3*ωL;"
   ]
  },
  {
   "cell_type": "markdown",
   "id": "0aa7d898",
   "metadata": {},
   "source": [
    "### RC-Specific"
   ]
  },
  {
   "cell_type": "code",
   "execution_count": 8,
   "id": "2bf455f0",
   "metadata": {
    "ExecuteTime": {
     "end_time": "2022-05-23T11:29:01.471000+01:00",
     "start_time": "2022-05-23T10:29:01.460Z"
    }
   },
   "outputs": [],
   "source": [
    "Ωx = ω0x;\n",
    "λx = ωL*sqrt(αx/Ωx);\n",
    "δx = Γx/(2π*Ωx);\n",
    "nx = 5;"
   ]
  },
  {
   "cell_type": "code",
   "execution_count": 9,
   "id": "7dfa306a",
   "metadata": {
    "ExecuteTime": {
     "end_time": "2022-05-23T11:29:01.900000+01:00",
     "start_time": "2022-05-23T10:29:01.901Z"
    }
   },
   "outputs": [],
   "source": [
    "Ωy = ω0y;\n",
    "λy = ωL*sqrt(αy/Ωy);\n",
    "δy = Γy/(2π*Ωy);\n",
    "ny = 5;"
   ]
  },
  {
   "cell_type": "code",
   "execution_count": 10,
   "id": "6d4512a2",
   "metadata": {
    "ExecuteTime": {
     "end_time": "2022-05-23T11:29:02.336000+01:00",
     "start_time": "2022-05-23T10:29:02.335Z"
    }
   },
   "outputs": [],
   "source": [
    "Ωz = ω0z;\n",
    "λz = ωL*sqrt(αz/Ωz);\n",
    "δz = Γz/(2π*Ωz);\n",
    "nz = 5;"
   ]
  },
  {
   "cell_type": "markdown",
   "id": "56a2a438",
   "metadata": {},
   "source": [
    "## Gibbs State"
   ]
  },
  {
   "cell_type": "code",
   "execution_count": 11,
   "id": "be242e93",
   "metadata": {
    "ExecuteTime": {
     "end_time": "2022-05-23T11:29:03.162000+01:00",
     "start_time": "2022-05-23T10:29:03.160Z"
    }
   },
   "outputs": [],
   "source": [
    "HG(T) = gibbs(HSpG(nx), T);"
   ]
  },
  {
   "cell_type": "code",
   "execution_count": 12,
   "id": "fc1ce5cb",
   "metadata": {
    "ExecuteTime": {
     "end_time": "2022-05-23T11:29:03.750000+01:00",
     "start_time": "2022-05-23T10:29:03.747Z"
    }
   },
   "outputs": [],
   "source": [
    "ρSpG(T)= ptrace(HG(T), nx);"
   ]
  },
  {
   "cell_type": "code",
   "execution_count": 13,
   "id": "b26b5522",
   "metadata": {
    "ExecuteTime": {
     "end_time": "2022-05-23T11:29:07.543000+01:00",
     "start_time": "2022-05-23T10:29:04.097Z"
    }
   },
   "outputs": [
    {
     "data": {
      "text/plain": [
       "1.0000000000000002"
      ]
     },
     "execution_count": 13,
     "metadata": {},
     "output_type": "execute_result"
    }
   ],
   "source": [
    "tr(ρSpG(1))"
   ]
  },
  {
   "cell_type": "markdown",
   "id": "d78f831d",
   "metadata": {},
   "source": [
    "## 1D Mean-Force Gibbs State\n"
   ]
  },
  {
   "cell_type": "code",
   "execution_count": 14,
   "id": "0c9fc24e",
   "metadata": {
    "ExecuteTime": {
     "end_time": "2022-05-23T11:29:09.079000+01:00",
     "start_time": "2022-05-23T10:29:04.872Z"
    }
   },
   "outputs": [],
   "source": [
    "Htot1D = HRC1D(nx, λx, Ωx);"
   ]
  },
  {
   "cell_type": "code",
   "execution_count": 15,
   "id": "ef67b3a8",
   "metadata": {
    "ExecuteTime": {
     "end_time": "2022-05-23T11:29:09.079000+01:00",
     "start_time": "2022-05-23T10:29:05.247Z"
    }
   },
   "outputs": [],
   "source": [
    "ρtot1D(T) = gibbs(Htot1D, T);"
   ]
  },
  {
   "cell_type": "code",
   "execution_count": 16,
   "id": "ce33a3a6",
   "metadata": {
    "ExecuteTime": {
     "end_time": "2022-05-23T11:29:09.084000+01:00",
     "start_time": "2022-05-23T10:29:05.484Z"
    }
   },
   "outputs": [],
   "source": [
    "ρSpMFGS1D(T) = ptrace(ρtot1D(T), nx);"
   ]
  },
  {
   "cell_type": "code",
   "execution_count": 17,
   "id": "b686421a",
   "metadata": {
    "ExecuteTime": {
     "end_time": "2022-05-23T11:29:09.114000+01:00",
     "start_time": "2022-05-23T10:29:05.772Z"
    }
   },
   "outputs": [
    {
     "data": {
      "text/plain": [
       "0.9999999999999999"
      ]
     },
     "execution_count": 17,
     "metadata": {},
     "output_type": "execute_result"
    }
   ],
   "source": [
    "tr(ρSpMFGS1D(1))"
   ]
  },
  {
   "cell_type": "code",
   "execution_count": 18,
   "id": "569d6be4",
   "metadata": {
    "ExecuteTime": {
     "end_time": "2022-05-23T11:29:09.485000+01:00",
     "start_time": "2022-05-23T10:29:07.459Z"
    }
   },
   "outputs": [],
   "source": [
    "GS = eigvecs(Htot1D)[:,1];"
   ]
  },
  {
   "cell_type": "markdown",
   "id": "25a20646",
   "metadata": {},
   "source": [
    "## 2D Mean-Force Gibbs State"
   ]
  },
  {
   "cell_type": "code",
   "execution_count": 19,
   "id": "8690746d",
   "metadata": {
    "ExecuteTime": {
     "end_time": "2022-05-23T11:29:10.219000+01:00",
     "start_time": "2022-05-23T10:29:08.009Z"
    }
   },
   "outputs": [],
   "source": [
    "Htot2D = HRC2D(nx, nz, λx, λz, Ωx, Ωz);"
   ]
  },
  {
   "cell_type": "code",
   "execution_count": 20,
   "id": "738e95f3",
   "metadata": {
    "ExecuteTime": {
     "end_time": "2022-05-23T11:29:10.219000+01:00",
     "start_time": "2022-05-23T10:29:08.246Z"
    }
   },
   "outputs": [],
   "source": [
    "ρtot2D(T) = gibbs(Htot2D, T);"
   ]
  },
  {
   "cell_type": "code",
   "execution_count": 21,
   "id": "72462178",
   "metadata": {
    "ExecuteTime": {
     "end_time": "2022-05-23T11:29:10.219000+01:00",
     "start_time": "2022-05-23T10:29:08.484Z"
    }
   },
   "outputs": [],
   "source": [
    "ρSpMFGS2D(T) = ptrace(ptrace(ρtot2D(T), nz), nx);"
   ]
  },
  {
   "cell_type": "code",
   "execution_count": 22,
   "id": "dd728363",
   "metadata": {
    "ExecuteTime": {
     "end_time": "2022-05-23T11:29:10.985000+01:00",
     "start_time": "2022-05-23T10:29:08.897Z"
    }
   },
   "outputs": [
    {
     "data": {
      "text/plain": [
       "1.0000000000000002"
      ]
     },
     "execution_count": 22,
     "metadata": {},
     "output_type": "execute_result"
    }
   ],
   "source": [
    "tr(ρSpMFGS2D(1))"
   ]
  },
  {
   "cell_type": "markdown",
   "id": "1e2ad694",
   "metadata": {},
   "source": [
    "## 3D Mean-Force Gibbs State"
   ]
  },
  {
   "cell_type": "code",
   "execution_count": 23,
   "id": "e4f1c0a8",
   "metadata": {
    "ExecuteTime": {
     "end_time": "2022-05-23T11:29:12.572000+01:00",
     "start_time": "2022-05-23T10:29:09.584Z"
    }
   },
   "outputs": [],
   "source": [
    "Htot3D = HRC3D(nx, ny, nz, λx, λy, λz, Ωx, Ωy, Ωz);"
   ]
  },
  {
   "cell_type": "code",
   "execution_count": 24,
   "id": "b79db20a",
   "metadata": {
    "ExecuteTime": {
     "end_time": "2022-05-23T11:29:12.572000+01:00",
     "start_time": "2022-05-23T10:29:09.909Z"
    }
   },
   "outputs": [],
   "source": [
    "ρtot3D(T) = gibbs(Htot3D, T);"
   ]
  },
  {
   "cell_type": "code",
   "execution_count": 25,
   "id": "f79a215a",
   "metadata": {
    "ExecuteTime": {
     "end_time": "2022-05-23T11:29:12.572000+01:00",
     "start_time": "2022-05-23T10:29:10.209Z"
    }
   },
   "outputs": [],
   "source": [
    "ρSpMFGS3D(T) = ptrace(ptrace(ptrace(ρtot3D(T), nz), ny), nx);"
   ]
  },
  {
   "cell_type": "code",
   "execution_count": 26,
   "id": "21bb30bc",
   "metadata": {
    "ExecuteTime": {
     "end_time": "2022-05-23T11:29:12.770000+01:00",
     "start_time": "2022-05-23T10:29:10.584Z"
    }
   },
   "outputs": [
    {
     "data": {
      "text/plain": [
       "1.0000000000000002"
      ]
     },
     "execution_count": 26,
     "metadata": {},
     "output_type": "execute_result"
    }
   ],
   "source": [
    "tr(ρSpMFGS3D(1))"
   ]
  },
  {
   "cell_type": "markdown",
   "id": "fa18c9e0",
   "metadata": {},
   "source": [
    "# Plots"
   ]
  },
  {
   "cell_type": "code",
   "execution_count": 27,
   "id": "3e60cbc2",
   "metadata": {
    "ExecuteTime": {
     "end_time": "2022-05-23T11:29:12.837000+01:00",
     "start_time": "2022-05-23T10:29:11.734Z"
    }
   },
   "outputs": [],
   "source": [
    "T_list_qu = 0.001:1:1000;"
   ]
  },
  {
   "cell_type": "code",
   "execution_count": 28,
   "id": "b8ab81d8",
   "metadata": {
    "ExecuteTime": {
     "end_time": "2022-05-23T11:29:13.317000+01:00",
     "start_time": "2022-05-23T10:29:13.323Z"
    }
   },
   "outputs": [],
   "source": [
    "expzG(T) = real(tr(ρSpG(T)*sz0)); # Gibbs Sz expectation value\n",
    "expz1DMFGS(T) = real(tr(ρSpMFGS1D(T)*sz0)); # 1D MFGS Sz expectation value\n",
    "expz2DMFGS(T) = real(tr(ρSpMFGS2D(T)*sz0)); # 2D MFGS Sz expectation value\n",
    "expz3DMFGS(T) = real(tr(ρSpMFGS3D(T)*sz0)); # 2D MFGS Sz expectation value"
   ]
  },
  {
   "cell_type": "code",
   "execution_count": 29,
   "id": "0f5f6d38",
   "metadata": {
    "ExecuteTime": {
     "end_time": "2022-05-23T11:29:35.388000+01:00",
     "start_time": "2022-05-23T10:29:13.823Z"
    }
   },
   "outputs": [
    {
     "ename": "LoadError",
     "evalue": "UndefVarError: T not defined",
     "output_type": "error",
     "traceback": [
      "UndefVarError: T not defined",
      "",
      "Stacktrace:",
      " [1] top-level scope",
      "   @ In[29]:6",
      " [2] eval",
      "   @ .\\boot.jl:373 [inlined]",
      " [3] include_string(mapexpr::typeof(REPL.softscope), mod::Module, code::String, filename::String)",
      "   @ Base .\\loading.jl:1196"
     ]
    }
   ],
   "source": [
    "T_qu = [i for i in T_list_qu];\n",
    "szG_qu = [expzG(i) for i in T_list_qu];\n",
    "sz1DMFGS_qu = [expz1DMFGS(i) for i in T_list_qu];\n",
    "sz2DMFGS_qu = [expz2DMFGS(i) for i in T_list_qu];\n",
    "sz3DMFGS_qu = [expz3DMFGS(i) for i in T_list_qu];\n",
    "df_qu = DataFrame(hcat(T, szG_qu, sz1DMFGS_qu, sz2DMFGS_qu, sz3DMFGS_qu), :auto);"
   ]
  },
  {
   "cell_type": "code",
   "execution_count": 30,
   "id": "97fef56d",
   "metadata": {
    "ExecuteTime": {
     "end_time": "2022-05-23T11:29:35.403000+01:00",
     "start_time": "2022-05-23T10:29:14.346Z"
    }
   },
   "outputs": [
    {
     "ename": "LoadError",
     "evalue": "UndefVarError: df_qu not defined",
     "output_type": "error",
     "traceback": [
      "UndefVarError: df_qu not defined",
      "",
      "Stacktrace:",
      " [1] top-level scope",
      "   @ In[30]:1",
      " [2] eval",
      "   @ .\\boot.jl:373 [inlined]",
      " [3] include_string(mapexpr::typeof(REPL.softscope), mod::Module, code::String, filename::String)",
      "   @ Base .\\loading.jl:1196"
     ]
    }
   ],
   "source": [
    "CSV.write(\"C://Users//crh222//QuantumSpinDynamics//MFGS_data_qu.csv\",  df_qu, header = [\"T\", \"szG\", \"sz1DMFGS\", \"sz2DMFGS\", \"sz3DMFGS\"]);"
   ]
  }
 ],
 "metadata": {
  "kernelspec": {
   "display_name": "Julia 1.7.2",
   "language": "julia",
   "name": "julia-1.7"
  },
  "language_info": {
   "file_extension": ".jl",
   "mimetype": "application/julia",
   "name": "julia",
   "version": "1.7.2"
  },
  "toc": {
   "base_numbering": 1,
   "nav_menu": {},
   "number_sections": true,
   "sideBar": true,
   "skip_h1_title": false,
   "title_cell": "Table of Contents",
   "title_sidebar": "Contents",
   "toc_cell": false,
   "toc_position": {},
   "toc_section_display": true,
   "toc_window_display": false
  }
 },
 "nbformat": 4,
 "nbformat_minor": 5
}
