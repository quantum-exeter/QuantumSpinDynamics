{
 "cells": [
  {
   "cell_type": "markdown",
   "id": "7443fafc",
   "metadata": {},
   "source": [
    "# Dimension-Dependence of MFGS"
   ]
  },
  {
   "cell_type": "markdown",
   "id": "37b98acf",
   "metadata": {
    "ExecuteTime": {
     "end_time": "2022-04-20T15:12:34.705000+01:00",
     "start_time": "2022-04-20T14:12:33.997Z"
    }
   },
   "source": [
    "<span style=\"font-size:1.2em;\">! Run this in **Julia** !</span> "
   ]
  },
  {
   "cell_type": "markdown",
   "id": "e8400041",
   "metadata": {},
   "source": [
    "1. You'll need to install the Julia add on for Jupyter Notebooks (IJulia). Follow guide here: https://datatofish.com/add-julia-to-jupyter/\n",
    "2. Go to *Kernel* -> *Change Kernel* -> *Julia*"
   ]
  },
  {
   "cell_type": "markdown",
   "id": "6a2849f6",
   "metadata": {},
   "source": [
    "## Packages"
   ]
  },
  {
   "cell_type": "code",
   "execution_count": 499,
   "id": "f1629c11",
   "metadata": {
    "ExecuteTime": {
     "end_time": "2022-05-26T15:02:26.495000+01:00",
     "start_time": "2022-05-26T14:02:26.452Z"
    }
   },
   "outputs": [
    {
     "name": "stderr",
     "output_type": "stream",
     "text": [
      "WARNING: replacing module RCLib.\n",
      "WARNING: using RCLib.sz0 in module Main conflicts with an existing identifier.\n",
      "WARNING: using RCLib.gibbs in module Main conflicts with an existing identifier.\n",
      "WARNING: using RCLib.ptrace in module Main conflicts with an existing identifier.\n",
      "WARNING: using RCLib.HRC2D in module Main conflicts with an existing identifier.\n",
      "WARNING: using RCLib.HRC3D in module Main conflicts with an existing identifier.\n",
      "WARNING: using RCLib.HRC1D in module Main conflicts with an existing identifier.\n",
      "WARNING: using RCLib.ωL in module Main conflicts with an existing identifier.\n",
      "WARNING: using RCLib.HSpG in module Main conflicts with an existing identifier.\n",
      "WARNING: using RCLib.pred in module Main conflicts with an existing identifier.\n"
     ]
    }
   ],
   "source": [
    "include(\"RCLib.jl\") # Include the RC library with all the useful functions\n",
    "using .RCLib\n",
    "\n",
    "using LinearAlgebra # For IIL matrix multiplication\n",
    "using Kronecker\n",
    "using OrdinaryDiffEq\n",
    "using DifferentialEquations\n",
    "\n",
    "## Plotting Packages ##\n",
    "using CSV # Allows data to be converted to .CSV to use with Python for plotting\n",
    "using DataFrames # Another useful package for exporting data\n",
    "using Plots\n",
    "\n",
    "## Performance Packages ##\n",
    "using BenchmarkTools"
   ]
  },
  {
   "cell_type": "markdown",
   "id": "60b470b6",
   "metadata": {},
   "source": [
    "## Temp Lists"
   ]
  },
  {
   "cell_type": "code",
   "execution_count": 500,
   "id": "7653f695",
   "metadata": {
    "ExecuteTime": {
     "end_time": "2022-05-26T15:02:26.496000+01:00",
     "start_time": "2022-05-26T14:02:26.453Z"
    }
   },
   "outputs": [],
   "source": [
    "T_list = exp10.(range(-3, 4, length=100));"
   ]
  },
  {
   "cell_type": "code",
   "execution_count": 501,
   "id": "fe74e3e1",
   "metadata": {
    "ExecuteTime": {
     "end_time": "2022-05-26T15:02:26.539000+01:00",
     "start_time": "2022-05-26T14:02:26.454Z"
    }
   },
   "outputs": [],
   "source": [
    "T = [i for i in T_list];\n",
    "sz3DMFGS_cl = [pred(i) for i in T_list];"
   ]
  },
  {
   "cell_type": "markdown",
   "id": "eadc1754",
   "metadata": {},
   "source": [
    "## Classical"
   ]
  },
  {
   "cell_type": "code",
   "execution_count": 502,
   "id": "666713d4",
   "metadata": {
    "ExecuteTime": {
     "end_time": "2022-05-26T15:02:26.540000+01:00",
     "start_time": "2022-05-26T14:02:26.455Z"
    }
   },
   "outputs": [],
   "source": [
    "df_cl = DataFrame(hcat(T, sz3DMFGS_cl), :auto);"
   ]
  },
  {
   "cell_type": "code",
   "execution_count": 503,
   "id": "610a3639",
   "metadata": {
    "ExecuteTime": {
     "end_time": "2022-05-26T15:02:26.541000+01:00",
     "start_time": "2022-05-26T14:02:26.456Z"
    }
   },
   "outputs": [],
   "source": [
    "# CSV.write(\"C://Users//crh222//QuantumSpinDynamics//MFGS_data_cl_pred.csv\",  df_cl, header = [\"T\", \"sz3D_cl\"]);"
   ]
  },
  {
   "cell_type": "markdown",
   "id": "4a8149a7",
   "metadata": {},
   "source": [
    "## Quantum"
   ]
  },
  {
   "cell_type": "markdown",
   "id": "2763f260",
   "metadata": {},
   "source": [
    "### Variables"
   ]
  },
  {
   "cell_type": "markdown",
   "id": "158a098b",
   "metadata": {},
   "source": [
    "#### Lorentzian Spectral Density"
   ]
  },
  {
   "cell_type": "code",
   "execution_count": 504,
   "id": "9efb3ec9",
   "metadata": {
    "ExecuteTime": {
     "end_time": "2022-05-26T15:02:26.543000+01:00",
     "start_time": "2022-05-26T14:02:26.457Z"
    }
   },
   "outputs": [],
   "source": [
    "prm1 = [7.0 5.0 10.0];\n",
    "prm2 = [1.4 0.5 0.16];\n",
    "prm3 = [1.4 0.001 10.0];\n",
    "prm4 = [1.4 0 2];"
   ]
  },
  {
   "cell_type": "code",
   "execution_count": 505,
   "id": "a3161496",
   "metadata": {
    "ExecuteTime": {
     "end_time": "2022-05-26T15:02:26.545000+01:00",
     "start_time": "2022-05-26T14:02:26.458Z"
    }
   },
   "outputs": [],
   "source": [
    "ω0x, Γx, αx = prm4*ωL;\n",
    "ω0y, Γy, αy = prm4*ωL;\n",
    "ω0z, Γz, αz = prm4*ωL;"
   ]
  },
  {
   "cell_type": "markdown",
   "id": "0aa7d898",
   "metadata": {},
   "source": [
    "#### RC-Specific"
   ]
  },
  {
   "cell_type": "code",
   "execution_count": 506,
   "id": "2bf455f0",
   "metadata": {
    "ExecuteTime": {
     "end_time": "2022-05-26T15:02:26.547000+01:00",
     "start_time": "2022-05-26T14:02:26.459Z"
    }
   },
   "outputs": [],
   "source": [
    "Ωx = ω0x;\n",
    "λx = ωL*sqrt(αx/Ωx);\n",
    "δx = Γx/(2π*Ωx);\n",
    "nx = 3;"
   ]
  },
  {
   "cell_type": "code",
   "execution_count": 507,
   "id": "7dfa306a",
   "metadata": {
    "ExecuteTime": {
     "end_time": "2022-05-26T15:02:26.548000+01:00",
     "start_time": "2022-05-26T14:02:26.460Z"
    }
   },
   "outputs": [],
   "source": [
    "Ωy = ω0y;\n",
    "λy = ωL*sqrt(αy/Ωy);\n",
    "δy = Γy/(2π*Ωy);\n",
    "ny = 3;"
   ]
  },
  {
   "cell_type": "code",
   "execution_count": 508,
   "id": "6d4512a2",
   "metadata": {
    "ExecuteTime": {
     "end_time": "2022-05-26T15:02:26.550000+01:00",
     "start_time": "2022-05-26T14:02:26.461Z"
    }
   },
   "outputs": [],
   "source": [
    "Ωz = ω0z;\n",
    "λz = ωL*sqrt(αz/Ωz);\n",
    "δz = Γz/(2π*Ωz);\n",
    "nz = 3;"
   ]
  },
  {
   "cell_type": "markdown",
   "id": "56a2a438",
   "metadata": {},
   "source": [
    "### Gibbs State"
   ]
  },
  {
   "cell_type": "code",
   "execution_count": 509,
   "id": "be242e93",
   "metadata": {
    "ExecuteTime": {
     "end_time": "2022-05-26T15:02:26.551000+01:00",
     "start_time": "2022-05-26T14:02:26.462Z"
    }
   },
   "outputs": [],
   "source": [
    "ρSpG(T) = gibbs(HSpG, T);"
   ]
  },
  {
   "cell_type": "code",
   "execution_count": 510,
   "id": "10dfa2b3",
   "metadata": {
    "ExecuteTime": {
     "end_time": "2022-05-26T15:02:26.558000+01:00",
     "start_time": "2022-05-26T14:02:26.463Z"
    }
   },
   "outputs": [
    {
     "data": {
      "text/plain": [
       "2×2 Matrix{Float64}:\n",
       " 0.207653  0.0\n",
       " 0.0       0.792347"
      ]
     },
     "execution_count": 510,
     "metadata": {},
     "output_type": "execute_result"
    }
   ],
   "source": [
    "ρSpG(10)"
   ]
  },
  {
   "cell_type": "code",
   "execution_count": 511,
   "id": "806673a3",
   "metadata": {
    "ExecuteTime": {
     "end_time": "2022-05-26T15:02:26.560000+01:00",
     "start_time": "2022-05-26T14:02:26.463Z"
    }
   },
   "outputs": [
    {
     "data": {
      "text/plain": [
       "1.0"
      ]
     },
     "execution_count": 511,
     "metadata": {},
     "output_type": "execute_result"
    }
   ],
   "source": [
    "tr(ρSpG(10))"
   ]
  },
  {
   "cell_type": "markdown",
   "id": "d78f831d",
   "metadata": {},
   "source": [
    "## 1D Mean-Force Gibbs State\n"
   ]
  },
  {
   "cell_type": "code",
   "execution_count": 512,
   "id": "0c9fc24e",
   "metadata": {
    "ExecuteTime": {
     "end_time": "2022-05-26T15:02:26.561000+01:00",
     "start_time": "2022-05-26T14:02:26.464Z"
    }
   },
   "outputs": [],
   "source": [
    "Htot1D = HRC1D(nx, λx, Ωx); # System Hamiltonian in original basis"
   ]
  },
  {
   "cell_type": "code",
   "execution_count": 513,
   "id": "b26328e0",
   "metadata": {
    "ExecuteTime": {
     "end_time": "2022-05-26T15:02:26.562000+01:00",
     "start_time": "2022-05-26T14:02:26.465Z"
    }
   },
   "outputs": [],
   "source": [
    "P1D = eigen(Htot1D).vectors; # Find the projectors onto the system eigenbasis"
   ]
  },
  {
   "cell_type": "code",
   "execution_count": 514,
   "id": "e3c345dc",
   "metadata": {
    "ExecuteTime": {
     "end_time": "2022-05-26T15:02:26.562000+01:00",
     "start_time": "2022-05-26T14:02:26.466Z"
    }
   },
   "outputs": [],
   "source": [
    "Htot1DT = adjoint(P1D)*Htot1D*P1D; # System Hamiltonian in its eigenbasis"
   ]
  },
  {
   "cell_type": "code",
   "execution_count": 515,
   "id": "ef67b3a8",
   "metadata": {
    "ExecuteTime": {
     "end_time": "2022-05-26T15:02:26.564000+01:00",
     "start_time": "2022-05-26T14:02:26.467Z"
    }
   },
   "outputs": [],
   "source": [
    "ρtot1D(T) = P1D*gibbs(Htot1DT, T)*adjoint(P1D); # Total Gibbs state in original basis"
   ]
  },
  {
   "cell_type": "code",
   "execution_count": 516,
   "id": "ce33a3a6",
   "metadata": {
    "ExecuteTime": {
     "end_time": "2022-05-26T15:02:26.565000+01:00",
     "start_time": "2022-05-26T14:02:26.468Z"
    }
   },
   "outputs": [],
   "source": [
    "ρMFGS1D(T) = ptrace(ρtot1D(T), nx); # Trace out the bath"
   ]
  },
  {
   "cell_type": "code",
   "execution_count": 517,
   "id": "09462114",
   "metadata": {
    "ExecuteTime": {
     "end_time": "2022-05-26T15:02:26.588000+01:00",
     "start_time": "2022-05-26T14:02:26.469Z"
    }
   },
   "outputs": [
    {
     "data": {
      "text/plain": [
       "2×2 Matrix{Float64}:\n",
       " 0.250966     4.33898e-18\n",
       " 4.33898e-18  0.749034"
      ]
     },
     "execution_count": 517,
     "metadata": {},
     "output_type": "execute_result"
    }
   ],
   "source": [
    "ρMFGS1D(10) # Resulting MFGS"
   ]
  },
  {
   "cell_type": "code",
   "execution_count": 518,
   "id": "ad139acf",
   "metadata": {
    "ExecuteTime": {
     "end_time": "2022-05-26T15:02:26.589000+01:00",
     "start_time": "2022-05-26T14:02:26.470Z"
    }
   },
   "outputs": [
    {
     "data": {
      "text/plain": [
       "2×2 Matrix{Float64}:\n",
       " 0.207653  0.0\n",
       " 0.0       0.792347"
      ]
     },
     "execution_count": 518,
     "metadata": {},
     "output_type": "execute_result"
    }
   ],
   "source": [
    "ρSpG(10) # Compare to the Gibbs state (should be the same when λ = 0)"
   ]
  },
  {
   "cell_type": "code",
   "execution_count": 519,
   "id": "b686421a",
   "metadata": {
    "ExecuteTime": {
     "end_time": "2022-05-26T15:02:26.590000+01:00",
     "start_time": "2022-05-26T14:02:26.470Z"
    }
   },
   "outputs": [
    {
     "data": {
      "text/plain": [
       "1.0000000000000002"
      ]
     },
     "execution_count": 519,
     "metadata": {},
     "output_type": "execute_result"
    }
   ],
   "source": [
    "tr(ρMFGS1D(1))"
   ]
  },
  {
   "cell_type": "markdown",
   "id": "25a20646",
   "metadata": {},
   "source": [
    "## 2D Mean-Force Gibbs State"
   ]
  },
  {
   "cell_type": "code",
   "execution_count": 520,
   "id": "0ad5089f",
   "metadata": {
    "ExecuteTime": {
     "end_time": "2022-05-26T15:02:26.591000+01:00",
     "start_time": "2022-05-26T14:02:26.471Z"
    }
   },
   "outputs": [],
   "source": [
    "Htot2D = HRC2D(nx, nz, λx, λz, Ωx, Ωz); # System Hamiltonian in original basis"
   ]
  },
  {
   "cell_type": "code",
   "execution_count": 521,
   "id": "f1fb3381",
   "metadata": {
    "ExecuteTime": {
     "end_time": "2022-05-26T15:02:26.593000+01:00",
     "start_time": "2022-05-26T14:02:26.472Z"
    }
   },
   "outputs": [],
   "source": [
    "P2D = eigen(Htot2D).vectors; # Find the projectors onto the system eigenbasis"
   ]
  },
  {
   "cell_type": "code",
   "execution_count": 522,
   "id": "cf921da0",
   "metadata": {
    "ExecuteTime": {
     "end_time": "2022-05-26T15:02:26.594000+01:00",
     "start_time": "2022-05-26T14:02:26.473Z"
    }
   },
   "outputs": [],
   "source": [
    "Htot2DT = adjoint(P2D)*Htot2D*P2D; # System Hamiltonian in its eigenbasis"
   ]
  },
  {
   "cell_type": "code",
   "execution_count": 523,
   "id": "953f4513",
   "metadata": {
    "ExecuteTime": {
     "end_time": "2022-05-26T15:02:26.595000+01:00",
     "start_time": "2022-05-26T14:02:26.474Z"
    }
   },
   "outputs": [],
   "source": [
    "ρtot2D(T) = P2D*gibbs(Htot2DT, T)*adjoint(P2D); # Total Gibbs state in original basis"
   ]
  },
  {
   "cell_type": "code",
   "execution_count": 524,
   "id": "29a29c5e",
   "metadata": {
    "ExecuteTime": {
     "end_time": "2022-05-26T15:02:26.597000+01:00",
     "start_time": "2022-05-26T14:02:26.474Z"
    }
   },
   "outputs": [],
   "source": [
    "ρMFGS2D(T) = ptrace(ρtot2D(T), nx*nz); # Trace out the bath"
   ]
  },
  {
   "cell_type": "code",
   "execution_count": 525,
   "id": "b1a4c321",
   "metadata": {
    "ExecuteTime": {
     "end_time": "2022-05-26T15:02:26.618000+01:00",
     "start_time": "2022-05-26T14:02:26.475Z"
    }
   },
   "outputs": [
    {
     "data": {
      "text/plain": [
       "2×2 Matrix{Float64}:\n",
       " 0.243575     2.41953e-16\n",
       " 2.41953e-16  0.756425"
      ]
     },
     "execution_count": 525,
     "metadata": {},
     "output_type": "execute_result"
    }
   ],
   "source": [
    "ρMFGS2D(10) # Resulting MFGS"
   ]
  },
  {
   "cell_type": "code",
   "execution_count": 526,
   "id": "31ca7477",
   "metadata": {
    "ExecuteTime": {
     "end_time": "2022-05-26T15:02:26.622000+01:00",
     "start_time": "2022-05-26T14:02:26.476Z"
    }
   },
   "outputs": [
    {
     "data": {
      "text/plain": [
       "2×2 Matrix{Float64}:\n",
       " 0.207653  0.0\n",
       " 0.0       0.792347"
      ]
     },
     "execution_count": 526,
     "metadata": {},
     "output_type": "execute_result"
    }
   ],
   "source": [
    "ρSpG(10) # Compare to the Gibbs state (should be the same when λ = 0)"
   ]
  },
  {
   "cell_type": "code",
   "execution_count": 527,
   "id": "dd9d7b18",
   "metadata": {
    "ExecuteTime": {
     "end_time": "2022-05-26T15:02:26.625000+01:00",
     "start_time": "2022-05-26T14:02:26.477Z"
    }
   },
   "outputs": [
    {
     "data": {
      "text/plain": [
       "1.0"
      ]
     },
     "execution_count": 527,
     "metadata": {},
     "output_type": "execute_result"
    }
   ],
   "source": [
    "tr(ρMFGS2D(1))"
   ]
  },
  {
   "cell_type": "markdown",
   "id": "1e2ad694",
   "metadata": {},
   "source": [
    "## 3D Mean-Force Gibbs State"
   ]
  },
  {
   "cell_type": "code",
   "execution_count": 528,
   "id": "210c26ce",
   "metadata": {
    "ExecuteTime": {
     "end_time": "2022-05-26T15:02:26.626000+01:00",
     "start_time": "2022-05-26T14:02:26.478Z"
    }
   },
   "outputs": [],
   "source": [
    "Htot3D = HRC3D(nx, ny, nz, λx, λy, λz, Ωx, Ωy, Ωz); # System Hamiltonian in original basis"
   ]
  },
  {
   "cell_type": "code",
   "execution_count": 529,
   "id": "39b8a066",
   "metadata": {
    "ExecuteTime": {
     "end_time": "2022-05-26T15:02:26.628000+01:00",
     "start_time": "2022-05-26T14:02:26.479Z"
    }
   },
   "outputs": [],
   "source": [
    "P3D = eigen(Htot3D).vectors; # Find the projectors onto the system eigenbasis"
   ]
  },
  {
   "cell_type": "code",
   "execution_count": 530,
   "id": "32f7d8e7",
   "metadata": {
    "ExecuteTime": {
     "end_time": "2022-05-26T15:02:26.629000+01:00",
     "start_time": "2022-05-26T14:02:26.480Z"
    }
   },
   "outputs": [],
   "source": [
    "Htot3DT = adjoint(P3D)*Htot3D*P3D; # System Hamiltonian in its eigenbasis"
   ]
  },
  {
   "cell_type": "code",
   "execution_count": 531,
   "id": "a1e96143",
   "metadata": {
    "ExecuteTime": {
     "end_time": "2022-05-26T15:02:26.629000+01:00",
     "start_time": "2022-05-26T14:02:26.480Z"
    }
   },
   "outputs": [],
   "source": [
    "ρtot3D(T) = P3D*gibbs(Htot3DT, T)*adjoint(P3D); # Total Gibbs state in original basis"
   ]
  },
  {
   "cell_type": "code",
   "execution_count": 532,
   "id": "81f15cab",
   "metadata": {
    "ExecuteTime": {
     "end_time": "2022-05-26T15:02:26.631000+01:00",
     "start_time": "2022-05-26T14:02:26.481Z"
    }
   },
   "outputs": [],
   "source": [
    "ρMFGS3D(T) = ptrace(ρtot3D(T), nx*ny*nz); # Trace out the bath"
   ]
  },
  {
   "cell_type": "code",
   "execution_count": 533,
   "id": "9d2d4491",
   "metadata": {
    "ExecuteTime": {
     "end_time": "2022-05-26T15:02:26.675000+01:00",
     "start_time": "2022-05-26T14:02:26.482Z"
    }
   },
   "outputs": [
    {
     "data": {
      "text/plain": [
       "2×2 Matrix{ComplexF64}:\n",
       "     0.270319-1.27738e-18im  -3.44166e-17-3.9035e-16im\n",
       " -3.44166e-17+3.9035e-16im       0.729681-4.33673e-18im"
      ]
     },
     "execution_count": 533,
     "metadata": {},
     "output_type": "execute_result"
    }
   ],
   "source": [
    "ρMFGS3D(10) # Resulting MFGS"
   ]
  },
  {
   "cell_type": "code",
   "execution_count": 534,
   "id": "f6cf21fb",
   "metadata": {
    "ExecuteTime": {
     "end_time": "2022-05-26T15:02:26.677000+01:00",
     "start_time": "2022-05-26T14:02:26.483Z"
    }
   },
   "outputs": [
    {
     "data": {
      "text/plain": [
       "2×2 Matrix{Float64}:\n",
       " 0.207653  0.0\n",
       " 0.0       0.792347"
      ]
     },
     "execution_count": 534,
     "metadata": {},
     "output_type": "execute_result"
    }
   ],
   "source": [
    "ρSpG(10) # Compare to the Gibbs state (should be the same when λ = 0)"
   ]
  },
  {
   "cell_type": "code",
   "execution_count": 539,
   "id": "3d3ae65c",
   "metadata": {
    "ExecuteTime": {
     "end_time": "2022-05-26T15:04:49.148000+01:00",
     "start_time": "2022-05-26T14:04:49.125Z"
    }
   },
   "outputs": [
    {
     "data": {
      "text/plain": [
       "0.9999999999999993 - 1.4221433953446828e-21im"
      ]
     },
     "execution_count": 539,
     "metadata": {},
     "output_type": "execute_result"
    }
   ],
   "source": [
    "tr(ρMFGS3D(1))"
   ]
  },
  {
   "cell_type": "markdown",
   "id": "fa18c9e0",
   "metadata": {},
   "source": [
    "# Plots"
   ]
  },
  {
   "cell_type": "code",
   "execution_count": 536,
   "id": "b8ab81d8",
   "metadata": {
    "ExecuteTime": {
     "end_time": "2022-05-26T15:02:26.697000+01:00",
     "start_time": "2022-05-26T14:02:26.484Z"
    }
   },
   "outputs": [],
   "source": [
    "expzG(T) = real(tr(ρSpG(T)*sz0)); # Gibbs Sz expectation value\n",
    "expz1DMFGS(T) = real(tr(ρMFGS1D(T)*sz0)); # 1D MFGS Sz expectation value\n",
    "expz2DMFGS(T) = real(tr(ρMFGS2D(T)*sz0)); # 2D MFGS Sz expectation value\n",
    "expz3DMFGS(T) = real(tr(ρMFGS3D(T)*sz0)); # 2D MFGS Sz expectation value"
   ]
  },
  {
   "cell_type": "code",
   "execution_count": 537,
   "id": "0f5f6d38",
   "metadata": {
    "ExecuteTime": {
     "end_time": "2022-05-26T15:02:28.832000+01:00",
     "start_time": "2022-05-26T14:02:26.485Z"
    }
   },
   "outputs": [],
   "source": [
    "szG_qu = [expzG(i) for i in T_list];\n",
    "sz1DMFGS_qu = [expz1DMFGS(i) for i in T_list];\n",
    "sz2DMFGS_qu = [expz2DMFGS(i) for i in T_list];\n",
    "sz3DMFGS_qu = [expz3DMFGS(i) for i in T_list];\n",
    "df_qu = DataFrame(hcat(T, szG_qu, sz1DMFGS_qu, sz2DMFGS_qu, sz3DMFGS_qu), :auto);"
   ]
  },
  {
   "cell_type": "code",
   "execution_count": 538,
   "id": "97fef56d",
   "metadata": {
    "ExecuteTime": {
     "end_time": "2022-05-26T15:02:28.835000+01:00",
     "start_time": "2022-05-26T14:02:26.486Z"
    }
   },
   "outputs": [],
   "source": [
    "CSV.write(\"C://Users//crh222//QuantumSpinDynamics//MFGS_data_qu.csv\",  df_qu, header = [\"T\", \"szG\", \"sz1DMFGS\", \"sz2DMFGS\", \"sz3DMFGS\"]);"
   ]
  }
 ],
 "metadata": {
  "kernelspec": {
   "display_name": "Julia 1.7.2",
   "language": "julia",
   "name": "julia-1.7"
  },
  "language_info": {
   "file_extension": ".jl",
   "mimetype": "application/julia",
   "name": "julia",
   "version": "1.7.2"
  },
  "toc": {
   "base_numbering": 1,
   "nav_menu": {},
   "number_sections": true,
   "sideBar": true,
   "skip_h1_title": false,
   "title_cell": "Table of Contents",
   "title_sidebar": "Contents",
   "toc_cell": false,
   "toc_position": {},
   "toc_section_display": true,
   "toc_window_display": false
  }
 },
 "nbformat": 4,
 "nbformat_minor": 5
}
