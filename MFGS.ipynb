{
 "cells": [
  {
   "cell_type": "markdown",
   "id": "4a8149a7",
   "metadata": {},
   "source": [
    "# Dimension-Dependence of MFGS"
   ]
  },
  {
   "cell_type": "markdown",
   "id": "37b98acf",
   "metadata": {
    "ExecuteTime": {
     "end_time": "2022-04-20T15:12:34.705000+01:00",
     "start_time": "2022-04-20T14:12:33.997Z"
    }
   },
   "source": [
    "<span style=\"font-size:1.2em;\">! Run this in **Julia** !</span> "
   ]
  },
  {
   "cell_type": "markdown",
   "id": "e8400041",
   "metadata": {},
   "source": [
    "1. You'll need to install the Julia add on for Jupyter Notebooks (IJulia). Follow guide here: https://datatofish.com/add-julia-to-jupyter/\n",
    "2. Go to *Kernel* -> *Change Kernel* -> *Julia*"
   ]
  },
  {
   "cell_type": "markdown",
   "id": "6a2849f6",
   "metadata": {
    "heading_collapsed": true
   },
   "source": [
    "## Packages"
   ]
  },
  {
   "cell_type": "code",
   "execution_count": 1,
   "id": "f1629c11",
   "metadata": {
    "ExecuteTime": {
     "end_time": "2022-05-14T22:53:33.363000+01:00",
     "start_time": "2022-05-14T21:52:12.392Z"
    },
    "hidden": true
   },
   "outputs": [],
   "source": [
    "include(\"RCLib.jl\") # Include the RC library with all the useful functions\n",
    "using .RCLib\n",
    "\n",
    "using LinearAlgebra # For IIL matrix multiplication\n",
    "using OrdinaryDiffEq\n",
    "using DifferentialEquations\n",
    "\n",
    "## Plotting Packages ##\n",
    "using CSV # Allows data to be converted to .CSV to use with Python for plotting\n",
    "using DataFrames # Another useful package for exporting data\n",
    "using Plots\n",
    "\n",
    "## Performance Packages ##\n",
    "using BenchmarkTools"
   ]
  },
  {
   "cell_type": "markdown",
   "id": "2763f260",
   "metadata": {
    "heading_collapsed": true
   },
   "source": [
    "## Variables"
   ]
  },
  {
   "cell_type": "markdown",
   "id": "158a098b",
   "metadata": {
    "hidden": true
   },
   "source": [
    "### Lorentzian Spectral Density"
   ]
  },
  {
   "cell_type": "code",
   "execution_count": 2,
   "id": "9efb3ec9",
   "metadata": {
    "ExecuteTime": {
     "end_time": "2022-05-14T22:57:24.880000+01:00",
     "start_time": "2022-05-14T21:57:02.630Z"
    },
    "hidden": true
   },
   "outputs": [],
   "source": [
    "prm1 = [7.0 5.0 10.0];\n",
    "prm2 = [1.4 0.5 0.16];\n",
    "prm3 = [1.4 0.001 10];"
   ]
  },
  {
   "cell_type": "code",
   "execution_count": 3,
   "id": "a3161496",
   "metadata": {
    "ExecuteTime": {
     "end_time": "2022-05-14T22:57:25.182000+01:00",
     "start_time": "2022-05-14T21:57:02.952Z"
    },
    "hidden": true
   },
   "outputs": [],
   "source": [
    "ω0x, Γx, αx = prm3*ωL;\n",
    "ω0z, Γz, αz = prm3*ωL;"
   ]
  },
  {
   "cell_type": "markdown",
   "id": "0aa7d898",
   "metadata": {
    "hidden": true
   },
   "source": [
    "### RC-Specific"
   ]
  },
  {
   "cell_type": "code",
   "execution_count": 4,
   "id": "2bf455f0",
   "metadata": {
    "ExecuteTime": {
     "end_time": "2022-05-14T22:57:25.218000+01:00",
     "start_time": "2022-05-14T21:57:03.794Z"
    },
    "hidden": true
   },
   "outputs": [],
   "source": [
    "Ωx = ω0x;\n",
    "λx = ωL*sqrt(αx/Ωx);\n",
    "δx = Γx/(2π*Ωx);\n",
    "nx = 2;"
   ]
  },
  {
   "cell_type": "code",
   "execution_count": 5,
   "id": "6d4512a2",
   "metadata": {
    "ExecuteTime": {
     "end_time": "2022-05-14T22:57:25.218000+01:00",
     "start_time": "2022-05-14T21:57:04.153Z"
    },
    "hidden": true
   },
   "outputs": [],
   "source": [
    "Ωz = ω0z;\n",
    "λz = ωL*sqrt(αz/Ωz);\n",
    "δz = Γz/(2π*Ωz);\n",
    "nz = 2;"
   ]
  },
  {
   "cell_type": "markdown",
   "id": "790bce6b",
   "metadata": {
    "hidden": true
   },
   "source": [
    "### Environment"
   ]
  },
  {
   "cell_type": "code",
   "execution_count": 6,
   "id": "69f4a168",
   "metadata": {
    "ExecuteTime": {
     "end_time": "2022-05-14T22:57:25.228000+01:00",
     "start_time": "2022-05-14T21:57:04.945Z"
    },
    "hidden": true
   },
   "outputs": [],
   "source": [
    "T = 1;"
   ]
  },
  {
   "cell_type": "markdown",
   "id": "d78f831d",
   "metadata": {},
   "source": [
    "## 1D\n"
   ]
  },
  {
   "cell_type": "markdown",
   "id": "56a2a438",
   "metadata": {},
   "source": [
    "### Gibbs State"
   ]
  },
  {
   "cell_type": "code",
   "execution_count": 23,
   "id": "be242e93",
   "metadata": {
    "ExecuteTime": {
     "end_time": "2022-05-14T23:00:48.564000+01:00",
     "start_time": "2022-05-14T22:00:48.563Z"
    }
   },
   "outputs": [],
   "source": [
    "H1D = gibbs(HSp1D(nx), T);"
   ]
  },
  {
   "cell_type": "code",
   "execution_count": 24,
   "id": "fc1ce5cb",
   "metadata": {
    "ExecuteTime": {
     "end_time": "2022-05-14T23:00:49.440000+01:00",
     "start_time": "2022-05-14T22:00:49.440Z"
    }
   },
   "outputs": [
    {
     "data": {
      "text/plain": [
       "2×2 Matrix{Float64}:\n",
       " 1.52837e-6  0.0\n",
       " 0.0         0.999998"
      ]
     },
     "execution_count": 24,
     "metadata": {},
     "output_type": "execute_result"
    }
   ],
   "source": [
    "ρSp1D = ptrace(H1D, nx)"
   ]
  },
  {
   "cell_type": "code",
   "execution_count": 40,
   "id": "b26b5522",
   "metadata": {
    "ExecuteTime": {
     "end_time": "2022-05-14T23:04:33.868000+01:00",
     "start_time": "2022-05-14T22:04:33.864Z"
    }
   },
   "outputs": [
    {
     "data": {
      "text/plain": [
       "1.0000000000000002"
      ]
     },
     "execution_count": 40,
     "metadata": {},
     "output_type": "execute_result"
    }
   ],
   "source": [
    "tr(ρSp1D)"
   ]
  },
  {
   "cell_type": "markdown",
   "id": "fee87d4a",
   "metadata": {},
   "source": [
    "### Mean-Force Gibbs State"
   ]
  },
  {
   "cell_type": "code",
   "execution_count": 25,
   "id": "0c9fc24e",
   "metadata": {
    "ExecuteTime": {
     "end_time": "2022-05-14T23:00:50.092000+01:00",
     "start_time": "2022-05-14T22:00:50.092Z"
    }
   },
   "outputs": [],
   "source": [
    "Htot1D = HRC1D(nx, λx, Ωx);"
   ]
  },
  {
   "cell_type": "code",
   "execution_count": 26,
   "id": "ef67b3a8",
   "metadata": {
    "ExecuteTime": {
     "end_time": "2022-05-14T23:00:50.312000+01:00",
     "start_time": "2022-05-14T22:00:50.317Z"
    }
   },
   "outputs": [],
   "source": [
    "ρtot1D = gibbs(Htot1D, T);"
   ]
  },
  {
   "cell_type": "code",
   "execution_count": 27,
   "id": "ce33a3a6",
   "metadata": {
    "ExecuteTime": {
     "end_time": "2022-05-14T23:00:50.563000+01:00",
     "start_time": "2022-05-14T22:00:50.560Z"
    }
   },
   "outputs": [
    {
     "data": {
      "text/plain": [
       "2×2 Matrix{Float64}:\n",
       " 0.166983  0.0\n",
       " 0.0       0.833017"
      ]
     },
     "execution_count": 27,
     "metadata": {},
     "output_type": "execute_result"
    }
   ],
   "source": [
    "ρSpMFGS1D = ptrace(ρtot1D, nx)"
   ]
  },
  {
   "cell_type": "code",
   "execution_count": 39,
   "id": "b686421a",
   "metadata": {
    "ExecuteTime": {
     "end_time": "2022-05-14T23:04:29.829000+01:00",
     "start_time": "2022-05-14T22:04:29.832Z"
    }
   },
   "outputs": [
    {
     "data": {
      "text/plain": [
       "1.0"
      ]
     },
     "execution_count": 39,
     "metadata": {},
     "output_type": "execute_result"
    }
   ],
   "source": [
    "tr(ρSpMFGS1D)"
   ]
  },
  {
   "cell_type": "markdown",
   "id": "0ba67758",
   "metadata": {
    "ExecuteTime": {
     "end_time": "2022-05-12T11:13:17.632000+01:00",
     "start_time": "2022-05-12T10:12:48.097Z"
    }
   },
   "source": [
    "## 2D"
   ]
  },
  {
   "cell_type": "markdown",
   "id": "ae22dd27",
   "metadata": {},
   "source": [
    "### Gibbs State"
   ]
  },
  {
   "cell_type": "code",
   "execution_count": 28,
   "id": "98af1b8d",
   "metadata": {
    "ExecuteTime": {
     "end_time": "2022-05-14T23:00:55.142000+01:00",
     "start_time": "2022-05-14T22:00:55.139Z"
    }
   },
   "outputs": [],
   "source": [
    "H2D = gibbs(HSp2D(nx, nz), T);"
   ]
  },
  {
   "cell_type": "code",
   "execution_count": 30,
   "id": "883f6b0e",
   "metadata": {
    "ExecuteTime": {
     "end_time": "2022-05-14T23:01:34.147000+01:00",
     "start_time": "2022-05-14T22:01:34.147Z"
    }
   },
   "outputs": [
    {
     "data": {
      "text/plain": [
       "2×2 Matrix{Float64}:\n",
       " 1.52837e-6  0.0\n",
       " 0.0         0.999998"
      ]
     },
     "execution_count": 30,
     "metadata": {},
     "output_type": "execute_result"
    }
   ],
   "source": [
    "ρSp2D = ptrace(ptrace(H2D, nz), nx)"
   ]
  },
  {
   "cell_type": "code",
   "execution_count": 35,
   "id": "a0133c9c",
   "metadata": {
    "ExecuteTime": {
     "end_time": "2022-05-14T23:03:51.432000+01:00",
     "start_time": "2022-05-14T22:03:51.432Z"
    }
   },
   "outputs": [
    {
     "data": {
      "text/plain": [
       "1.0000000000000002"
      ]
     },
     "execution_count": 35,
     "metadata": {},
     "output_type": "execute_result"
    }
   ],
   "source": [
    "tr(ρSp2D)"
   ]
  },
  {
   "cell_type": "markdown",
   "id": "25a20646",
   "metadata": {},
   "source": [
    "### Mean-Force Gibbs State"
   ]
  },
  {
   "cell_type": "code",
   "execution_count": 31,
   "id": "8690746d",
   "metadata": {
    "ExecuteTime": {
     "end_time": "2022-05-14T23:02:02.488000+01:00",
     "start_time": "2022-05-14T22:01:59.318Z"
    }
   },
   "outputs": [],
   "source": [
    "Htot2D = HRC2D(nx, nz, λx, λz, Ωx, Ωz);"
   ]
  },
  {
   "cell_type": "code",
   "execution_count": 32,
   "id": "738e95f3",
   "metadata": {
    "ExecuteTime": {
     "end_time": "2022-05-14T23:02:07.321000+01:00",
     "start_time": "2022-05-14T22:02:07.317Z"
    }
   },
   "outputs": [],
   "source": [
    "ρtot2D = gibbs(Htot2D, T);"
   ]
  },
  {
   "cell_type": "code",
   "execution_count": 36,
   "id": "72462178",
   "metadata": {
    "ExecuteTime": {
     "end_time": "2022-05-14T23:03:56.081000+01:00",
     "start_time": "2022-05-14T22:03:56.078Z"
    }
   },
   "outputs": [
    {
     "data": {
      "text/plain": [
       "2×2 Matrix{Float64}:\n",
       "  0.0896956    -1.57969e-17\n",
       " -1.57969e-17   0.910304"
      ]
     },
     "execution_count": 36,
     "metadata": {},
     "output_type": "execute_result"
    }
   ],
   "source": [
    "ρSpMFGS2D = ptrace(ptrace(ρtot2D, nz), nx)"
   ]
  },
  {
   "cell_type": "code",
   "execution_count": 37,
   "id": "dd728363",
   "metadata": {
    "ExecuteTime": {
     "end_time": "2022-05-14T23:03:58.922000+01:00",
     "start_time": "2022-05-14T22:03:58.918Z"
    }
   },
   "outputs": [
    {
     "data": {
      "text/plain": [
       "1.0"
      ]
     },
     "execution_count": 37,
     "metadata": {},
     "output_type": "execute_result"
    }
   ],
   "source": [
    "tr(ρSpMFGS2D)"
   ]
  }
 ],
 "metadata": {
  "kernelspec": {
   "display_name": "Julia 1.7.2",
   "language": "julia",
   "name": "julia-1.7"
  },
  "language_info": {
   "file_extension": ".jl",
   "mimetype": "application/julia",
   "name": "julia",
   "version": "1.7.2"
  },
  "toc": {
   "base_numbering": 1,
   "nav_menu": {},
   "number_sections": true,
   "sideBar": true,
   "skip_h1_title": false,
   "title_cell": "Table of Contents",
   "title_sidebar": "Contents",
   "toc_cell": false,
   "toc_position": {},
   "toc_section_display": true,
   "toc_window_display": false
  }
 },
 "nbformat": 4,
 "nbformat_minor": 5
}
