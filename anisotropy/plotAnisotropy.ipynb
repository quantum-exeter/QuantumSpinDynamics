{
 "cells": [
  {
   "cell_type": "markdown",
   "metadata": {},
   "source": [
    "# Plot Anisotropy #"
   ]
  },
  {
   "cell_type": "markdown",
   "metadata": {},
   "source": [
    "#### Preamble ####"
   ]
  },
  {
   "cell_type": "code",
   "execution_count": 9,
   "metadata": {},
   "outputs": [],
   "source": [
    "import numpy as np\n",
    "import numpy.random as rn\n",
    "import matplotlib\n",
    "import matplotlib.pyplot as plt\n",
    "import pandas as pd\n",
    "from mpl_toolkits.axes_grid1.inset_locator import inset_axes\n",
    "\n",
    "from scipy.linalg import expm\n",
    "\n",
    "matplotlib.rcParams['text.usetex'] = True\n",
    "matplotlib.rcParams['text.latex.preamble'] = r'\\usepackage{bm}'\n",
    "matplotlib.rcParams['font.size'] = 9\n",
    "matplotlib.rcParams['legend.fontsize'] = 8"
   ]
  },
  {
   "cell_type": "code",
   "execution_count": 16,
   "metadata": {},
   "outputs": [],
   "source": [
    "#### Load data ####\n",
    "data = np.load(\"anisotropy.npz\")"
   ]
  },
  {
   "cell_type": "code",
   "execution_count": 55,
   "metadata": {},
   "outputs": [
    {
     "data": {
      "image/png": "[encoded data removed]",
      "text/plain": [
       "<Figure size 216x180 with 1 Axes>"
      ]
     },
     "metadata": {
      "needs_background": "light"
     },
     "output_type": "display_data"
    }
   ],
   "source": [
    "fig, ax = plt.subplots(1, 1, figsize=(3, 2.5))\n",
    "\n",
    "# ax.set_xlabel(\"$\\\\tan{\\\\theta}/\\sqrt{2}$\")\n",
    "ax.set_xlabel(\"$\\sqrt{\\\\frac{\\lambda_x^2 + \\lambda_y^2}{2 \\lambda_z^2}}$\")\n",
    "ax.set_ylabel(\"$\\mathcal{E}$\")\n",
    "\n",
    "##### Data ######\n",
    "ax.plot(np.tan(data['theta'])/np.sqrt(2), data['entropy1D']/np.log(2), label='three-bath')\n",
    "ax.plot(np.tan(data['theta'])/np.sqrt(2), data['entropy3D']/np.log(2), label='single-bath')\n",
    "ax.plot(1, 0.08, 'ko', markersize=4)\n",
    "ax.plot(1, 0.55, 'ko', markersize=4)\n",
    "ax.axvline(1, color='k', linestyle='--', lw=0.8, dashes=(5, 4))\n",
    "\n",
    "plt.legend(frameon=False)\n",
    "plt.savefig('anisotropy.pdf', bbox_inches=\"tight\", dpi=500)"
   ]
  },
  {
   "cell_type": "code",
   "execution_count": null,
   "metadata": {},
   "outputs": [],
   "source": []
  }
 ],
 "metadata": {
  "kernelspec": {
   "display_name": "Python 3",
   "language": "python",
   "name": "python3"
  },
  "language_info": {
   "codemirror_mode": {
    "name": "ipython",
    "version": 3
   },
   "file_extension": ".py",
   "mimetype": "text/x-python",
   "name": "python",
   "nbconvert_exporter": "python",
   "pygments_lexer": "ipython3",
   "version": "3.10.11"
  }
 },
 "nbformat": 4,
 "nbformat_minor": 2
}
