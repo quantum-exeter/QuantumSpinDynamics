{
 "cells": [
  {
   "cell_type": "markdown",
   "id": "abd6d9ab",
   "metadata": {},
   "source": [
    "# Run Statics"
   ]
  },
  {
   "cell_type": "markdown",
   "id": "1ac87b0d",
   "metadata": {},
   "source": [
    "## Preamble"
   ]
  },
  {
   "cell_type": "code",
   "execution_count": 1,
   "id": "16f8153b",
   "metadata": {
    "ExecuteTime": {
     "end_time": "2022-06-01T20:08:13.152000+01:00",
     "start_time": "2022-06-01T19:08:07.219Z"
    }
   },
   "outputs": [],
   "source": [
    "using CSV # Allows data to be converted to .CSV to use with Python for plotting\n",
    "using DataFrames # Another useful package for exporting data"
   ]
  },
  {
   "cell_type": "code",
   "execution_count": 2,
   "id": "f5833a27",
   "metadata": {
    "ExecuteTime": {
     "end_time": "2022-06-01T20:08:25.804000+01:00",
     "start_time": "2022-06-01T19:08:07.820Z"
    }
   },
   "outputs": [],
   "source": [
    "include(\"../lib/Statics.jl\")\n",
    "using .Statics"
   ]
  },
  {
   "cell_type": "code",
   "execution_count": 3,
   "id": "9e0903df",
   "metadata": {
    "ExecuteTime": {
     "end_time": "2022-06-01T20:08:25.811000+01:00",
     "start_time": "2022-06-01T19:08:08.126Z"
    }
   },
   "outputs": [],
   "source": [
    "real_if_close(c) = isnan(imag(c)) || imag(c) < 1e-14 ? real(c) : c;\n",
    "real_if_close(c::AbstractArray) = real_if_close.(c);"
   ]
  },
  {
   "cell_type": "markdown",
   "id": "3d18ff54",
   "metadata": {},
   "source": [
    "## Variables"
   ]
  },
  {
   "cell_type": "markdown",
   "id": "2d4db5dc",
   "metadata": {},
   "source": [
    "Here, you can change the temperature range. Any other variable changes can be made in lib/variables.jl"
   ]
  },
  {
   "cell_type": "code",
   "execution_count": 4,
   "id": "777bc6a0",
   "metadata": {
    "ExecuteTime": {
     "end_time": "2022-06-01T20:08:31.497000+01:00",
     "start_time": "2022-06-01T19:08:31.233Z"
    }
   },
   "outputs": [],
   "source": [
    "T_list = exp10.(range(-3, 4, length=100));\n",
    "T = [i for i in T_list];"
   ]
  },
  {
   "cell_type": "markdown",
   "id": "75e5e847",
   "metadata": {
    "heading_collapsed": true
   },
   "source": [
    "## Gibbs"
   ]
  },
  {
   "cell_type": "markdown",
   "id": "9f91a255",
   "metadata": {
    "heading_collapsed": true,
    "hidden": true
   },
   "source": [
    "### Compute Expectation Values"
   ]
  },
  {
   "cell_type": "code",
   "execution_count": 5,
   "id": "e720edba",
   "metadata": {
    "ExecuteTime": {
     "end_time": "2022-06-01T20:08:34.702000+01:00",
     "start_time": "2022-06-01T19:08:32.360Z"
    },
    "hidden": true
   },
   "outputs": [],
   "source": [
    "sG_list = reduce(vcat, [real_if_close(sG(i)) for i in T_list]);"
   ]
  },
  {
   "cell_type": "code",
   "execution_count": 6,
   "id": "242252d3",
   "metadata": {
    "ExecuteTime": {
     "end_time": "2022-06-01T20:08:34.748000+01:00",
     "start_time": "2022-06-01T19:08:33.498Z"
    },
    "hidden": true
   },
   "outputs": [],
   "source": [
    "sxG = sG_list[:,1]; # s_x\n",
    "syG = sG_list[:,2]; # s_y\n",
    "szG = sG_list[:,3]; # s_z"
   ]
  },
  {
   "cell_type": "markdown",
   "id": "2382763c",
   "metadata": {
    "heading_collapsed": true,
    "hidden": true
   },
   "source": [
    "### Store Expectation Values"
   ]
  },
  {
   "cell_type": "code",
   "execution_count": 7,
   "id": "710bc278",
   "metadata": {
    "ExecuteTime": {
     "end_time": "2022-06-01T20:08:38.079000+01:00",
     "start_time": "2022-06-01T19:08:36.385Z"
    },
    "hidden": true
   },
   "outputs": [],
   "source": [
    "df_G = DataFrame(hcat(T, sxG, syG, szG), :auto);\n",
    "CSV.write(\"C://Users//crh222//QuantumSpinDynamics//data//Gibbs.csv\",  df_G, header = [\"T\", \"sx\", \"sy\", \"sz\"]);"
   ]
  },
  {
   "cell_type": "markdown",
   "id": "d55b7d9e",
   "metadata": {
    "heading_collapsed": true
   },
   "source": [
    "## 1D"
   ]
  },
  {
   "cell_type": "markdown",
   "id": "16b77e5e",
   "metadata": {
    "heading_collapsed": true,
    "hidden": true
   },
   "source": [
    "### Compute Expectation Values"
   ]
  },
  {
   "cell_type": "code",
   "execution_count": 8,
   "id": "7babeb6d",
   "metadata": {
    "ExecuteTime": {
     "end_time": "2022-06-01T20:08:48.169000+01:00",
     "start_time": "2022-06-01T19:08:42.220Z"
    },
    "hidden": true
   },
   "outputs": [],
   "source": [
    "s1D_list = reduce(vcat, [real_if_close(s1D(i)) for i in T_list]);\n",
    "s1Dgs_list = reduce(vcat, [real_if_close(gs1D) for i in T_list]);"
   ]
  },
  {
   "cell_type": "code",
   "execution_count": 9,
   "id": "a962fc2c",
   "metadata": {
    "ExecuteTime": {
     "end_time": "2022-06-01T20:08:48.177000+01:00",
     "start_time": "2022-06-01T19:08:42.506Z"
    },
    "hidden": true
   },
   "outputs": [],
   "source": [
    "sx1D = s1D_list[:,1]; # s_x\n",
    "sx1Dgs = s1Dgs_list[:,1]; # s_x ground state\n",
    "sy1D = s1D_list[:,2]; # s_y\n",
    "sy1Dgs = s1Dgs_list[:,2]; # s_y ground state\n",
    "sz1D = s1D_list[:,3]; # s_z\n",
    "sz1Dgs = s1Dgs_list[:,3]; # s_z ground state"
   ]
  },
  {
   "cell_type": "markdown",
   "id": "d0ec65d1",
   "metadata": {
    "heading_collapsed": true,
    "hidden": true
   },
   "source": [
    "### Store Expectation Values"
   ]
  },
  {
   "cell_type": "code",
   "execution_count": 10,
   "id": "4fd5d34d",
   "metadata": {
    "ExecuteTime": {
     "end_time": "2022-06-01T20:08:48.535000+01:00",
     "start_time": "2022-06-01T19:08:45.687Z"
    },
    "hidden": true
   },
   "outputs": [],
   "source": [
    "df_MFGS1D = DataFrame(hcat(T, sx1D, sx1Dgs, sy1D, sy1Dgs, sz1D, sz1Dgs), :auto);\n",
    "CSV.write(\"C://Users//crh222//QuantumSpinDynamics//data//MFGS1D.csv\",  df_MFGS1D, header = [\"T\", \"sx\", \"sx_gs\", \"sy\", \"sy_gs\", \"sz\", \"sz_gs\"]);"
   ]
  },
  {
   "cell_type": "markdown",
   "id": "c9450cdd",
   "metadata": {
    "heading_collapsed": true
   },
   "source": [
    "## 2D"
   ]
  },
  {
   "cell_type": "markdown",
   "id": "10a2833c",
   "metadata": {
    "heading_collapsed": true,
    "hidden": true
   },
   "source": [
    "### Compute Expectation Values"
   ]
  },
  {
   "cell_type": "code",
   "execution_count": 11,
   "id": "8ed04bfd",
   "metadata": {
    "ExecuteTime": {
     "end_time": "2022-06-01T20:08:54.670000+01:00",
     "start_time": "2022-06-01T19:08:50.198Z"
    },
    "hidden": true
   },
   "outputs": [],
   "source": [
    "s2D_list = reduce(vcat, [real_if_close(s2D(i)) for i in T_list]);\n",
    "s2Dgs_list = reduce(vcat, [real_if_close(gs2D) for i in T_list]);"
   ]
  },
  {
   "cell_type": "code",
   "execution_count": 12,
   "id": "9e078f35",
   "metadata": {
    "ExecuteTime": {
     "end_time": "2022-06-01T20:08:54.686000+01:00",
     "start_time": "2022-06-01T19:08:50.448Z"
    },
    "hidden": true
   },
   "outputs": [],
   "source": [
    "sx2D = s2D_list[:,1]; # s_x\n",
    "sx2Dgs = s2Dgs_list[:,1]; # s_x ground state\n",
    "sy2D = s2D_list[:,2]; # s_y\n",
    "sy2Dgs = s2Dgs_list[:,2]; # s_y ground state\n",
    "sz2D = s2D_list[:,3]; # s_z\n",
    "sz2Dgs = s2Dgs_list[:,3]; # s_z ground state"
   ]
  },
  {
   "cell_type": "markdown",
   "id": "b8e25ff7",
   "metadata": {
    "heading_collapsed": true,
    "hidden": true
   },
   "source": [
    "### Store Expectation Values"
   ]
  },
  {
   "cell_type": "code",
   "execution_count": 13,
   "id": "83028207",
   "metadata": {
    "ExecuteTime": {
     "end_time": "2022-06-01T20:08:54.686000+01:00",
     "start_time": "2022-06-01T19:08:54.564Z"
    },
    "hidden": true
   },
   "outputs": [],
   "source": [
    "df_MFGS2D = DataFrame(hcat(T, sx2D, sx2Dgs, sy2D, sy2Dgs, sz2D, sz2Dgs), :auto);\n",
    "CSV.write(\"C://Users//crh222//QuantumSpinDynamics//data//MFGS2D.csv\",  df_MFGS2D, header = [\"T\", \"sx\", \"sx_gs\", \"sy\", \"sy_gs\", \"sz\", \"sz_gs\"]);"
   ]
  },
  {
   "cell_type": "markdown",
   "id": "55d97146",
   "metadata": {
    "heading_collapsed": true
   },
   "source": [
    "## 3D"
   ]
  },
  {
   "cell_type": "markdown",
   "id": "e4bbc8af",
   "metadata": {
    "heading_collapsed": true,
    "hidden": true
   },
   "source": [
    "### Compute Expectation Values"
   ]
  },
  {
   "cell_type": "code",
   "execution_count": 14,
   "id": "198170a8",
   "metadata": {
    "ExecuteTime": {
     "end_time": "2022-06-01T20:11:02.393000+01:00",
     "start_time": "2022-06-01T19:09:02.598Z"
    },
    "hidden": true
   },
   "outputs": [],
   "source": [
    "s3D_list = reduce(vcat, [real_if_close(s3D(i)) for i in T_list]);\n",
    "s3Dgs_list = reduce(vcat, [real_if_close(gs3D) for i in T_list]);"
   ]
  },
  {
   "cell_type": "code",
   "execution_count": 15,
   "id": "c168ee9e",
   "metadata": {
    "ExecuteTime": {
     "end_time": "2022-06-01T20:11:02.393000+01:00",
     "start_time": "2022-06-01T19:09:03.285Z"
    },
    "hidden": true
   },
   "outputs": [],
   "source": [
    "sx3D = s3D_list[:,1]; # s_x\n",
    "sx3Dgs = s3Dgs_list[:,1]; # s_x ground state\n",
    "sy3D = s3D_list[:,2]; # s_y\n",
    "sy3Dgs = s3Dgs_list[:,2]; # s_y ground state\n",
    "sz3D = s3D_list[:,3]; # s_z\n",
    "sz3Dgs = s3Dgs_list[:,3]; # s_z ground state"
   ]
  },
  {
   "cell_type": "code",
   "execution_count": 16,
   "id": "a4de29ff",
   "metadata": {
    "ExecuteTime": {
     "end_time": "2022-06-01T20:11:02.409000+01:00",
     "start_time": "2022-06-01T19:09:04.129Z"
    },
    "hidden": true
   },
   "outputs": [],
   "source": [
    "df_MFGS3D = DataFrame(hcat(T, sx3D, sx3Dgs, sy3D, sy3Dgs, sz3D, sz3Dgs), :auto);\n",
    "CSV.write(\"C://Users//crh222//QuantumSpinDynamics//data//MFGS3D.csv\",  df_MFGS3D, header = [\"T\", \"sx\", \"sx_gs\", \"sy\", \"sy_gs\", \"sz\", \"sz_gs\"]);"
   ]
  }
 ],
 "metadata": {
  "kernelspec": {
   "display_name": "Julia 1.7.2",
   "language": "julia",
   "name": "julia-1.7"
  },
  "language_info": {
   "file_extension": ".jl",
   "mimetype": "application/julia",
   "name": "julia",
   "version": "1.7.2"
  }
 },
 "nbformat": 4,
 "nbformat_minor": 5
}
