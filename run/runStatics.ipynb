{
 "cells": [
  {
   "cell_type": "markdown",
   "id": "59c3a948",
   "metadata": {},
   "source": [
    "# Run Statics"
   ]
  },
  {
   "cell_type": "markdown",
   "id": "f9f3e47d",
   "metadata": {},
   "source": [
    "## Preamble"
   ]
  },
  {
   "cell_type": "code",
   "execution_count": 1,
   "id": "db683806",
   "metadata": {
    "ExecuteTime": {
     "end_time": "2022-06-17T10:08:09.886000+01:00",
     "start_time": "2022-06-17T09:08:01.059Z"
    }
   },
   "outputs": [],
   "source": [
    "using CSV # Allows data to be converted to .CSV to use with Python for plotting\n",
    "using DataFrames # Another useful package for exporting data"
   ]
  },
  {
   "cell_type": "code",
   "execution_count": 2,
   "id": "f5833a27",
   "metadata": {
    "ExecuteTime": {
     "end_time": "2022-06-17T10:08:10.985000+01:00",
     "start_time": "2022-06-17T09:08:01.285Z"
    }
   },
   "outputs": [],
   "source": [
    "include(\"../lib/Statics.jl\")\n",
    "using .Statics"
   ]
  },
  {
   "cell_type": "markdown",
   "id": "0216d1c6",
   "metadata": {},
   "source": [
    "## Gibbs"
   ]
  },
  {
   "cell_type": "markdown",
   "id": "aa81eee4",
   "metadata": {},
   "source": [
    "### Compute Expectation Values"
   ]
  },
  {
   "cell_type": "code",
   "execution_count": 3,
   "id": "2e5c4391",
   "metadata": {
    "ExecuteTime": {
     "end_time": "2022-06-17T09:52:38.427000+01:00",
     "start_time": "2022-06-17T08:52:31.332Z"
    }
   },
   "outputs": [],
   "source": [
    "sG_list = reduce(vcat, [realIfClose(sG(i)) for i in T]);"
   ]
  },
  {
   "cell_type": "code",
   "execution_count": 4,
   "id": "388e0da2",
   "metadata": {
    "ExecuteTime": {
     "end_time": "2022-06-17T09:52:38.448000+01:00",
     "start_time": "2022-06-17T08:52:31.518Z"
    }
   },
   "outputs": [],
   "source": [
    "sxG = sG_list[:, 1]; # s_x\n",
    "syG = sG_list[:, 2]; # s_y\n",
    "szG = sG_list[:, 3]; # s_z"
   ]
  },
  {
   "cell_type": "markdown",
   "id": "6db4b2fc",
   "metadata": {},
   "source": [
    "### Store Expectation Values"
   ]
  },
  {
   "cell_type": "code",
   "execution_count": 5,
   "id": "f6d4e213",
   "metadata": {
    "ExecuteTime": {
     "end_time": "2022-06-17T09:52:39.450000+01:00",
     "start_time": "2022-06-17T08:52:31.960Z"
    }
   },
   "outputs": [],
   "source": [
    "dfG = DataFrame(hcat(T, sxG, syG, szG), :auto);\n",
    "CSV.write(\"C://Users//crh222//Data//Statics//gibbs.csv\",  dfG, header = [\"T\", \"sx\", \"sy\", \"sz\"]);"
   ]
  },
  {
   "cell_type": "markdown",
   "id": "30f15bfb",
   "metadata": {},
   "source": [
    "## 1D"
   ]
  },
  {
   "cell_type": "markdown",
   "id": "a1445d58",
   "metadata": {},
   "source": [
    "### Compute Expectation Values"
   ]
  },
  {
   "cell_type": "code",
   "execution_count": 3,
   "id": "850170ec",
   "metadata": {
    "ExecuteTime": {
     "end_time": "2022-06-17T10:08:54.721000+01:00",
     "start_time": "2022-06-17T09:08:03.824Z"
    }
   },
   "outputs": [],
   "source": [
    "s1D_list = reduce(vcat, [realIfClose(sMFGS(1, i)) for i in T]);\n",
    "s1Dgs_list = reduce(vcat, [realIfClose(groundState(1)) for i in T]);"
   ]
  },
  {
   "cell_type": "code",
   "execution_count": 4,
   "id": "9b47958d",
   "metadata": {
    "ExecuteTime": {
     "end_time": "2022-06-17T10:08:54.747000+01:00",
     "start_time": "2022-06-17T09:08:04.059Z"
    }
   },
   "outputs": [],
   "source": [
    "sx1D = s1D_list[:, 1]; # s_x\n",
    "sx1Dgs = s1Dgs_list[:, 1]; # s_x ground state\n",
    "sy1D = s1D_list[:, 2]; # s_y\n",
    "sy1Dgs = s1Dgs_list[:, 2]; # s_y ground state\n",
    "sz1D = s1D_list[:, 3]; # s_z\n",
    "sz1Dgs = s1Dgs_list[:, 3]; # s_z ground state"
   ]
  },
  {
   "cell_type": "markdown",
   "id": "ad489741",
   "metadata": {},
   "source": [
    "### Store Expectation Values"
   ]
  },
  {
   "cell_type": "code",
   "execution_count": 5,
   "id": "16ee935b",
   "metadata": {
    "ExecuteTime": {
     "end_time": "2022-06-17T10:08:55.724000+01:00",
     "start_time": "2022-06-17T09:08:04.814Z"
    }
   },
   "outputs": [],
   "source": [
    "dfMFGS1D = DataFrame(hcat(T, sx1D, sx1Dgs, sy1D, sy1Dgs, sz1D, sz1Dgs), :auto);\n",
    "CSV.write(\"C://Users//crh222//Data//Statics//mfgs1D_pi2_prma100.csv\",  dfMFGS1D, header = [\"T\", \"sx\", \"sx_gs\", \"sy\", \"sy_gs\", \"sz\", \"sz_gs\"]);"
   ]
  },
  {
   "cell_type": "markdown",
   "id": "ee985512",
   "metadata": {},
   "source": [
    "### Pure $z$- Coupling Analytical Expression ###"
   ]
  },
  {
   "cell_type": "code",
   "execution_count": 9,
   "id": "2a1ece7f",
   "metadata": {
    "ExecuteTime": {
     "end_time": "2022-06-17T09:53:42.830000+01:00",
     "start_time": "2022-06-17T08:53:42.637Z"
    }
   },
   "outputs": [],
   "source": [
    "szA_list = reduce(vcat, [realIfClose(szAnalytical(i)) for i in T]);"
   ]
  },
  {
   "cell_type": "code",
   "execution_count": 10,
   "id": "ff733d86",
   "metadata": {
    "ExecuteTime": {
     "end_time": "2022-06-17T09:53:42.954000+01:00",
     "start_time": "2022-06-17T08:53:42.933Z"
    }
   },
   "outputs": [],
   "source": [
    "szA = szA_list[:, 1]; # Analytical expression for s_z with PURELY z coupling"
   ]
  },
  {
   "cell_type": "code",
   "execution_count": 11,
   "id": "32316de9",
   "metadata": {
    "ExecuteTime": {
     "end_time": "2022-06-17T09:53:43.514000+01:00",
     "start_time": "2022-06-17T08:53:43.392Z"
    }
   },
   "outputs": [],
   "source": [
    "dfszA = DataFrame(hcat(T, szA), :auto);\n",
    "CSV.write(\"C://Users//crh222//Data//Statics//sz_analytical.csv\",  dfszA, header = [\"T\", \"sz\"]);"
   ]
  },
  {
   "cell_type": "markdown",
   "id": "37ca13a7",
   "metadata": {},
   "source": [
    "## 2D"
   ]
  },
  {
   "cell_type": "markdown",
   "id": "aab4ccc2",
   "metadata": {},
   "source": [
    "### Compute Expectation Values"
   ]
  },
  {
   "cell_type": "code",
   "execution_count": 3,
   "id": "d58ed8a4",
   "metadata": {
    "ExecuteTime": {
     "end_time": "2022-06-16T20:13:46.618000+01:00",
     "start_time": "2022-06-16T19:10:04.459Z"
    }
   },
   "outputs": [],
   "source": [
    "s2D_list = reduce(vcat, [realIfClose(sMFGS(2, i)) for i in T]);\n",
    "s2Dgs_list = reduce(vcat, [realIfClose(groundState(2)) for i in T]);"
   ]
  },
  {
   "cell_type": "code",
   "execution_count": 4,
   "id": "63238813",
   "metadata": {
    "ExecuteTime": {
     "end_time": "2022-06-16T20:13:46.645000+01:00",
     "start_time": "2022-06-16T19:10:04.641Z"
    }
   },
   "outputs": [],
   "source": [
    "sx2D = s2D_list[:,1]; # s_x\n",
    "sx2Dgs = s2Dgs_list[:,1]; # s_x ground state\n",
    "sy2D = s2D_list[:,2]; # s_y\n",
    "sy2Dgs = s2Dgs_list[:,2]; # s_y ground state\n",
    "sz2D = s2D_list[:,3]; # s_z\n",
    "sz2Dgs = s2Dgs_list[:,3]; # s_z ground state"
   ]
  },
  {
   "cell_type": "markdown",
   "id": "d001e1b7",
   "metadata": {},
   "source": [
    "### Store Expectation Values"
   ]
  },
  {
   "cell_type": "code",
   "execution_count": 5,
   "id": "628b35b1",
   "metadata": {
    "ExecuteTime": {
     "end_time": "2022-06-16T20:13:47.646000+01:00",
     "start_time": "2022-06-16T19:10:07.346Z"
    }
   },
   "outputs": [],
   "source": [
    "dfMFGS2D = DataFrame(hcat(T, sx2D, sx2Dgs, sy2D, sy2Dgs, sz2D, sz2Dgs), :auto);\n",
    "CSV.write(\"C://Users//crh222//Data//Statics//mfgs2D_xz_prme15.csv\",  dfMFGS2D, header = [\"T\", \"sx\", \"sx_gs\", \"sy\", \"sy_gs\", \"sz\", \"sz_gs\"]);"
   ]
  },
  {
   "cell_type": "markdown",
   "id": "5fd5b242",
   "metadata": {},
   "source": [
    "## 3D"
   ]
  },
  {
   "cell_type": "markdown",
   "id": "e8fb58f6",
   "metadata": {},
   "source": [
    "### Compute Expectation Values"
   ]
  },
  {
   "cell_type": "code",
   "execution_count": 3,
   "id": "89c3b150",
   "metadata": {
    "ExecuteTime": {
     "end_time": "2022-06-16T20:16:03.785000+01:00",
     "start_time": "2022-06-16T19:14:51.777Z"
    }
   },
   "outputs": [],
   "source": [
    "s3D_list = reduce(vcat, [realIfClose(sMFGS(3, i)) for i in T]);\n",
    "s3Dgs_list = reduce(vcat, [realIfClose(groundState(3)) for i in T]);"
   ]
  },
  {
   "cell_type": "code",
   "execution_count": 4,
   "id": "6e6a3aca",
   "metadata": {
    "ExecuteTime": {
     "end_time": "2022-06-16T20:16:03.812000+01:00",
     "start_time": "2022-06-16T19:14:52.062Z"
    }
   },
   "outputs": [],
   "source": [
    "sx3D = s3D_list[:,1]; # s_x\n",
    "sx3Dgs = s3Dgs_list[:,1]; # s_x ground state\n",
    "sy3D = s3D_list[:,2]; # s_y\n",
    "sy3Dgs = s3Dgs_list[:,2]; # s_y ground state\n",
    "sz3D = s3D_list[:,3]; # s_z\n",
    "sz3Dgs = s3Dgs_list[:,3]; # s_z ground state"
   ]
  },
  {
   "cell_type": "code",
   "execution_count": 5,
   "id": "b0753871",
   "metadata": {
    "ExecuteTime": {
     "end_time": "2022-06-16T20:16:04.899000+01:00",
     "start_time": "2022-06-16T19:14:52.352Z"
    }
   },
   "outputs": [],
   "source": [
    "dfMFGS3D = DataFrame(hcat(T, sx3D, sx3Dgs, sy3D, sy3Dgs, sz3D, sz3Dgs), :auto);\n",
    "CSV.write(\"C://Users//crh222//Data//Statics//mfgs3D_xyz_prme5.csv\",  dfMFGS3D, header = [\"T\", \"sx\", \"sx_gs\", \"sy\", \"sy_gs\", \"sz\", \"sz_gs\"]);"
   ]
  }
 ],
 "metadata": {
  "kernelspec": {
   "display_name": "Julia 1.7.2",
   "language": "julia",
   "name": "julia-1.7"
  },
  "language_info": {
   "file_extension": ".jl",
   "mimetype": "application/julia",
   "name": "julia",
   "version": "1.7.2"
  }
 },
 "nbformat": 4,
 "nbformat_minor": 5
}
