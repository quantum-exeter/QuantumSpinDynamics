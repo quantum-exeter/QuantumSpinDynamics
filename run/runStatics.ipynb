{
 "cells": [
  {
   "cell_type": "markdown",
   "id": "d81ee355",
   "metadata": {},
   "source": [
    "# Run Statics"
   ]
  },
  {
   "cell_type": "markdown",
   "id": "7726d3e1",
   "metadata": {},
   "source": [
    "## Preamble"
   ]
  },
  {
   "cell_type": "code",
   "execution_count": 1,
   "id": "328c08b6",
   "metadata": {
    "ExecuteTime": {
     "end_time": "2022-06-01T20:08:13.152000+01:00",
     "start_time": "2022-06-01T19:08:07.219Z"
    }
   },
   "outputs": [],
   "source": [
    "using CSV # Allows data to be converted to .CSV to use with Python for plotting\n",
    "using DataFrames # Another useful package for exporting data"
   ]
  },
  {
   "cell_type": "code",
   "execution_count": 2,
   "id": "f5833a27",
   "metadata": {
    "ExecuteTime": {
     "end_time": "2022-06-01T20:08:25.804000+01:00",
     "start_time": "2022-06-01T19:08:07.820Z"
    }
   },
   "outputs": [],
   "source": [
    "include(\"../lib/Statics.jl\")\n",
    "using .Statics"
   ]
  },
  {
   "cell_type": "code",
   "execution_count": 3,
   "id": "8c098b60",
   "metadata": {
    "ExecuteTime": {
     "end_time": "2022-06-01T20:08:25.811000+01:00",
     "start_time": "2022-06-01T19:08:08.126Z"
    }
   },
   "outputs": [],
   "source": [
    "real_if_close(c) = isnan(imag(c)) || imag(c) < 1e-14 ? real(c) : c;\n",
    "real_if_close(c::AbstractArray) = real_if_close.(c);"
   ]
  },
  {
   "cell_type": "markdown",
   "id": "f8404a4c",
   "metadata": {},
   "source": [
    "## Variables"
   ]
  },
  {
   "cell_type": "markdown",
   "id": "14062f46",
   "metadata": {},
   "source": [
    "Here, you can change the temperature range. Any other variable changes can be made in lib/variables.jl"
   ]
  },
  {
   "cell_type": "code",
   "execution_count": 4,
   "id": "0484b06d",
   "metadata": {
    "ExecuteTime": {
     "end_time": "2022-06-01T20:08:31.497000+01:00",
     "start_time": "2022-06-01T19:08:31.233Z"
    }
   },
   "outputs": [],
   "source": [
    "T_list = exp10.(range(-3, 4, length=100));\n",
    "T = [i for i in T_list];"
   ]
  },
  {
   "cell_type": "markdown",
   "id": "0f496a0b",
   "metadata": {},
   "source": [
    "## Gibbs"
   ]
  },
  {
   "cell_type": "markdown",
   "id": "b2c06bd7",
   "metadata": {},
   "source": [
    "### Compute Expectation Values"
   ]
  },
  {
   "cell_type": "code",
   "execution_count": 5,
   "id": "b6b84cdd",
   "metadata": {
    "ExecuteTime": {
     "end_time": "2022-06-01T20:08:34.702000+01:00",
     "start_time": "2022-06-01T19:08:32.360Z"
    }
   },
   "outputs": [],
   "source": [
    "sG_list = reduce(vcat, [real_if_close(sG(i)) for i in T_list]);"
   ]
  },
  {
   "cell_type": "code",
   "execution_count": 6,
   "id": "8499caec",
   "metadata": {
    "ExecuteTime": {
     "end_time": "2022-06-01T20:08:34.748000+01:00",
     "start_time": "2022-06-01T19:08:33.498Z"
    }
   },
   "outputs": [],
   "source": [
    "sxG = sG_list[:,1]; # s_x\n",
    "syG = sG_list[:,2]; # s_y\n",
    "szG = sG_list[:,3]; # s_z"
   ]
  },
  {
   "cell_type": "markdown",
   "id": "7e17cee5",
   "metadata": {},
   "source": [
    "### Store Expectation Values"
   ]
  },
  {
   "cell_type": "code",
   "execution_count": 7,
   "id": "e12a6bc4",
   "metadata": {
    "ExecuteTime": {
     "end_time": "2022-06-01T20:08:38.079000+01:00",
     "start_time": "2022-06-01T19:08:36.385Z"
    }
   },
   "outputs": [],
   "source": [
    "df_G = DataFrame(hcat(T, sxG, syG, szG), :auto);\n",
    "CSV.write(\"C://Users//crh222//QuantumSpinDynamics//data//Gibbs.csv\",  df_G, header = [\"T\", \"sx\", \"sy\", \"sz\"]);"
   ]
  },
  {
   "cell_type": "markdown",
   "id": "fb6b401f",
   "metadata": {},
   "source": [
    "## 1D"
   ]
  },
  {
   "cell_type": "markdown",
   "id": "b126b72c",
   "metadata": {},
   "source": [
    "### Compute Expectation Values"
   ]
  },
  {
   "cell_type": "code",
   "execution_count": 8,
   "id": "1c83bad5",
   "metadata": {
    "ExecuteTime": {
     "end_time": "2022-06-01T20:08:48.169000+01:00",
     "start_time": "2022-06-01T19:08:42.220Z"
    }
   },
   "outputs": [],
   "source": [
    "s1D_list = reduce(vcat, [real_if_close(s1D(i)) for i in T_list]);\n",
    "s1Dgs_list = reduce(vcat, [real_if_close(gs1D) for i in T_list]);"
   ]
  },
  {
   "cell_type": "code",
   "execution_count": 9,
   "id": "ed55e2dc",
   "metadata": {
    "ExecuteTime": {
     "end_time": "2022-06-01T20:08:48.177000+01:00",
     "start_time": "2022-06-01T19:08:42.506Z"
    }
   },
   "outputs": [],
   "source": [
    "sx1D = s1D_list[:,1]; # s_x\n",
    "sx1Dgs = s1Dgs_list[:,1]; # s_x ground state\n",
    "sy1D = s1D_list[:,2]; # s_y\n",
    "sy1Dgs = s1Dgs_list[:,2]; # s_y ground state\n",
    "sz1D = s1D_list[:,3]; # s_z\n",
    "sz1Dgs = s1Dgs_list[:,3]; # s_z ground state"
   ]
  },
  {
   "cell_type": "markdown",
   "id": "eb055f23",
   "metadata": {},
   "source": [
    "### Store Expectation Values"
   ]
  },
  {
   "cell_type": "code",
   "execution_count": 10,
   "id": "20653e6c",
   "metadata": {
    "ExecuteTime": {
     "end_time": "2022-06-01T20:08:48.535000+01:00",
     "start_time": "2022-06-01T19:08:45.687Z"
    }
   },
   "outputs": [],
   "source": [
    "df_MFGS1D = DataFrame(hcat(T, sx1D, sx1Dgs, sy1D, sy1Dgs, sz1D, sz1Dgs), :auto);\n",
    "CSV.write(\"C://Users//crh222//QuantumSpinDynamics//data//MFGS1D.csv\",  df_MFGS1D, header = [\"T\", \"sx\", \"sx_gs\", \"sy\", \"sy_gs\", \"sz\", \"sz_gs\"]);"
   ]
  },
  {
   "cell_type": "markdown",
   "id": "1a9b8cc6",
   "metadata": {},
   "source": [
    "## 2D"
   ]
  },
  {
   "cell_type": "markdown",
   "id": "ca70e287",
   "metadata": {},
   "source": [
    "### Compute Expectation Values"
   ]
  },
  {
   "cell_type": "code",
   "execution_count": 11,
   "id": "55809a42",
   "metadata": {
    "ExecuteTime": {
     "end_time": "2022-06-01T20:08:54.670000+01:00",
     "start_time": "2022-06-01T19:08:50.198Z"
    }
   },
   "outputs": [],
   "source": [
    "s2D_list = reduce(vcat, [real_if_close(s2D(i)) for i in T_list]);\n",
    "s2Dgs_list = reduce(vcat, [real_if_close(gs2D) for i in T_list]);"
   ]
  },
  {
   "cell_type": "code",
   "execution_count": 12,
   "id": "37c3c84e",
   "metadata": {
    "ExecuteTime": {
     "end_time": "2022-06-01T20:08:54.686000+01:00",
     "start_time": "2022-06-01T19:08:50.448Z"
    }
   },
   "outputs": [],
   "source": [
    "sx2D = s2D_list[:,1]; # s_x\n",
    "sx2Dgs = s2Dgs_list[:,1]; # s_x ground state\n",
    "sy2D = s2D_list[:,2]; # s_y\n",
    "sy2Dgs = s2Dgs_list[:,2]; # s_y ground state\n",
    "sz2D = s2D_list[:,3]; # s_z\n",
    "sz2Dgs = s2Dgs_list[:,3]; # s_z ground state"
   ]
  },
  {
   "cell_type": "markdown",
   "id": "09319217",
   "metadata": {},
   "source": [
    "### Store Expectation Values"
   ]
  },
  {
   "cell_type": "code",
   "execution_count": 13,
   "id": "0820d075",
   "metadata": {
    "ExecuteTime": {
     "end_time": "2022-06-01T20:08:54.686000+01:00",
     "start_time": "2022-06-01T19:08:54.564Z"
    }
   },
   "outputs": [],
   "source": [
    "df_MFGS2D = DataFrame(hcat(T, sx2D, sx2Dgs, sy2D, sy2Dgs, sz2D, sz2Dgs), :auto);\n",
    "CSV.write(\"C://Users//crh222//QuantumSpinDynamics//data//MFGS2D.csv\",  df_MFGS2D, header = [\"T\", \"sx\", \"sx_gs\", \"sy\", \"sy_gs\", \"sz\", \"sz_gs\"]);"
   ]
  },
  {
   "cell_type": "markdown",
   "id": "6de3b696",
   "metadata": {},
   "source": [
    "## 3D"
   ]
  },
  {
   "cell_type": "markdown",
   "id": "1b5f98b9",
   "metadata": {},
   "source": [
    "### Compute Expectation Values"
   ]
  },
  {
   "cell_type": "code",
   "execution_count": 14,
   "id": "536cb242",
   "metadata": {
    "ExecuteTime": {
     "end_time": "2022-06-01T20:11:02.393000+01:00",
     "start_time": "2022-06-01T19:09:02.598Z"
    }
   },
   "outputs": [],
   "source": [
    "s3D_list = reduce(vcat, [real_if_close(s3D(i)) for i in T_list]);\n",
    "s3Dgs_list = reduce(vcat, [real_if_close(gs3D) for i in T_list]);"
   ]
  },
  {
   "cell_type": "code",
   "execution_count": 15,
   "id": "b22adb60",
   "metadata": {
    "ExecuteTime": {
     "end_time": "2022-06-01T20:11:02.393000+01:00",
     "start_time": "2022-06-01T19:09:03.285Z"
    }
   },
   "outputs": [],
   "source": [
    "sx3D = s3D_list[:,1]; # s_x\n",
    "sx3Dgs = s3Dgs_list[:,1]; # s_x ground state\n",
    "sy3D = s3D_list[:,2]; # s_y\n",
    "sy3Dgs = s3Dgs_list[:,2]; # s_y ground state\n",
    "sz3D = s3D_list[:,3]; # s_z\n",
    "sz3Dgs = s3Dgs_list[:,3]; # s_z ground state"
   ]
  },
  {
   "cell_type": "code",
   "execution_count": 16,
   "id": "91765673",
   "metadata": {
    "ExecuteTime": {
     "end_time": "2022-06-01T20:11:02.409000+01:00",
     "start_time": "2022-06-01T19:09:04.129Z"
    }
   },
   "outputs": [],
   "source": [
    "df_MFGS3D = DataFrame(hcat(T, sx3D, sx3Dgs, sy3D, sy3Dgs, sz3D, sz3Dgs), :auto);\n",
    "CSV.write(\"C://Users//crh222//QuantumSpinDynamics//data//MFGS3D.csv\",  df_MFGS3D, header = [\"T\", \"sx\", \"sx_gs\", \"sy\", \"sy_gs\", \"sz\", \"sz_gs\"]);"
   ]
  }
 ],
 "metadata": {
  "kernelspec": {
   "display_name": "Julia 1.7.2",
   "language": "julia",
   "name": "julia-1.7"
  },
  "language_info": {
   "file_extension": ".jl",
   "mimetype": "application/julia",
   "name": "julia",
   "version": "1.7.2"
  }
 },
 "nbformat": 4,
 "nbformat_minor": 5
}
