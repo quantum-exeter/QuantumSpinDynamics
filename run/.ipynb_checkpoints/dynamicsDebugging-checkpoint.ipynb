{
 "cells": [
  {
   "cell_type": "code",
   "execution_count": 1,
   "id": "87d2fa0e",
   "metadata": {
    "ExecuteTime": {
     "end_time": "2022-06-19T21:11:21.359000+01:00",
     "start_time": "2022-06-19T20:10:42.358Z"
    }
   },
   "outputs": [],
   "source": [
    "using LinearAlgebra\n",
    "using Kronecker\n",
    "using SparseArrays\n",
    "using OrdinaryDiffEq\n",
    "using DifferentialEquations"
   ]
  },
  {
   "cell_type": "code",
   "execution_count": 2,
   "id": "99329b7c",
   "metadata": {
    "ExecuteTime": {
     "end_time": "2022-06-19T21:11:25.151000+01:00",
     "start_time": "2022-06-19T20:10:42.722Z"
    }
   },
   "outputs": [],
   "source": [
    "include(\"../lib/constants.jl\");\n",
    "include(\"../lib/variables.jl\");\n",
    "include(\"../lib/maths.jl\");\n",
    "include(\"../lib/initialStates.jl\");\n",
    "include(\"../lib/hamiltonians.jl\");\n",
    "include(\"../lib/spectralDensity.jl\");"
   ]
  },
  {
   "cell_type": "code",
   "execution_count": 3,
   "id": "5e249dd8",
   "metadata": {
    "ExecuteTime": {
     "end_time": "2022-06-19T21:11:25.156000+01:00",
     "start_time": "2022-06-19T20:10:43.000Z"
    }
   },
   "outputs": [],
   "source": [
    "alg = Vern7();"
   ]
  },
  {
   "cell_type": "code",
   "execution_count": 4,
   "id": "d33572c3",
   "metadata": {
    "ExecuteTime": {
     "end_time": "2022-06-19T21:11:25.160000+01:00",
     "start_time": "2022-06-19T20:10:43.304Z"
    }
   },
   "outputs": [],
   "source": [
    "X(n) = create(n) + annihilate(n);"
   ]
  },
  {
   "cell_type": "code",
   "execution_count": 5,
   "id": "4b5455e0",
   "metadata": {
    "ExecuteTime": {
     "end_time": "2022-06-19T21:11:25.265000+01:00",
     "start_time": "2022-06-19T20:10:43.613Z"
    }
   },
   "outputs": [],
   "source": [
    "jump1D(n1) = [kronecker(𝕀s, X(n1))];\n",
    "jump2D(n1, n2) = [kronecker(𝕀s, X(n1), 𝕀(n2)), kronecker(𝕀s, 𝕀(n1), X(n2))];\n",
    "jump3D(n1, n2, n3) = [kronecker(𝕀s, X(n1), 𝕀(n2), 𝕀(n3)), kronecker(𝕀s, 𝕀(n1), X(n2), 𝕀(n3)), kronecker(𝕀s, 𝕀(n1), 𝕀(n2), X(n3))];"
   ]
  },
  {
   "cell_type": "code",
   "execution_count": 6,
   "id": "0c79d8e4",
   "metadata": {
    "ExecuteTime": {
     "end_time": "2022-06-19T21:11:25.271000+01:00",
     "start_time": "2022-06-19T20:10:43.925Z"
    }
   },
   "outputs": [],
   "source": [
    "function jump(dim)\n",
    "    if dim == 1\n",
    "        return jump1D(n1)\n",
    "    elseif dim == 2\n",
    "        return jump2D(n1, n2)\n",
    "    elseif dim == 3\n",
    "        return jump3D(n1, n2, n3)\n",
    "    else\n",
    "        print(\"Please return a dimension of either 1, 2 or 3.\")\n",
    "    end\n",
    "end;"
   ]
  },
  {
   "cell_type": "code",
   "execution_count": 7,
   "id": "2a13bfc6",
   "metadata": {
    "ExecuteTime": {
     "end_time": "2022-06-19T21:11:27.362000+01:00",
     "start_time": "2022-06-19T20:10:44.237Z"
    }
   },
   "outputs": [],
   "source": [
    "function transitions(dim, i) # dim is the coupling dimension (1 for 1D, 2 for 2D etc...) and i the specific RC to generate Bohr frequencies/jump operators for\n",
    "    H = HS(dim)\n",
    "    A = jump(dim)[i]\n",
    "    n = hspace_dimension(dim)\n",
    "    table = zeros(n, n)\n",
    "    bohr_freqs = Float64[]\n",
    "    jump_ops = Any[]\n",
    "    eval = eigen(H).values\n",
    "    evec = eigen(H).vectors\n",
    "    proj(j) = evec[:,j]*adjoint(evec[:,j])\n",
    "    # Create a table of transition frequencies\n",
    "    for k in 1:n\n",
    "        for l in 1:n\n",
    "            table[k, l] = eval[l] - eval[k]\n",
    "            if table[k, l] !=  0.0\n",
    "                append!(bohr_freqs, table[k, l])\n",
    "                push!(jump_ops, proj(l)*A*proj(k))\n",
    "            end\n",
    "        end\n",
    "    end\n",
    "    return bohr_freqs, jump_ops\n",
    "end;"
   ]
  },
  {
   "cell_type": "code",
   "execution_count": 8,
   "id": "f1d113a2",
   "metadata": {
    "ExecuteTime": {
     "end_time": "2022-06-19T21:11:27.401000+01:00",
     "start_time": "2022-06-19T20:10:44.634Z"
    }
   },
   "outputs": [],
   "source": [
    "function 𝒮(dim)\n",
    "\n",
    "    ## Useful Definitions ##\n",
    "    H = HS(dim) # System Hamiltonian for given dimension of coupling\n",
    "    A = jump(dim) # Jump operator list for given dimension of coupling in ORIGINAL basis\n",
    "    n = hspace_dimension(dim) # Dimension of Hilbert space for given coupling dimension\n",
    "\n",
    "    ## Bohr Frequencies/Jump Operators for Each Coupling Dimension ##\n",
    "    transitions_list(i) = transitions(dim, i) # Extract Bohr freq-jump op pairs for the ith bath\n",
    "    len(i) = length(transitions_list(i)[1]) # Find the length of list (for each bath) to iterate over\n",
    "    ωb(i) = transitions_list(i)[1] # Rewrite function outputs (Bohr freqs) in more compact form\n",
    "    ATr(i) = transitions_list(i)[2] # Rewrite function outputs (transformed jump ops) in more compact form\n",
    "    ATot(i) = sum(ATr(i)[j] for j in len(i)) # Define the sum of all jump operators for each bath\n",
    "\n",
    "    ## Iles-Smith Superoperators ##\n",
    "    χ(i) = (π/2)*sum(spectral_density(ωb(i)[j], δ_list(i))*coth((ωb(i)[j])/(2*TDyn))*ATr(i)[j] for j in len(i)) # Iles-Smith χ superoperator\n",
    "    Θ(i) = (π/2)*sum(spectral_density(ωb(i)[j], δ_list(i))*ATr(i)[j] for j in len(i)) # Iles-Smith Θ superoperator\n",
    "\n",
    "    ## Left/Right Multiplication Superoperators ##\n",
    "    ℒ(operator) = kronecker(operator, 𝕀(n)) # Define the left multiplication superoperator\n",
    "    ℛ(operator) = kronecker(𝕀(n), transpose(operator)) # Define the right multiplication superoperator\n",
    "\n",
    "    ## Return the Superoperator ##\n",
    "    out = sum(-im*(ℒ(H) - ℛ(H)) - ℒ(ATot(i))*(ℒ(χ(i)) - ℛ(χ(i))) + ℛ(ATot(i))*(ℒ(χ(i)) - ℛ(χ(i))) + ℒ(ATot(i))*(ℒ(Θ(i)) + ℛ(Θ(i))) - ℛ(ATot(i))*(ℒ(Θ(i)) + ℛ(Θ(i))) for i in dim)\n",
    "\n",
    "    return sparse(out)\n",
    "\n",
    "end;"
   ]
  },
  {
   "cell_type": "code",
   "execution_count": 9,
   "id": "0e7c87d8",
   "metadata": {
    "ExecuteTime": {
     "end_time": "2022-06-19T21:11:27.410000+01:00",
     "start_time": "2022-06-19T20:10:48.681Z"
    }
   },
   "outputs": [],
   "source": [
    "function ρ(dim)\n",
    "    superop = 𝒮(dim)\n",
    "    state_init = ρ0(dim)\n",
    "    dstate(dρ, ρ, v, t) = mul!(dρ, superop, ρ) # Solves the DE\n",
    "    prob = ODEProblem(dstate, vec(state_init), tspan)\n",
    "    out = solve(prob, alg)\n",
    "    sol(t) = reshape(out(t), (hspace_dimension(dim), hspace_dimension(dim))) # Reformats vector into a density matrix\n",
    "    return sol\n",
    "end;"
   ]
  },
  {
   "cell_type": "code",
   "execution_count": 13,
   "id": "15c4b501",
   "metadata": {
    "ExecuteTime": {
     "end_time": "2022-06-19T21:22:35.069000+01:00",
     "start_time": "2022-06-19T20:22:35.061Z"
    }
   },
   "outputs": [
    {
     "data": {
      "text/plain": [
       "sol (generic function with 1 method)"
      ]
     },
     "execution_count": 13,
     "metadata": {},
     "output_type": "execute_result"
    }
   ],
   "source": [
    "sol(t) = ρ(1)(t)"
   ]
  },
  {
   "cell_type": "code",
   "execution_count": null,
   "id": "5e20dc18",
   "metadata": {
    "ExecuteTime": {
     "start_time": "2022-06-19T20:23:43.120Z"
    }
   },
   "outputs": [],
   "source": [
    "sol(100)"
   ]
  },
  {
   "cell_type": "code",
   "execution_count": 24,
   "id": "64d462d4",
   "metadata": {
    "ExecuteTime": {
     "end_time": "2022-06-19T20:50:10.521000+01:00",
     "start_time": "2022-06-19T19:50:09.670Z"
    }
   },
   "outputs": [
    {
     "data": {
      "text/plain": [
       "1.000000000000004"
      ]
     },
     "execution_count": 24,
     "metadata": {},
     "output_type": "execute_result"
    }
   ],
   "source": [
    "realIfClose(tr(sol(20000)))"
   ]
  },
  {
   "cell_type": "code",
   "execution_count": null,
   "id": "cae64907",
   "metadata": {},
   "outputs": [],
   "source": []
  }
 ],
 "metadata": {
  "kernelspec": {
   "display_name": "Julia 1.7.2",
   "language": "julia",
   "name": "julia-1.7"
  },
  "language_info": {
   "file_extension": ".jl",
   "mimetype": "application/julia",
   "name": "julia",
   "version": "1.7.2"
  }
 },
 "nbformat": 4,
 "nbformat_minor": 5
}
