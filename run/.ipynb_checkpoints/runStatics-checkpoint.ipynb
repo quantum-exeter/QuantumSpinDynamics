{
 "cells": [
  {
   "cell_type": "markdown",
   "id": "59c3a948",
   "metadata": {},
   "source": [
    "# Run Statics"
   ]
  },
  {
   "cell_type": "markdown",
   "id": "f9f3e47d",
   "metadata": {},
   "source": [
    "## Preamble"
   ]
  },
  {
   "cell_type": "code",
   "execution_count": 1,
   "id": "db683806",
   "metadata": {
    "ExecuteTime": {
     "end_time": "2022-06-06T15:18:48.875000+01:00",
     "start_time": "2022-06-06T14:18:43.937Z"
    }
   },
   "outputs": [],
   "source": [
    "using CSV # Allows data to be converted to .CSV to use with Python for plotting\n",
    "using DataFrames # Another useful package for exporting data"
   ]
  },
  {
   "cell_type": "code",
   "execution_count": 2,
   "id": "f5833a27",
   "metadata": {
    "ExecuteTime": {
     "end_time": "2022-06-06T15:18:50.871000+01:00",
     "start_time": "2022-06-06T14:18:44.150Z"
    }
   },
   "outputs": [],
   "source": [
    "include(\"../lib/Statics.jl\")\n",
    "using .Statics"
   ]
  },
  {
   "cell_type": "markdown",
   "id": "0216d1c6",
   "metadata": {},
   "source": [
    "## Gibbs"
   ]
  },
  {
   "cell_type": "markdown",
   "id": "aa81eee4",
   "metadata": {},
   "source": [
    "### Compute Expectation Values"
   ]
  },
  {
   "cell_type": "code",
   "execution_count": 3,
   "id": "2e5c4391",
   "metadata": {
    "ExecuteTime": {
     "end_time": "2022-06-06T15:18:55.587000+01:00",
     "start_time": "2022-06-06T14:18:52.075Z"
    }
   },
   "outputs": [],
   "source": [
    "sG_list = reduce(vcat, [real_if_close(sG(i)) for i in T]);"
   ]
  },
  {
   "cell_type": "code",
   "execution_count": 4,
   "id": "388e0da2",
   "metadata": {
    "ExecuteTime": {
     "end_time": "2022-06-06T15:18:55.628000+01:00",
     "start_time": "2022-06-06T14:18:52.574Z"
    }
   },
   "outputs": [],
   "source": [
    "sxG = sG_list[:, 1]; # s_x\n",
    "syG = sG_list[:, 2]; # s_y\n",
    "szG = sG_list[:, 3]; # s_z"
   ]
  },
  {
   "cell_type": "markdown",
   "id": "6db4b2fc",
   "metadata": {},
   "source": [
    "### Store Expectation Values"
   ]
  },
  {
   "cell_type": "code",
   "execution_count": 5,
   "id": "f6d4e213",
   "metadata": {
    "ExecuteTime": {
     "end_time": "2022-06-06T15:18:58.330000+01:00",
     "start_time": "2022-06-06T14:18:56.813Z"
    }
   },
   "outputs": [],
   "source": [
    "dfG = DataFrame(hcat(T, sxG, syG, szG), :auto);\n",
    "CSV.write(\"C://Users//crh222//QuantumSpinDynamics//data//gibbs.csv\",  dfG, header = [\"T\", \"sx\", \"sy\", \"sz\"]);"
   ]
  },
  {
   "cell_type": "markdown",
   "id": "30f15bfb",
   "metadata": {},
   "source": [
    "## 1D"
   ]
  },
  {
   "cell_type": "markdown",
   "id": "a1445d58",
   "metadata": {},
   "source": [
    "### Compute Expectation Values"
   ]
  },
  {
   "cell_type": "code",
   "execution_count": 6,
   "id": "850170ec",
   "metadata": {
    "ExecuteTime": {
     "end_time": "2022-06-06T15:19:11.602000+01:00",
     "start_time": "2022-06-06T14:19:02.213Z"
    }
   },
   "outputs": [],
   "source": [
    "s1D_list = reduce(vcat, [real_if_close(sMFGS(1, i)) for i in T]);\n",
    "s1Dgs_list = reduce(vcat, [real_if_close(ground_state(1)) for i in T]);"
   ]
  },
  {
   "cell_type": "code",
   "execution_count": 7,
   "id": "9b47958d",
   "metadata": {
    "ExecuteTime": {
     "end_time": "2022-06-06T15:19:11.604000+01:00",
     "start_time": "2022-06-06T14:19:04.336Z"
    }
   },
   "outputs": [],
   "source": [
    "sx1D = s1D_list[:, 1]; # s_x\n",
    "sx1Dgs = s1Dgs_list[:, 1]; # s_x ground state\n",
    "sy1D = s1D_list[:, 2]; # s_y\n",
    "sy1Dgs = s1Dgs_list[:, 2]; # s_y ground state\n",
    "sz1D = s1D_list[:, 3]; # s_z\n",
    "sz1Dgs = s1Dgs_list[:, 3]; # s_z ground state"
   ]
  },
  {
   "cell_type": "markdown",
   "id": "ad489741",
   "metadata": {},
   "source": [
    "### Store Expectation Values"
   ]
  },
  {
   "cell_type": "code",
   "execution_count": 8,
   "id": "16ee935b",
   "metadata": {
    "ExecuteTime": {
     "end_time": "2022-06-06T15:19:11.771000+01:00",
     "start_time": "2022-06-06T14:19:07.574Z"
    }
   },
   "outputs": [],
   "source": [
    "dfMFGS1D = DataFrame(hcat(T, sx1D, sx1Dgs, sy1D, sy1Dgs, sz1D, sz1Dgs), :auto);\n",
    "CSV.write(\"C://Users//crh222//QuantumSpinDynamics//data//mfgs1D.csv\",  dfMFGS1D, header = [\"T\", \"sx\", \"sx_gs\", \"sy\", \"sy_gs\", \"sz\", \"sz_gs\"]);"
   ]
  },
  {
   "cell_type": "markdown",
   "id": "37ca13a7",
   "metadata": {},
   "source": [
    "## 2D"
   ]
  },
  {
   "cell_type": "markdown",
   "id": "aab4ccc2",
   "metadata": {},
   "source": [
    "### Compute Expectation Values"
   ]
  },
  {
   "cell_type": "code",
   "execution_count": 11,
   "id": "d58ed8a4",
   "metadata": {
    "ExecuteTime": {
     "end_time": "2022-06-06T15:19:24.646000+01:00",
     "start_time": "2022-06-06T14:19:24.502Z"
    }
   },
   "outputs": [],
   "source": [
    "s2D_list = reduce(vcat, [real_if_close(sMFGS(2, i)) for i in T]);\n",
    "s2Dgs_list = reduce(vcat, [real_if_close(ground_state(2)) for i in T]);"
   ]
  },
  {
   "cell_type": "code",
   "execution_count": 12,
   "id": "63238813",
   "metadata": {
    "ExecuteTime": {
     "end_time": "2022-06-06T15:19:25.678000+01:00",
     "start_time": "2022-06-06T14:19:25.675Z"
    }
   },
   "outputs": [],
   "source": [
    "sx2D = s2D_list[:,1]; # s_x\n",
    "sx2Dgs = s2Dgs_list[:,1]; # s_x ground state\n",
    "sy2D = s2D_list[:,2]; # s_y\n",
    "sy2Dgs = s2Dgs_list[:,2]; # s_y ground state\n",
    "sz2D = s2D_list[:,3]; # s_z\n",
    "sz2Dgs = s2Dgs_list[:,3]; # s_z ground state"
   ]
  },
  {
   "cell_type": "markdown",
   "id": "d001e1b7",
   "metadata": {},
   "source": [
    "### Store Expectation Values"
   ]
  },
  {
   "cell_type": "code",
   "execution_count": 13,
   "id": "628b35b1",
   "metadata": {
    "ExecuteTime": {
     "end_time": "2022-06-06T15:19:27.829000+01:00",
     "start_time": "2022-06-06T14:19:27.825Z"
    }
   },
   "outputs": [],
   "source": [
    "dfMFGS2D = DataFrame(hcat(T, sx2D, sx2Dgs, sy2D, sy2Dgs, sz2D, sz2Dgs), :auto);\n",
    "CSV.write(\"C://Users//crh222//QuantumSpinDynamics//data//mfgs2D.csv\",  dfMFGS2D, header = [\"T\", \"sx\", \"sx_gs\", \"sy\", \"sy_gs\", \"sz\", \"sz_gs\"]);"
   ]
  },
  {
   "cell_type": "markdown",
   "id": "5fd5b242",
   "metadata": {},
   "source": [
    "## 3D"
   ]
  },
  {
   "cell_type": "markdown",
   "id": "e8fb58f6",
   "metadata": {},
   "source": [
    "### Compute Expectation Values"
   ]
  },
  {
   "cell_type": "code",
   "execution_count": 14,
   "id": "89c3b150",
   "metadata": {
    "ExecuteTime": {
     "end_time": "2022-06-06T15:19:37.885000+01:00",
     "start_time": "2022-06-06T14:19:35.525Z"
    }
   },
   "outputs": [],
   "source": [
    "s3D_list = reduce(vcat, [real_if_close(sMFGS(3, i)) for i in T]);\n",
    "s3Dgs_list = reduce(vcat, [real_if_close(ground_state(3)) for i in T]);"
   ]
  },
  {
   "cell_type": "code",
   "execution_count": 15,
   "id": "6e6a3aca",
   "metadata": {
    "ExecuteTime": {
     "end_time": "2022-06-06T15:19:41.328000+01:00",
     "start_time": "2022-06-06T14:19:41.325Z"
    }
   },
   "outputs": [],
   "source": [
    "sx3D = s3D_list[:,1]; # s_x\n",
    "sx3Dgs = s3Dgs_list[:,1]; # s_x ground state\n",
    "sy3D = s3D_list[:,2]; # s_y\n",
    "sy3Dgs = s3Dgs_list[:,2]; # s_y ground state\n",
    "sz3D = s3D_list[:,3]; # s_z\n",
    "sz3Dgs = s3Dgs_list[:,3]; # s_z ground state"
   ]
  },
  {
   "cell_type": "code",
   "execution_count": 16,
   "id": "b0753871",
   "metadata": {
    "ExecuteTime": {
     "end_time": "2022-06-06T15:19:41.892000+01:00",
     "start_time": "2022-06-06T14:19:41.889Z"
    }
   },
   "outputs": [],
   "source": [
    "dfMFGS3D = DataFrame(hcat(T, sx3D, sx3Dgs, sy3D, sy3Dgs, sz3D, sz3Dgs), :auto);\n",
    "CSV.write(\"C://Users//crh222//QuantumSpinDynamics//data//mfgs3D.csv\",  dfMFGS3D, header = [\"T\", \"sx\", \"sx_gs\", \"sy\", \"sy_gs\", \"sz\", \"sz_gs\"]);"
   ]
  }
 ],
 "metadata": {
  "kernelspec": {
   "display_name": "Julia 1.7.2",
   "language": "julia",
   "name": "julia-1.7"
  },
  "language_info": {
   "file_extension": ".jl",
   "mimetype": "application/julia",
   "name": "julia",
   "version": "1.7.2"
  }
 },
 "nbformat": 4,
 "nbformat_minor": 5
}
