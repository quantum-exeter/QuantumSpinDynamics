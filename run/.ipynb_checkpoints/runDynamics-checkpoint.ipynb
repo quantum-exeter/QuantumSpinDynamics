{
 "cells": [
  {
   "cell_type": "markdown",
   "id": "59c3a948",
   "metadata": {},
   "source": [
    "# Run Dynamics"
   ]
  },
  {
   "cell_type": "markdown",
   "id": "f9f3e47d",
   "metadata": {},
   "source": [
    "## Preamble"
   ]
  },
  {
   "cell_type": "code",
   "execution_count": 1,
   "id": "db683806",
   "metadata": {
    "ExecuteTime": {
     "end_time": "2022-06-06T15:21:37.135000+01:00",
     "start_time": "2022-06-06T14:21:32.324Z"
    }
   },
   "outputs": [],
   "source": [
    "using CSV # Allows data to be converted to .CSV to use with Python for plotting\n",
    "using DataFrames # Another useful package for exporting data"
   ]
  },
  {
   "cell_type": "code",
   "execution_count": 2,
   "id": "f5833a27",
   "metadata": {
    "ExecuteTime": {
     "end_time": "2022-06-06T15:21:49.807000+01:00",
     "start_time": "2022-06-06T14:21:32.637Z"
    }
   },
   "outputs": [],
   "source": [
    "include(\"../lib/Dynamics.jl\")\n",
    "using .Dynamics"
   ]
  },
  {
   "cell_type": "markdown",
   "id": "06d432c0",
   "metadata": {},
   "source": [
    "## 1D"
   ]
  },
  {
   "cell_type": "markdown",
   "id": "22f55fe2",
   "metadata": {},
   "source": [
    "### Compute Expectation Values"
   ]
  },
  {
   "cell_type": "code",
   "execution_count": 3,
   "id": "c403ad55",
   "metadata": {
    "ExecuteTime": {
     "end_time": "2022-06-06T15:22:28.743000+01:00",
     "start_time": "2022-06-06T14:21:34.162Z"
    }
   },
   "outputs": [],
   "source": [
    "sDyn1D_list = reduce(vcat, [real_if_close(sDyn(1, i)) for i in t]);"
   ]
  },
  {
   "cell_type": "code",
   "execution_count": 4,
   "id": "68192b0e",
   "metadata": {
    "ExecuteTime": {
     "end_time": "2022-06-06T15:22:28.814000+01:00",
     "start_time": "2022-06-06T14:21:34.687Z"
    }
   },
   "outputs": [],
   "source": [
    "sxDyn1D = sDyn1D_list[:,1]; # s_x\n",
    "syDyn1D = sDyn1D_list[:,2]; # s_y\n",
    "szDyn1D = sDyn1D_list[:,3]; # s_z"
   ]
  },
  {
   "cell_type": "markdown",
   "id": "1c2ae06d",
   "metadata": {},
   "source": [
    "### Store Expectation Values"
   ]
  },
  {
   "cell_type": "code",
   "execution_count": 5,
   "id": "f91fea94",
   "metadata": {
    "ExecuteTime": {
     "end_time": "2022-06-06T15:22:31.762000+01:00",
     "start_time": "2022-06-06T14:21:36.574Z"
    }
   },
   "outputs": [],
   "source": [
    "dfDyn1D = DataFrame(hcat(t, sxDyn1D, syDyn1D, szDyn1D), :auto);\n",
    "CSV.write(\"C://Users//crh222//QuantumSpinDynamics//data//dyn1D.csv\",  dfDyn1D, header = [\"t\", \"sx\", \"sy\", \"sz\"]);"
   ]
  },
  {
   "cell_type": "markdown",
   "id": "fcf7bfee",
   "metadata": {},
   "source": [
    "## 2D"
   ]
  },
  {
   "cell_type": "markdown",
   "id": "0ac8ef76",
   "metadata": {},
   "source": [
    "### Compute Expectation Values"
   ]
  },
  {
   "cell_type": "code",
   "execution_count": 6,
   "id": "16f3e170",
   "metadata": {
    "ExecuteTime": {
     "end_time": "2022-06-06T15:34:35.223000+01:00",
     "start_time": "2022-06-06T14:27:10.103Z"
    }
   },
   "outputs": [],
   "source": [
    "sDyn2D_list = reduce(vcat, [real_if_close(sDyn(2, i)) for i in t]);"
   ]
  },
  {
   "cell_type": "code",
   "execution_count": 7,
   "id": "8c3a963b",
   "metadata": {
    "ExecuteTime": {
     "end_time": "2022-06-06T15:34:35.224000+01:00",
     "start_time": "2022-06-06T14:27:12.878Z"
    }
   },
   "outputs": [],
   "source": [
    "sxDyn2D = sDyn2D_list[:,1]; # s_x\n",
    "syDyn2D = sDyn2D_list[:,2]; # s_y\n",
    "szDyn2D = sDyn2D_list[:,3]; # s_z"
   ]
  },
  {
   "cell_type": "markdown",
   "id": "5e0d8378",
   "metadata": {},
   "source": [
    "### Store Expectation Values"
   ]
  },
  {
   "cell_type": "code",
   "execution_count": 8,
   "id": "ab9ddd07",
   "metadata": {
    "ExecuteTime": {
     "end_time": "2022-06-06T15:34:35.227000+01:00",
     "start_time": "2022-06-06T14:27:14.165Z"
    }
   },
   "outputs": [],
   "source": [
    "dfDyn2D = DataFrame(hcat(t, sxDyn2D, syDyn2D, szDyn2D), :auto);\n",
    "CSV.write(\"C://Users//crh222//QuantumSpinDynamics//data//dyn2D.csv\",  dfDyn2D, header = [\"t\", \"sx\", \"sy\", \"sz\"]);"
   ]
  },
  {
   "cell_type": "markdown",
   "id": "1a55401c",
   "metadata": {},
   "source": [
    "## 3D"
   ]
  },
  {
   "cell_type": "markdown",
   "id": "160081b5",
   "metadata": {},
   "source": [
    "### Compute Expectation Values"
   ]
  },
  {
   "cell_type": "code",
   "execution_count": 12,
   "id": "f379e2fe",
   "metadata": {
    "ExecuteTime": {
     "end_time": "2022-06-06T15:50:58.261000+01:00",
     "start_time": "2022-06-06T14:35:07.594Z"
    }
   },
   "outputs": [],
   "source": [
    "sDyn3D_list = reduce(vcat, [real_if_close(sDyn(3, i)) for i in t]);"
   ]
  },
  {
   "cell_type": "code",
   "execution_count": 13,
   "id": "4a2222b5",
   "metadata": {
    "ExecuteTime": {
     "end_time": "2022-06-06T15:50:58.261000+01:00",
     "start_time": "2022-06-06T14:35:08.069Z"
    }
   },
   "outputs": [],
   "source": [
    "sxDyn3D = sDyn3D_list[:,1]; # s_x\n",
    "syDyn3D = sDyn3D_list[:,2]; # s_y\n",
    "szDyn3D = sDyn3D_list[:,3]; # s_z"
   ]
  },
  {
   "cell_type": "markdown",
   "id": "c94535d8",
   "metadata": {},
   "source": [
    "### Store Expectation Values"
   ]
  },
  {
   "cell_type": "code",
   "execution_count": 14,
   "id": "eec0c94f",
   "metadata": {
    "ExecuteTime": {
     "end_time": "2022-06-06T15:50:58.277000+01:00",
     "start_time": "2022-06-06T14:35:09.169Z"
    }
   },
   "outputs": [],
   "source": [
    "dfDyn3D = DataFrame(hcat(t, sxDyn3D, syDyn3D, szDyn3D), :auto);\n",
    "CSV.write(\"C://Users//crh222//QuantumSpinDynamics//data//dyn3D.csv\",  dfDyn3D, header = [\"t\", \"sx\", \"sy\", \"sz\"]);"
   ]
  }
 ],
 "metadata": {
  "kernelspec": {
   "display_name": "Julia 1.7.2",
   "language": "julia",
   "name": "julia-1.7"
  },
  "language_info": {
   "file_extension": ".jl",
   "mimetype": "application/julia",
   "name": "julia",
   "version": "1.7.2"
  }
 },
 "nbformat": 4,
 "nbformat_minor": 5
}
