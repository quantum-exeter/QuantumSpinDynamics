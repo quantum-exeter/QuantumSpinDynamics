{
 "cells": [
  {
   "cell_type": "markdown",
   "id": "59c3a948",
   "metadata": {},
   "source": [
    "# Run Dynamics"
   ]
  },
  {
   "cell_type": "markdown",
   "id": "f9f3e47d",
   "metadata": {},
   "source": [
    "## Preamble"
   ]
  },
  {
   "cell_type": "code",
   "execution_count": 1,
   "id": "db683806",
   "metadata": {
    "ExecuteTime": {
     "end_time": "2022-06-06T14:33:21.472000+01:00",
     "start_time": "2022-06-06T13:33:16.641Z"
    }
   },
   "outputs": [],
   "source": [
    "using CSV # Allows data to be converted to .CSV to use with Python for plotting\n",
    "using DataFrames # Another useful package for exporting data\n",
    "using LinearAlgebra"
   ]
  },
  {
   "cell_type": "code",
   "execution_count": 2,
   "id": "f5833a27",
   "metadata": {
    "ExecuteTime": {
     "end_time": "2022-06-06T14:33:35.446000+01:00",
     "start_time": "2022-06-06T13:33:17.027Z"
    }
   },
   "outputs": [],
   "source": [
    "include(\"../lib/Dynamics.jl\")\n",
    "using .Dynamics"
   ]
  },
  {
   "cell_type": "code",
   "execution_count": 3,
   "id": "acd81ad9",
   "metadata": {
    "ExecuteTime": {
     "end_time": "2022-06-06T14:33:35.750000+01:00",
     "start_time": "2022-06-06T13:33:17.277Z"
    }
   },
   "outputs": [],
   "source": [
    "real_if_close(c) = isnan(imag(c)) || imag(c) < 1e-14 ? real(c) : c;\n",
    "real_if_close(c::AbstractArray) = real_if_close.(c);"
   ]
  },
  {
   "cell_type": "markdown",
   "id": "9e819367",
   "metadata": {},
   "source": [
    "## Variables"
   ]
  },
  {
   "cell_type": "markdown",
   "id": "fea8097f",
   "metadata": {},
   "source": [
    "Here, you can change the temperature. Any other variable changes can be made in lib/variables.jl"
   ]
  },
  {
   "cell_type": "markdown",
   "id": "cd5d66f3",
   "metadata": {},
   "source": [
    "### Temperature"
   ]
  },
  {
   "cell_type": "code",
   "execution_count": 4,
   "id": "1a547c4c",
   "metadata": {
    "ExecuteTime": {
     "end_time": "2022-06-06T14:33:35.752000+01:00",
     "start_time": "2022-06-06T13:33:18.915Z"
    }
   },
   "outputs": [],
   "source": [
    "T = 10;"
   ]
  },
  {
   "cell_type": "markdown",
   "id": "06d432c0",
   "metadata": {},
   "source": [
    "## 1D"
   ]
  },
  {
   "cell_type": "markdown",
   "id": "53f50b31",
   "metadata": {},
   "source": [
    "### Compute Expectation Values"
   ]
  },
  {
   "cell_type": "code",
   "execution_count": 5,
   "id": "41c0eacb",
   "metadata": {
    "ExecuteTime": {
     "end_time": "2022-06-06T14:34:13.606000+01:00",
     "start_time": "2022-06-06T13:33:38.029Z"
    }
   },
   "outputs": [],
   "source": [
    "sDyn1D_list = reduce(vcat, [real_if_close(sDyn(1, T, i)) for i in t]);"
   ]
  },
  {
   "cell_type": "code",
   "execution_count": 6,
   "id": "07ef52f6",
   "metadata": {
    "ExecuteTime": {
     "end_time": "2022-06-06T14:34:13.689000+01:00",
     "start_time": "2022-06-06T13:33:38.478Z"
    }
   },
   "outputs": [],
   "source": [
    "sxDyn1D = sDyn1D_list[:,1]; # s_x\n",
    "syDyn1D = sDyn1D_list[:,2]; # s_y\n",
    "szDyn1D = sDyn1D_list[:,3]; # s_z"
   ]
  },
  {
   "cell_type": "markdown",
   "id": "692406ac",
   "metadata": {},
   "source": [
    "### Store Expectation Values"
   ]
  },
  {
   "cell_type": "code",
   "execution_count": 7,
   "id": "af136307",
   "metadata": {
    "ExecuteTime": {
     "end_time": "2022-06-06T14:34:15.488000+01:00",
     "start_time": "2022-06-06T13:33:39.165Z"
    }
   },
   "outputs": [],
   "source": [
    "dfDyn1D = DataFrame(hcat(t, sxDyn1D, syDyn1D, szDyn1D), :auto);\n",
    "CSV.write(\"C://Users//crh222//QuantumSpinDynamics//data//dyn1D.csv\",  dfDyn1D, header = [\"t\", \"sx\", \"sy\", \"sz\"]);"
   ]
  },
  {
   "cell_type": "markdown",
   "id": "fcf7bfee",
   "metadata": {},
   "source": [
    "## 2D"
   ]
  },
  {
   "cell_type": "markdown",
   "id": "37856692",
   "metadata": {},
   "source": [
    "### Compute Expectation Values"
   ]
  },
  {
   "cell_type": "code",
   "execution_count": 8,
   "id": "28ebe571",
   "metadata": {
    "ExecuteTime": {
     "end_time": "2022-06-06T14:42:03.418000+01:00",
     "start_time": "2022-06-06T13:33:40.003Z"
    }
   },
   "outputs": [],
   "source": [
    "sDyn2D_list = reduce(vcat, [real_if_close(sDyn(2, T, i)) for i in t]);"
   ]
  },
  {
   "cell_type": "code",
   "execution_count": 9,
   "id": "71113d98",
   "metadata": {
    "ExecuteTime": {
     "end_time": "2022-06-06T14:42:03.418000+01:00",
     "start_time": "2022-06-06T13:33:40.278Z"
    }
   },
   "outputs": [],
   "source": [
    "sxDyn2D = sDyn2D_list[:,1]; # s_x\n",
    "syDyn2D = sDyn2D_list[:,2]; # s_y\n",
    "szDyn2D = sDyn2D_list[:,3]; # s_z"
   ]
  },
  {
   "cell_type": "markdown",
   "id": "b414aa2b",
   "metadata": {},
   "source": [
    "### Store Expectation Values"
   ]
  },
  {
   "cell_type": "code",
   "execution_count": 10,
   "id": "391738b9",
   "metadata": {
    "ExecuteTime": {
     "end_time": "2022-06-06T14:42:03.434000+01:00",
     "start_time": "2022-06-06T13:33:42.366Z"
    }
   },
   "outputs": [],
   "source": [
    "dfDyn2D = DataFrame(hcat(t, sxDyn2D, syDyn2D, szDyn2D), :auto);\n",
    "CSV.write(\"C://Users//crh222//QuantumSpinDynamics//data//dyn2D.csv\",  dfDyn2D, header = [\"t\", \"sx\", \"sy\", \"sz\"]);"
   ]
  },
  {
   "cell_type": "markdown",
   "id": "188d28e1",
   "metadata": {},
   "source": [
    "## 3D"
   ]
  },
  {
   "cell_type": "markdown",
   "id": "cc72ebb7",
   "metadata": {},
   "source": [
    "### Compute Expectation Values"
   ]
  },
  {
   "cell_type": "code",
   "execution_count": null,
   "id": "7c468a5a",
   "metadata": {
    "ExecuteTime": {
     "start_time": "2022-06-06T13:33:52.804Z"
    }
   },
   "outputs": [],
   "source": [
    "sDyn3D_list = reduce(vcat, [real_if_close(sDyn(3, T, i)) for i in t]);"
   ]
  },
  {
   "cell_type": "code",
   "execution_count": null,
   "id": "24b86a67",
   "metadata": {
    "ExecuteTime": {
     "start_time": "2022-06-06T13:33:53.066Z"
    }
   },
   "outputs": [],
   "source": [
    "sxDyn3D = sDyn3D_list[:,1]; # s_x\n",
    "syDyn3D = sDyn3D_list[:,2]; # s_y\n",
    "szDyn3D = sDyn3D_list[:,3]; # s_z"
   ]
  },
  {
   "cell_type": "markdown",
   "id": "bc46cc4f",
   "metadata": {},
   "source": [
    "### Store Expectation Values"
   ]
  },
  {
   "cell_type": "code",
   "execution_count": null,
   "id": "fc5725d3",
   "metadata": {
    "ExecuteTime": {
     "start_time": "2022-06-06T13:33:53.979Z"
    }
   },
   "outputs": [],
   "source": [
    "dfDyn3D = DataFrame(hcat(t, sxDyn3D, syDyn3D, szDyn3D), :auto);\n",
    "CSV.write(\"C://Users//crh222//QuantumSpinDynamics//data//dyn3D.csv\",  dfDyn3D, header = [\"t\", \"sx\", \"sy\", \"sz\"]);"
   ]
  }
 ],
 "metadata": {
  "kernelspec": {
   "display_name": "Julia 1.7.2",
   "language": "julia",
   "name": "julia-1.7"
  },
  "language_info": {
   "file_extension": ".jl",
   "mimetype": "application/julia",
   "name": "julia",
   "version": "1.7.2"
  }
 },
 "nbformat": 4,
 "nbformat_minor": 5
}
