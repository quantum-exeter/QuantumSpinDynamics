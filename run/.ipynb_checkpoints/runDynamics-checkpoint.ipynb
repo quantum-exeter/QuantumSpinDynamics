{
 "cells": [
  {
   "cell_type": "markdown",
   "id": "59c3a948",
   "metadata": {},
   "source": [
    "# Run Dynamics"
   ]
  },
  {
   "cell_type": "markdown",
   "id": "f9f3e47d",
   "metadata": {},
   "source": [
    "## Preamble"
   ]
  },
  {
   "cell_type": "code",
   "execution_count": 1,
   "id": "db683806",
   "metadata": {
    "ExecuteTime": {
     "end_time": "2022-06-20T11:07:50.012000+01:00",
     "start_time": "2022-06-20T10:07:33.572Z"
    }
   },
   "outputs": [],
   "source": [
    "using CSV # Allows data to be converted to .CSV to use with Python for plotting\n",
    "using DataFrames # Another useful package for exporting data\n",
    "using LinearAlgebra\n",
    "using DifferentialEquations\n",
    "using Kronecker\n",
    "using BenchmarkTools"
   ]
  },
  {
   "cell_type": "code",
   "execution_count": 2,
   "id": "f5833a27",
   "metadata": {
    "ExecuteTime": {
     "end_time": "2022-06-20T11:07:51.069000+01:00",
     "start_time": "2022-06-20T10:07:33.897Z"
    }
   },
   "outputs": [],
   "source": [
    "include(\"../lib/Dynamics.jl\")\n",
    "using .Dynamics"
   ]
  },
  {
   "cell_type": "code",
   "execution_count": 3,
   "id": "e0487cd0",
   "metadata": {
    "ExecuteTime": {
     "end_time": "2022-06-20T11:07:51.092000+01:00",
     "start_time": "2022-06-20T10:07:46.659Z"
    }
   },
   "outputs": [],
   "source": [
    "ti, tf, dt = [40000 100000 100];\n",
    "tspan = (ti, tf);\n",
    "t = ti:dt:tf;"
   ]
  },
  {
   "cell_type": "code",
   "execution_count": 4,
   "id": "23f7cc6e",
   "metadata": {
    "ExecuteTime": {
     "end_time": "2022-06-20T11:07:51.094000+01:00",
     "start_time": "2022-06-20T10:07:47.321Z"
    }
   },
   "outputs": [],
   "source": [
    "alg = Vern7();"
   ]
  },
  {
   "cell_type": "markdown",
   "id": "06d432c0",
   "metadata": {},
   "source": [
    "## 1D"
   ]
  },
  {
   "cell_type": "code",
   "execution_count": 5,
   "id": "32544519",
   "metadata": {
    "ExecuteTime": {
     "end_time": "2022-06-20T11:07:51.094000+01:00",
     "start_time": "2022-06-20T10:07:49.346Z"
    }
   },
   "outputs": [],
   "source": [
    "dim = 1;"
   ]
  },
  {
   "cell_type": "markdown",
   "id": "22f55fe2",
   "metadata": {},
   "source": [
    "### Compute Expectation Values"
   ]
  },
  {
   "cell_type": "code",
   "execution_count": null,
   "id": "f6b97df7",
   "metadata": {
    "ExecuteTime": {
     "start_time": "2022-06-20T10:07:49.971Z"
    }
   },
   "outputs": [],
   "source": [
    "superop = 𝒮(dim)\n",
    "state_init = ρ0(dim)\n",
    "dstate(dρ, ρ, v, t) = mul!(dρ, superop, ρ) # Solves the DE\n",
    "prob = ODEProblem(dstate, vec(state_init), tspan)\n",
    "out = solve(prob, alg)\n",
    "sol(t) = reshape(out(t), (hspace_dimension(dim), hspace_dimension(dim))) # Reformats vector into a density matrix"
   ]
  },
  {
   "cell_type": "code",
   "execution_count": null,
   "id": "6c5eb604",
   "metadata": {
    "ExecuteTime": {
     "start_time": "2022-06-20T10:07:50.547Z"
    }
   },
   "outputs": [],
   "source": [
    "n = Int(hspace_dimension(dim)/2);"
   ]
  },
  {
   "cell_type": "code",
   "execution_count": null,
   "id": "c403ad55",
   "metadata": {
    "ExecuteTime": {
     "start_time": "2022-06-20T10:07:51.084Z"
    }
   },
   "outputs": [],
   "source": [
    "sxDyn1D = [realIfClose(tr(sol(i)*kronecker(σx, 𝕀(n)))) for i in t];\n",
    "syDyn1D = [realIfClose(tr(sol(i)*kronecker(σy, 𝕀(n)))) for i in t];\n",
    "szDyn1D = [realIfClose(tr(sol(i)*kronecker(σz, 𝕀(n)))) for i in t];"
   ]
  },
  {
   "cell_type": "markdown",
   "id": "1c2ae06d",
   "metadata": {},
   "source": [
    "### Store Expectation Values"
   ]
  },
  {
   "cell_type": "code",
   "execution_count": null,
   "id": "f91fea94",
   "metadata": {
    "ExecuteTime": {
     "start_time": "2022-06-20T10:07:51.759Z"
    }
   },
   "outputs": [],
   "source": [
    "dfDyn1D = DataFrame(hcat(t, sxDyn1D, syDyn1D, szDyn1D), :auto);\n",
    "CSV.write(\"C://Users//crh222//Data//Dynamics//dyn1D.csv\",  dfDyn1D, header = [\"t\", \"sx\", \"sy\", \"sz\"]);"
   ]
  },
  {
   "cell_type": "markdown",
   "id": "fcf7bfee",
   "metadata": {},
   "source": [
    "## 2D"
   ]
  },
  {
   "cell_type": "code",
   "execution_count": 11,
   "id": "fdfe0a84",
   "metadata": {
    "ExecuteTime": {
     "end_time": "2022-06-20T11:06:59.038000+01:00",
     "start_time": "2022-06-20T10:06:23.682Z"
    }
   },
   "outputs": [],
   "source": [
    "dim = 2;"
   ]
  },
  {
   "cell_type": "markdown",
   "id": "0ac8ef76",
   "metadata": {},
   "source": [
    "### Compute Expectation Values"
   ]
  },
  {
   "cell_type": "code",
   "execution_count": null,
   "id": "e9d6804f",
   "metadata": {},
   "outputs": [],
   "source": [
    "superop = 𝒮(dim)\n",
    "state_init = ρ0(dim)\n",
    "dstate(dρ, ρ, v, t) = mul!(dρ, superop, ρ) # Solves the DE\n",
    "prob = ODEProblem(dstate, vec(state_init), tspan)\n",
    "out = solve(prob, alg)\n",
    "sol(t) = reshape(out(t), (hspace_dimension(dim), hspace_dimension(dim))) # Reformats vector into a density matrix"
   ]
  },
  {
   "cell_type": "code",
   "execution_count": null,
   "id": "826c0cf6",
   "metadata": {},
   "outputs": [],
   "source": [
    "n = Int(hspace_dimension(dim)/2);"
   ]
  },
  {
   "cell_type": "code",
   "execution_count": 6,
   "id": "16f3e170",
   "metadata": {
    "ExecuteTime": {
     "end_time": "2022-06-15T17:21:27.149000+01:00",
     "start_time": "2022-06-15T16:17:07.127Z"
    }
   },
   "outputs": [
    {
     "ename": "LoadError",
     "evalue": "UndefVarError: real_if_close not defined",
     "output_type": "error",
     "traceback": [
      "UndefVarError: real_if_close not defined",
      "",
      "Stacktrace:",
      " [1] (::var\"#3#4\")(i::Int64)",
      "   @ Main .\\none:0",
      " [2] iterate",
      "   @ .\\generator.jl:47 [inlined]",
      " [3] collect(itr::Base.Generator{StepRange{Int64, Int64}, var\"#3#4\"})",
      "   @ Base .\\array.jl:724",
      " [4] top-level scope",
      "   @ In[6]:1",
      " [5] eval",
      "   @ .\\boot.jl:373 [inlined]",
      " [6] include_string(mapexpr::typeof(REPL.softscope), mod::Module, code::String, filename::String)",
      "   @ Base .\\loading.jl:1196"
     ]
    }
   ],
   "source": [
    "sxDyn2D = [realIfClose(tr(sol(i)*kronecker(σx, 𝕀(n)))) for i in t];\n",
    "syDyn2D = [realIfClose(tr(sol(i)*kronecker(σy, 𝕀(n)))) for i in t];\n",
    "szDyn2D = [realIfClose(tr(sol(i)*kronecker(σz, 𝕀(n)))) for i in t];"
   ]
  },
  {
   "cell_type": "markdown",
   "id": "5e0d8378",
   "metadata": {},
   "source": [
    "### Store Expectation Values"
   ]
  },
  {
   "cell_type": "code",
   "execution_count": 8,
   "id": "ab9ddd07",
   "metadata": {
    "ExecuteTime": {
     "end_time": "2022-06-15T17:21:27.157000+01:00",
     "start_time": "2022-06-15T16:17:08.314Z"
    }
   },
   "outputs": [
    {
     "ename": "LoadError",
     "evalue": "UndefVarError: sxDyn2D not defined",
     "output_type": "error",
     "traceback": [
      "UndefVarError: sxDyn2D not defined",
      "",
      "Stacktrace:",
      " [1] top-level scope",
      "   @ In[8]:1",
      " [2] eval",
      "   @ .\\boot.jl:373 [inlined]",
      " [3] include_string(mapexpr::typeof(REPL.softscope), mod::Module, code::String, filename::String)",
      "   @ Base .\\loading.jl:1196"
     ]
    }
   ],
   "source": [
    "dfDyn2D = DataFrame(hcat(t, sxDyn2D, syDyn2D, szDyn2D), :auto);\n",
    "CSV.write(\"C://Users//crh222//Data//Dynamics//dyn2D.csv\",  dfDyn2D, header = [\"t\", \"sx\", \"sy\", \"sz\"]);"
   ]
  },
  {
   "cell_type": "markdown",
   "id": "1a55401c",
   "metadata": {},
   "source": [
    "## 3D"
   ]
  },
  {
   "cell_type": "code",
   "execution_count": null,
   "id": "0cbe7a80",
   "metadata": {},
   "outputs": [],
   "source": [
    "dim = 3;"
   ]
  },
  {
   "cell_type": "markdown",
   "id": "160081b5",
   "metadata": {},
   "source": [
    "### Compute Expectation Values"
   ]
  },
  {
   "cell_type": "code",
   "execution_count": null,
   "id": "f8fab83c",
   "metadata": {},
   "outputs": [],
   "source": [
    "superop = 𝒮(dim)\n",
    "state_init = ρ0(dim)\n",
    "dstate(dρ, ρ, v, t) = mul!(dρ, superop, ρ) # Solves the DE\n",
    "prob = ODEProblem(dstate, vec(state_init), tspan)\n",
    "out = solve(prob, alg)\n",
    "sol(t) = reshape(out(t), (hspace_dimension(dim), hspace_dimension(dim))) # Reformats vector into a density matrix"
   ]
  },
  {
   "cell_type": "code",
   "execution_count": null,
   "id": "8f86100d",
   "metadata": {},
   "outputs": [],
   "source": [
    "n = Int(hspace_dimension(dim)/2);"
   ]
  },
  {
   "cell_type": "code",
   "execution_count": 13,
   "id": "4a2222b5",
   "metadata": {
    "ExecuteTime": {
     "end_time": "2022-06-06T15:50:58.261000+01:00",
     "start_time": "2022-06-06T14:35:08.069Z"
    }
   },
   "outputs": [],
   "source": [
    "sxDyn3D = [realIfClose(tr(sol(i)*kronecker(σx, 𝕀(n)))) for i in t];\n",
    "syDyn3D = [realIfClose(tr(sol(i)*kronecker(σy, 𝕀(n)))) for i in t];\n",
    "szDyn3D = [realIfClose(tr(sol(i)*kronecker(σz, 𝕀(n)))) for i in t];"
   ]
  },
  {
   "cell_type": "markdown",
   "id": "c94535d8",
   "metadata": {},
   "source": [
    "### Store Expectation Values"
   ]
  },
  {
   "cell_type": "code",
   "execution_count": 14,
   "id": "eec0c94f",
   "metadata": {
    "ExecuteTime": {
     "end_time": "2022-06-06T15:50:58.277000+01:00",
     "start_time": "2022-06-06T14:35:09.169Z"
    }
   },
   "outputs": [],
   "source": [
    "dfDyn3D = DataFrame(hcat(t, sxDyn3D, syDyn3D, szDyn3D), :auto);\n",
    "CSV.write(\"C://Users//crh222//Data//Dynamics//dyn3D.csv\",  dfDyn3D, header = [\"t\", \"sx\", \"sy\", \"sz\"]);"
   ]
  }
 ],
 "metadata": {
  "kernelspec": {
   "display_name": "Julia 1.7.2",
   "language": "julia",
   "name": "julia-1.7"
  },
  "language_info": {
   "file_extension": ".jl",
   "mimetype": "application/julia",
   "name": "julia",
   "version": "1.7.2"
  }
 },
 "nbformat": 4,
 "nbformat_minor": 5
}
