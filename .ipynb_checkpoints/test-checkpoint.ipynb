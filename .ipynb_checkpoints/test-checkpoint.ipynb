{
 "cells": [
  {
   "cell_type": "markdown",
   "id": "9660879c",
   "metadata": {},
   "source": [
    "## Modules and Functions"
   ]
  },
  {
   "cell_type": "code",
   "execution_count": 5,
   "id": "559566a1",
   "metadata": {
    "ExecuteTime": {
     "end_time": "2022-05-26T13:50:22.488000+01:00",
     "start_time": "2022-05-26T12:50:22.044Z"
    }
   },
   "outputs": [],
   "source": [
    "using LinearAlgebra\n",
    "using Kronecker\n",
    "using Random"
   ]
  },
  {
   "cell_type": "code",
   "execution_count": 6,
   "id": "4549b042",
   "metadata": {
    "ExecuteTime": {
     "end_time": "2022-05-26T13:50:22.851000+01:00",
     "start_time": "2022-05-26T12:50:22.366Z"
    }
   },
   "outputs": [],
   "source": [
    "γ = -1.76*10^(11) # Gyromagnetic ratio for an electron (T^-1s^-1)\n",
    "Bext = 10 # External magnetic field (T)\n",
    "ωL = abs(γ)*Bext # Larmor frequency (s^-1)\n",
    "ħ = 1.05*10^(-34) # Reduced Planck constant (Js)\n",
    "kB = 1.38*10^(-23) # Boltzmann cosntant (JK^-1)\n",
    "Λ = 10^10 # Cutoff frequency for spectral density\n",
    "cfac = (ħ*ωL)/kB\n",
    "\n",
    "σx = [[0 1];[1 0]]\n",
    "σy = [[0 -im];[im 0]]\n",
    "σz = [[1 0];[0 -1]]\n",
    "sx0 = 0.5*σx\n",
    "sy0 = 0.5*σy\n",
    "sz0 = 0.5*σz\n",
    "\n",
    "𝕀s = 1*Matrix(I, 2, 2)\n",
    "𝕀b(n) = 1*Matrix(I, n, n)\n",
    "\n",
    "int(x) = floor(Int, x);\n",
    "𝕀b(n) = 1*Matrix(I, n, n);"
   ]
  },
  {
   "cell_type": "code",
   "execution_count": 7,
   "id": "2d5f3cb6",
   "metadata": {
    "ExecuteTime": {
     "end_time": "2022-05-26T13:50:24.015000+01:00",
     "start_time": "2022-05-26T12:50:23.642Z"
    }
   },
   "outputs": [
    {
     "data": {
      "text/plain": [
       "create (generic function with 1 method)"
      ]
     },
     "execution_count": 7,
     "metadata": {},
     "output_type": "execute_result"
    }
   ],
   "source": [
    "function create(n)\n",
    "    matrix = zeros(n, n)\n",
    "    for i in 1:n\n",
    "        new_row = zeros(1, n)\n",
    "        for j in Array(1:n)\n",
    "            if i == j+1\n",
    "                new_row[j] = sqrt(i-1)\n",
    "            else\n",
    "                new_row[j] = 0\n",
    "            end\n",
    "        end\n",
    "        matrix[[i],:] = new_row\n",
    "    end\n",
    "    return matrix\n",
    "end"
   ]
  },
  {
   "cell_type": "code",
   "execution_count": 8,
   "id": "2ef08eb3",
   "metadata": {
    "ExecuteTime": {
     "end_time": "2022-05-26T13:50:24.173000+01:00",
     "start_time": "2022-05-26T12:50:24.092Z"
    }
   },
   "outputs": [
    {
     "data": {
      "text/plain": [
       "annihilate (generic function with 1 method)"
      ]
     },
     "execution_count": 8,
     "metadata": {},
     "output_type": "execute_result"
    }
   ],
   "source": [
    "function annihilate(n)\n",
    "        return adjoint(create(n))\n",
    "end"
   ]
  },
  {
   "cell_type": "code",
   "execution_count": 9,
   "id": "b68821ba",
   "metadata": {
    "ExecuteTime": {
     "end_time": "2022-05-26T13:50:24.776000+01:00",
     "start_time": "2022-05-26T12:50:24.692Z"
    }
   },
   "outputs": [
    {
     "data": {
      "text/plain": [
       "gibbs (generic function with 1 method)"
      ]
     },
     "execution_count": 9,
     "metadata": {},
     "output_type": "execute_result"
    }
   ],
   "source": [
    "function gibbs(H, T)\n",
    "    n = size(H,1)\n",
    "    ϵ = eigen(H).values\n",
    "    P = eigen(H).vectors\n",
    "    𝒵 = sum(exp(-(cfac*ϵ[i])/T) for i = 1:n)\n",
    "    ρ = (1/𝒵)*Diagonal([exp(-(cfac*ϵ[i])/T) for i = 1:n])\n",
    "    return P*ρ*adjoint(P)\n",
    "end"
   ]
  },
  {
   "cell_type": "code",
   "execution_count": 10,
   "id": "4a3f9e5e",
   "metadata": {
    "ExecuteTime": {
     "end_time": "2022-05-26T13:50:25.070000+01:00",
     "start_time": "2022-05-26T12:50:24.993Z"
    }
   },
   "outputs": [
    {
     "data": {
      "text/plain": [
       "ptrace (generic function with 1 method)"
      ]
     },
     "execution_count": 10,
     "metadata": {},
     "output_type": "execute_result"
    }
   ],
   "source": [
    "function ptrace(ρ, n)\n",
    "    nR = int(size(ρ, 1)/n)\n",
    "    return(sum((𝕀b(nR)⊗(𝕀b(n)[[i],:]))*ρ*(𝕀b(nR)⊗(𝕀b(n)[:,i])) for i=1:n))\n",
    "end"
   ]
  },
  {
   "cell_type": "code",
   "execution_count": 11,
   "id": "1a2e17f2",
   "metadata": {
    "ExecuteTime": {
     "end_time": "2022-05-26T13:50:25.280000+01:00",
     "start_time": "2022-05-26T12:50:25.230Z"
    }
   },
   "outputs": [],
   "source": [
    "HSpG = -sign(γ)*sz0;"
   ]
  },
  {
   "cell_type": "code",
   "execution_count": 12,
   "id": "4d2acde1",
   "metadata": {
    "ExecuteTime": {
     "end_time": "2022-05-26T13:50:25.621000+01:00",
     "start_time": "2022-05-26T12:50:25.618Z"
    }
   },
   "outputs": [],
   "source": [
    "HRC1D(n, λ, Ω) = -sign(γ)*kronecker(sz0, 𝕀b(n)) + λ*kronecker(sx0, (create(n) + annihilate(n))) + kronecker(𝕀s, Ω*(create(n)*annihilate(n)));"
   ]
  },
  {
   "cell_type": "code",
   "execution_count": 13,
   "id": "92f5dd36",
   "metadata": {
    "ExecuteTime": {
     "end_time": "2022-05-26T13:50:25.984000+01:00",
     "start_time": "2022-05-26T12:50:25.980Z"
    }
   },
   "outputs": [],
   "source": [
    "function HRC2D(nx, nz, λx, λz, Ωx, Ωz)\n",
    "    spin = -sign(γ)*kronecker(sz0, 𝕀b(nx), 𝕀b(nz))\n",
    "    rc = kronecker(𝕀s, Ωx*(create(nx)*annihilate(nx)), 𝕀b(nz)) + kronecker(𝕀s, 𝕀b(nx), Ωz*(create(nz)*annihilate(nz)))\n",
    "    int = λx*kronecker(sx0, (create(nx) + annihilate(nx)), 𝕀b(nz)) + λz*kronecker(sz0, 𝕀b(nx), (create(nz) + annihilate(nz)))\n",
    "    return(spin + rc + int)\n",
    "end;"
   ]
  },
  {
   "cell_type": "code",
   "execution_count": 14,
   "id": "c0feae4c",
   "metadata": {
    "ExecuteTime": {
     "end_time": "2022-05-26T13:50:26.334000+01:00",
     "start_time": "2022-05-26T12:50:26.330Z"
    }
   },
   "outputs": [],
   "source": [
    "function HRC3D(nx, ny, nz, λx, λy, λz, Ωx, Ωy, Ωz)\n",
    "    spin = -sign(γ)*kronecker(sz0, 𝕀b(nx), 𝕀b(ny), 𝕀b(nz))\n",
    "    rc = kronecker(𝕀s, Ωx*(create(nx)*annihilate(nx)), 𝕀b(ny), 𝕀b(nz)) + kronecker(𝕀s, 𝕀b(nx), Ωy*(create(ny)*annihilate(ny)), 𝕀b(nz)) + kronecker(𝕀s, 𝕀b(nx), 𝕀b(ny), Ωz*(create(nz)*annihilate(nz)))\n",
    "    int = λx*kronecker(sx0, (create(nx) + annihilate(nx)), 𝕀b(ny), 𝕀b(nz)) + λy*kronecker(sy0, 𝕀b(nx), (create(ny) + annihilate(ny)), 𝕀b(nz)) + λz*kronecker(sz0, 𝕀b(nx), 𝕀b(ny), (create(nz) + annihilate(nz)))\n",
    "    return(spin + rc + int)\n",
    "end;"
   ]
  },
  {
   "cell_type": "markdown",
   "id": "478ecba6",
   "metadata": {},
   "source": [
    "## 1D Test"
   ]
  },
  {
   "cell_type": "code",
   "execution_count": 15,
   "id": "958be587",
   "metadata": {
    "ExecuteTime": {
     "end_time": "2022-05-26T13:50:32.140000+01:00",
     "start_time": "2022-05-26T12:50:27.118Z"
    }
   },
   "outputs": [
    {
     "data": {
      "text/plain": [
       "true"
      ]
     },
     "execution_count": 15,
     "metadata": {},
     "output_type": "execute_result"
    }
   ],
   "source": [
    "n, Ω, temp = rand(1:20, 3);\n",
    "λ = 0;\n",
    "H1D = HRC1D(n, λ, Ω);\n",
    "P = eigvecs(H1D);\n",
    "H1DT = adjoint(P)*H1D*P;\n",
    "P*H1DT*adjoint(P) ≈ H1D\n",
    "ρT = gibbs(H1DT, temp);\n",
    "ρ = P*gibbs(H1DT, temp)*adjoint(P);\n",
    "ρMFGS = ptrace(ρ, n);\n",
    "ρG = gibbs(HSpG, temp);\n",
    "ρMFGS ≈ ρG"
   ]
  },
  {
   "cell_type": "markdown",
   "id": "e95075d8",
   "metadata": {},
   "source": [
    "## 2D Test"
   ]
  },
  {
   "cell_type": "code",
   "execution_count": 16,
   "id": "0e8bab50",
   "metadata": {
    "ExecuteTime": {
     "end_time": "2022-05-26T13:50:34.086000+01:00",
     "start_time": "2022-05-26T12:50:28.142Z"
    }
   },
   "outputs": [
    {
     "data": {
      "text/plain": [
       "true"
      ]
     },
     "execution_count": 16,
     "metadata": {},
     "output_type": "execute_result"
    }
   ],
   "source": [
    "nx, nz, Ωx, Ωz, temp = rand(1:20, 5);\n",
    "λx, λz = 0, 0;\n",
    "H2D = HRC2D(nx, nz, λx, λz, Ωx, Ωz);\n",
    "P = eigvecs(H2D);\n",
    "H2DT = adjoint(P)*H2D*P;\n",
    "P*H2DT*adjoint(P) ≈ H2D\n",
    "ρT = gibbs(H2DT, temp);\n",
    "ρ = P*gibbs(H2DT, temp)*adjoint(P);\n",
    "ρMFGS = ptrace(ρ, nx*nz);\n",
    "ρG = gibbs(HSpG, temp);\n",
    "ρMFGS ≈ ρG"
   ]
  },
  {
   "cell_type": "markdown",
   "id": "3d272a33",
   "metadata": {},
   "source": [
    "## 3D Test"
   ]
  },
  {
   "cell_type": "code",
   "execution_count": 18,
   "id": "8d2c272c",
   "metadata": {
    "ExecuteTime": {
     "end_time": "2022-05-26T13:52:13.483000+01:00",
     "start_time": "2022-05-26T12:51:27.644Z"
    }
   },
   "outputs": [
    {
     "data": {
      "text/plain": [
       "true"
      ]
     },
     "execution_count": 18,
     "metadata": {},
     "output_type": "execute_result"
    }
   ],
   "source": [
    "nx, ny, nz, Ωx, Ωy, Ωz, temp = rand(1:20, 7);\n",
    "λx, λy, λz = 0, 0, 0;\n",
    "H3D = HRC3D(nx, ny, nz, λx, λy, λz, Ωx, Ωy, Ωz);\n",
    "P = eigvecs(H3D);\n",
    "H3DT = adjoint(P)*H3D*P;\n",
    "P*H3DT*adjoint(P) ≈ H3D\n",
    "ρT = gibbs(H3DT, temp);\n",
    "ρ = P*gibbs(H3DT, temp)*adjoint(P);\n",
    "ρMFGS = ptrace(ρ, nx*ny*nz);\n",
    "ρG = gibbs(HSpG, temp);\n",
    "ρMFGS ≈ ρG"
   ]
  }
 ],
 "metadata": {
  "kernelspec": {
   "display_name": "Julia 1.7.2",
   "language": "julia",
   "name": "julia-1.7"
  },
  "language_info": {
   "file_extension": ".jl",
   "mimetype": "application/julia",
   "name": "julia",
   "version": "1.7.2"
  },
  "toc": {
   "base_numbering": 1,
   "nav_menu": {},
   "number_sections": true,
   "sideBar": true,
   "skip_h1_title": false,
   "title_cell": "Table of Contents",
   "title_sidebar": "Contents",
   "toc_cell": false,
   "toc_position": {},
   "toc_section_display": true,
   "toc_window_display": false
  }
 },
 "nbformat": 4,
 "nbformat_minor": 5
}
