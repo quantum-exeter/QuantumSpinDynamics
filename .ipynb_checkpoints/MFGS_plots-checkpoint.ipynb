{
 "cells": [
  {
   "cell_type": "markdown",
   "id": "f27588f7",
   "metadata": {},
   "source": [
    "# MFGS Plots"
   ]
  },
  {
   "cell_type": "code",
   "execution_count": null,
   "id": "b9cad9e5",
   "metadata": {},
   "outputs": [],
   "source": [
    "import numpy as np\n",
    "import numpy.random as rn\n",
    "import scipy.stats as st\n",
    "import scipy.fftpack as ft\n",
    "import scipy.integrate as od\n",
    "import scipy.signal as sig\n",
    "import scipy.interpolate as intpl\n",
    "import matplotlib\n",
    "import matplotlib.pyplot as plt\n",
    "from mpl_toolkits.mplot3d import Axes3D\n",
    "from matplotlib import rc\n",
    "import tqdm as tqdm\n",
    "import pickle\n",
    "from scikits.odes.odeint import odeint\n",
    "\n",
    "import sys\n",
    "sys.path.append(\"C://Users//crh222//QuantumSpinDynamics\")\n",
    "import ASHLib as myLib\n",
    "from importlib import reload\n",
    "reload(myLib)\n",
    "\n",
    "# Say, \"the default sans-serif font is COMIC SANS\"\n",
    "matplotlib.rcParams['font.sans-serif'] = \"Arial\"  #\"Times New Roman\"\n",
    "# Then, \"ALWAYS use sans-serif fonts\"\n",
    "matplotlib.rcParams['font.family'] = \"sans-serif\"\n",
    "matplotlib.rcParams['mathtext.fontset'] = \"cm\"\n",
    "#rc('text', usetex=True)"
   ]
  },
  {
   "cell_type": "code",
   "execution_count": null,
   "id": "ea1f38d8",
   "metadata": {},
   "outputs": [],
   "source": [
    "import pandas as pd"
   ]
  },
  {
   "cell_type": "code",
   "execution_count": null,
   "id": "2ee8dab2",
   "metadata": {},
   "outputs": [],
   "source": [
    "data = np.array(pd.read_csv(r'MFGS_data.csv')) "
   ]
  },
  {
   "cell_type": "code",
   "execution_count": null,
   "id": "a6625a8a",
   "metadata": {},
   "outputs": [],
   "source": [
    "figRC, axRC = plt.subplots(figsize=(6.5, 4.5))  #size in inches\n",
    "\n",
    "# labeling\n",
    "axRC.spines[\"top\"].set_visible(False)\n",
    "axRC.spines[\"right\"].set_visible(False)\n",
    "axRC.get_xaxis().tick_bottom()\n",
    "axRC.get_yaxis().tick_left()\n",
    "\n",
    "axRC.set_xlabel(\"$T$\", fontsize=18)\n",
    "axRC.set_ylabel(\"$\\langle \\\\hat{S}_z\\\\rangle$\", fontsize=18)\n",
    "\n",
    "##### data ######\n",
    "\n",
    "axRC.semilogx(data[:,0], data[:, 1], 'r-', label = \"Gibbs\") # Gibbs\n",
    "axRC.semilogx(data[:,0], data[:, 2], 'k-', label = \"1D MFGS\") #1D MFGS\n",
    "axRC.semilogx(data[:,0], data[:, 3], 'k--', label = \"2D MFGS\") #2D MFGS\n",
    "plt.legend(loc=\"upper left\")\n",
    "\n",
    "plt.savefig(\"C://Users//crh222//Dropbox//PhD//1. Reaction Coordinate Mapping//Graphs//rc_graph.pdf\", dpi=300)"
   ]
  }
 ],
 "metadata": {
  "kernelspec": {
   "display_name": "Python 3 (ipykernel)",
   "language": "python",
   "name": "python3"
  },
  "language_info": {
   "codemirror_mode": {
    "name": "ipython",
    "version": 3
   },
   "file_extension": ".py",
   "mimetype": "text/x-python",
   "name": "python",
   "nbconvert_exporter": "python",
   "pygments_lexer": "ipython3",
   "version": "3.9.7"
  },
  "toc": {
   "base_numbering": 1,
   "nav_menu": {},
   "number_sections": true,
   "sideBar": true,
   "skip_h1_title": false,
   "title_cell": "Table of Contents",
   "title_sidebar": "Contents",
   "toc_cell": false,
   "toc_position": {},
   "toc_section_display": true,
   "toc_window_display": false
  }
 },
 "nbformat": 4,
 "nbformat_minor": 5
}
