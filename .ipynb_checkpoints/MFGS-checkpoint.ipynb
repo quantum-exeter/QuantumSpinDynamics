{
 "cells": [
  {
   "cell_type": "markdown",
   "id": "7443fafc",
   "metadata": {},
   "source": [
    "# Dimension-Dependence of MFGS"
   ]
  },
  {
   "cell_type": "markdown",
   "id": "37b98acf",
   "metadata": {
    "ExecuteTime": {
     "end_time": "2022-04-20T15:12:34.705000+01:00",
     "start_time": "2022-04-20T14:12:33.997Z"
    }
   },
   "source": [
    "<span style=\"font-size:1.2em;\">! Run this in **Julia** !</span> "
   ]
  },
  {
   "cell_type": "markdown",
   "id": "e8400041",
   "metadata": {},
   "source": [
    "1. You'll need to install the Julia add on for Jupyter Notebooks (IJulia). Follow guide here: https://datatofish.com/add-julia-to-jupyter/\n",
    "2. Go to *Kernel* -> *Change Kernel* -> *Julia*"
   ]
  },
  {
   "cell_type": "markdown",
   "id": "6a2849f6",
   "metadata": {},
   "source": [
    "## Packages"
   ]
  },
  {
   "cell_type": "code",
   "execution_count": 1,
   "id": "f1629c11",
   "metadata": {
    "ExecuteTime": {
     "end_time": "2022-05-27T15:59:39.019000+01:00",
     "start_time": "2022-05-27T14:59:21.611Z"
    }
   },
   "outputs": [],
   "source": [
    "include(\"RCLib.jl\") # Include the RC library with all the useful functions\n",
    "using .RCLib\n",
    "\n",
    "using LinearAlgebra # For IIL matrix multiplication\n",
    "using Kronecker\n",
    "using OrdinaryDiffEq\n",
    "using DifferentialEquations\n",
    "\n",
    "## Plotting Packages ##\n",
    "using CSV # Allows data to be converted to .CSV to use with Python for plotting\n",
    "using DataFrames # Another useful package for exporting data\n",
    "using Plots\n",
    "\n",
    "## Performance Packages ##\n",
    "using BenchmarkTools"
   ]
  },
  {
   "cell_type": "markdown",
   "id": "29abd037",
   "metadata": {},
   "source": [
    "## Temp Lists"
   ]
  },
  {
   "cell_type": "code",
   "execution_count": 2,
   "id": "7653f695",
   "metadata": {
    "ExecuteTime": {
     "end_time": "2022-05-27T15:59:44.120000+01:00",
     "start_time": "2022-05-27T14:59:21.612Z"
    }
   },
   "outputs": [],
   "source": [
    "T_list = exp10.(range(-3, 4, length=100));"
   ]
  },
  {
   "cell_type": "code",
   "execution_count": 3,
   "id": "fe74e3e1",
   "metadata": {
    "ExecuteTime": {
     "end_time": "2022-05-27T15:59:44.193000+01:00",
     "start_time": "2022-05-27T14:59:21.613Z"
    }
   },
   "outputs": [],
   "source": [
    "T = [i for i in T_list];\n",
    "sz3DMFGS_cl = [pred(i) for i in T_list];"
   ]
  },
  {
   "cell_type": "markdown",
   "id": "51acd450",
   "metadata": {},
   "source": [
    "## Classical"
   ]
  },
  {
   "cell_type": "code",
   "execution_count": 4,
   "id": "666713d4",
   "metadata": {
    "ExecuteTime": {
     "end_time": "2022-05-27T15:59:44.470000+01:00",
     "start_time": "2022-05-27T14:59:21.614Z"
    }
   },
   "outputs": [],
   "source": [
    "df_cl = DataFrame(hcat(T, sz3DMFGS_cl), :auto);"
   ]
  },
  {
   "cell_type": "code",
   "execution_count": 5,
   "id": "610a3639",
   "metadata": {
    "ExecuteTime": {
     "end_time": "2022-05-27T15:59:44.471000+01:00",
     "start_time": "2022-05-27T14:59:21.615Z"
    }
   },
   "outputs": [],
   "source": [
    "# CSV.write(\"C://Users//crh222//QuantumSpinDynamics//MFGS_data_cl_pred.csv\",  df_cl, header = [\"T\", \"sz3D_cl\"]);"
   ]
  },
  {
   "cell_type": "markdown",
   "id": "4a8149a7",
   "metadata": {},
   "source": [
    "## Quantum"
   ]
  },
  {
   "cell_type": "markdown",
   "id": "2763f260",
   "metadata": {},
   "source": [
    "### Variables"
   ]
  },
  {
   "cell_type": "markdown",
   "id": "158a098b",
   "metadata": {},
   "source": [
    "#### Lorentzian Spectral Density"
   ]
  },
  {
   "cell_type": "code",
   "execution_count": 6,
   "id": "9efb3ec9",
   "metadata": {
    "ExecuteTime": {
     "end_time": "2022-05-27T15:59:44.537000+01:00",
     "start_time": "2022-05-27T14:59:21.617Z"
    }
   },
   "outputs": [],
   "source": [
    "prma = [1.4 0 10];\n",
    "prmb = [7 0 50]; # SAFE parameter set\n",
    "prmc = [0.14 0 0.1];\n",
    "prmd = [0.014 0 0.001];\n",
    "prm = prmd;"
   ]
  },
  {
   "cell_type": "code",
   "execution_count": 7,
   "id": "a3161496",
   "metadata": {
    "ExecuteTime": {
     "end_time": "2022-05-27T15:59:44.588000+01:00",
     "start_time": "2022-05-27T14:59:21.618Z"
    }
   },
   "outputs": [],
   "source": [
    "ω0x, Γx, αx = prm*ωL;\n",
    "ω0y, Γy, αy = prm*ωL;\n",
    "ω0z, Γz, αz = prm*ωL;"
   ]
  },
  {
   "cell_type": "markdown",
   "id": "0aa7d898",
   "metadata": {},
   "source": [
    "#### RC-Specific"
   ]
  },
  {
   "cell_type": "code",
   "execution_count": 8,
   "id": "2bf455f0",
   "metadata": {
    "ExecuteTime": {
     "end_time": "2022-05-27T15:59:44.598000+01:00",
     "start_time": "2022-05-27T14:59:21.619Z"
    }
   },
   "outputs": [],
   "source": [
    "Ωx = ω0x;\n",
    "λx = ωL*sqrt(αx/Ωx);\n",
    "δx = Γx/(2π*Ωx);\n",
    "nx = 5;"
   ]
  },
  {
   "cell_type": "code",
   "execution_count": 9,
   "id": "7dfa306a",
   "metadata": {
    "ExecuteTime": {
     "end_time": "2022-05-27T15:59:44.600000+01:00",
     "start_time": "2022-05-27T14:59:21.619Z"
    }
   },
   "outputs": [],
   "source": [
    "Ωy = ω0y;\n",
    "λy = ωL*sqrt(αy/Ωy);\n",
    "δy = Γy/(2π*Ωy);\n",
    "ny = 5;"
   ]
  },
  {
   "cell_type": "code",
   "execution_count": 10,
   "id": "6d4512a2",
   "metadata": {
    "ExecuteTime": {
     "end_time": "2022-05-27T15:59:44.601000+01:00",
     "start_time": "2022-05-27T14:59:21.620Z"
    }
   },
   "outputs": [],
   "source": [
    "Ωz = ω0z;\n",
    "λz = ωL*sqrt(αz/Ωz);\n",
    "δz = Γz/(2π*Ωz);\n",
    "nz = 5;"
   ]
  },
  {
   "cell_type": "markdown",
   "id": "56a2a438",
   "metadata": {},
   "source": [
    "### Gibbs State"
   ]
  },
  {
   "cell_type": "code",
   "execution_count": 11,
   "id": "be242e93",
   "metadata": {
    "ExecuteTime": {
     "end_time": "2022-05-27T15:59:44.602000+01:00",
     "start_time": "2022-05-27T14:59:21.621Z"
    }
   },
   "outputs": [],
   "source": [
    "ρSpG(T) = gibbs(HSpG, T);"
   ]
  },
  {
   "cell_type": "code",
   "execution_count": 12,
   "id": "10dfa2b3",
   "metadata": {
    "ExecuteTime": {
     "end_time": "2022-05-27T15:59:47.867000+01:00",
     "start_time": "2022-05-27T14:59:21.622Z"
    }
   },
   "outputs": [
    {
     "data": {
      "text/plain": [
       "2×2 Matrix{Float64}:\n",
       " 0.207653  0.0\n",
       " 0.0       0.792347"
      ]
     },
     "execution_count": 12,
     "metadata": {},
     "output_type": "execute_result"
    }
   ],
   "source": [
    "ρSpG(10)"
   ]
  },
  {
   "cell_type": "code",
   "execution_count": 13,
   "id": "806673a3",
   "metadata": {
    "ExecuteTime": {
     "end_time": "2022-05-27T15:59:48.071000+01:00",
     "start_time": "2022-05-27T14:59:21.623Z"
    }
   },
   "outputs": [
    {
     "data": {
      "text/plain": [
       "1.0"
      ]
     },
     "execution_count": 13,
     "metadata": {},
     "output_type": "execute_result"
    }
   ],
   "source": [
    "tr(ρSpG(10))"
   ]
  },
  {
   "cell_type": "markdown",
   "id": "d78f831d",
   "metadata": {},
   "source": [
    "## 1D Mean-Force Gibbs State\n"
   ]
  },
  {
   "cell_type": "code",
   "execution_count": 14,
   "id": "0c9fc24e",
   "metadata": {
    "ExecuteTime": {
     "end_time": "2022-05-27T15:59:48.996000+01:00",
     "start_time": "2022-05-27T14:59:21.625Z"
    }
   },
   "outputs": [],
   "source": [
    "Htot1D = HRC1D(nx, λx, Ωx); # System Hamiltonian in original basis"
   ]
  },
  {
   "cell_type": "code",
   "execution_count": 15,
   "id": "b26328e0",
   "metadata": {
    "ExecuteTime": {
     "end_time": "2022-05-27T15:59:49.004000+01:00",
     "start_time": "2022-05-27T14:59:21.627Z"
    }
   },
   "outputs": [],
   "source": [
    "P1D = eigen(Htot1D).vectors; # Find the projectors onto the system eigenbasis"
   ]
  },
  {
   "cell_type": "code",
   "execution_count": 16,
   "id": "9650b881",
   "metadata": {
    "ExecuteTime": {
     "end_time": "2022-05-27T15:59:49.026000+01:00",
     "start_time": "2022-05-27T14:59:21.628Z"
    }
   },
   "outputs": [],
   "source": [
    "Htot1DT = adjoint(P1D)*Htot1D*P1D; # System Hamiltonian in its eigenbasis"
   ]
  },
  {
   "cell_type": "code",
   "execution_count": 17,
   "id": "ef67b3a8",
   "metadata": {
    "ExecuteTime": {
     "end_time": "2022-05-27T15:59:49.027000+01:00",
     "start_time": "2022-05-27T14:59:21.630Z"
    }
   },
   "outputs": [],
   "source": [
    "ρtot1D(T) = P1D*gibbs(Htot1DT, T)*adjoint(P1D); # Total Gibbs state in original basis"
   ]
  },
  {
   "cell_type": "code",
   "execution_count": 18,
   "id": "ce33a3a6",
   "metadata": {
    "ExecuteTime": {
     "end_time": "2022-05-27T15:59:49.028000+01:00",
     "start_time": "2022-05-27T14:59:21.630Z"
    }
   },
   "outputs": [],
   "source": [
    "ρMFGS1D(T) = ptrace(ρtot1D(T), nx); # Trace out the bath"
   ]
  },
  {
   "cell_type": "code",
   "execution_count": 19,
   "id": "09462114",
   "metadata": {
    "ExecuteTime": {
     "end_time": "2022-05-27T15:59:51.623000+01:00",
     "start_time": "2022-05-27T14:59:21.631Z"
    }
   },
   "outputs": [
    {
     "data": {
      "text/plain": [
       "2×2 Matrix{Float64}:\n",
       "  0.217516     -6.30351e-17\n",
       " -6.30351e-17   0.782484"
      ]
     },
     "execution_count": 19,
     "metadata": {},
     "output_type": "execute_result"
    }
   ],
   "source": [
    "ρMFGS1D(10) # Resulting MFGS"
   ]
  },
  {
   "cell_type": "code",
   "execution_count": 20,
   "id": "ad139acf",
   "metadata": {
    "ExecuteTime": {
     "end_time": "2022-05-27T15:59:51.624000+01:00",
     "start_time": "2022-05-27T14:59:21.632Z"
    }
   },
   "outputs": [
    {
     "data": {
      "text/plain": [
       "2×2 Matrix{Float64}:\n",
       " 0.207653  0.0\n",
       " 0.0       0.792347"
      ]
     },
     "execution_count": 20,
     "metadata": {},
     "output_type": "execute_result"
    }
   ],
   "source": [
    "ρSpG(10) # Compare to the Gibbs state (should be the same when λ = 0)"
   ]
  },
  {
   "cell_type": "code",
   "execution_count": 21,
   "id": "b686421a",
   "metadata": {
    "ExecuteTime": {
     "end_time": "2022-05-27T15:59:51.626000+01:00",
     "start_time": "2022-05-27T14:59:21.633Z"
    }
   },
   "outputs": [
    {
     "data": {
      "text/plain": [
       "0.9999999999999999"
      ]
     },
     "execution_count": 21,
     "metadata": {},
     "output_type": "execute_result"
    }
   ],
   "source": [
    "tr(ρMFGS1D(1))"
   ]
  },
  {
   "cell_type": "markdown",
   "id": "05acd222",
   "metadata": {
    "ExecuteTime": {
     "end_time": "2022-05-26T16:09:11.766000+01:00",
     "start_time": "2022-05-26T15:09:11.313Z"
    }
   },
   "source": [
    "### Ground-State Test"
   ]
  },
  {
   "cell_type": "code",
   "execution_count": 22,
   "id": "a204005c",
   "metadata": {
    "ExecuteTime": {
     "end_time": "2022-05-27T15:59:51.644000+01:00",
     "start_time": "2022-05-27T14:59:21.634Z"
    }
   },
   "outputs": [],
   "source": [
    "GS = eigvecs(Htot1D)[:,1];"
   ]
  },
  {
   "cell_type": "code",
   "execution_count": 23,
   "id": "0a06ed3b",
   "metadata": {
    "ExecuteTime": {
     "end_time": "2022-05-27T15:59:52.095000+01:00",
     "start_time": "2022-05-27T14:59:21.635Z"
    }
   },
   "outputs": [
    {
     "data": {
      "text/plain": [
       "0.39888830755405463"
      ]
     },
     "execution_count": 23,
     "metadata": {},
     "output_type": "execute_result"
    }
   ],
   "source": [
    "exGS1D = -adjoint(GS)*(sz0 ⊗ Matrix(I, nx, nx))*GS"
   ]
  },
  {
   "cell_type": "markdown",
   "id": "25a20646",
   "metadata": {},
   "source": [
    "## 2D Mean-Force Gibbs State"
   ]
  },
  {
   "cell_type": "code",
   "execution_count": 24,
   "id": "91acc16d",
   "metadata": {
    "ExecuteTime": {
     "end_time": "2022-05-27T15:59:52.887000+01:00",
     "start_time": "2022-05-27T14:59:21.636Z"
    }
   },
   "outputs": [],
   "source": [
    "Htot2D = HRC2D(nx, nz, λx, λz, Ωx, Ωz); # System Hamiltonian in original basis"
   ]
  },
  {
   "cell_type": "code",
   "execution_count": 25,
   "id": "c77e56f9",
   "metadata": {
    "ExecuteTime": {
     "end_time": "2022-05-27T15:59:52.891000+01:00",
     "start_time": "2022-05-27T14:59:21.637Z"
    }
   },
   "outputs": [],
   "source": [
    "P2D = eigen(Htot2D).vectors; # Find the projectors onto the system eigenbasis"
   ]
  },
  {
   "cell_type": "code",
   "execution_count": 26,
   "id": "c45f3d05",
   "metadata": {
    "ExecuteTime": {
     "end_time": "2022-05-27T15:59:52.892000+01:00",
     "start_time": "2022-05-27T14:59:21.638Z"
    }
   },
   "outputs": [],
   "source": [
    "Htot2DT = adjoint(P2D)*Htot2D*P2D; # System Hamiltonian in its eigenbasis"
   ]
  },
  {
   "cell_type": "code",
   "execution_count": 27,
   "id": "0a9752ba",
   "metadata": {
    "ExecuteTime": {
     "end_time": "2022-05-27T15:59:52.893000+01:00",
     "start_time": "2022-05-27T14:59:21.638Z"
    }
   },
   "outputs": [],
   "source": [
    "ρtot2D(T) = P2D*gibbs(Htot2DT, T)*adjoint(P2D); # Total Gibbs state in original basis"
   ]
  },
  {
   "cell_type": "code",
   "execution_count": 28,
   "id": "e685cd89",
   "metadata": {
    "ExecuteTime": {
     "end_time": "2022-05-27T15:59:52.893000+01:00",
     "start_time": "2022-05-27T14:59:21.639Z"
    }
   },
   "outputs": [],
   "source": [
    "ρMFGS2D(T) = ptrace(ρtot2D(T), nx*nz); # Trace out the bath"
   ]
  },
  {
   "cell_type": "code",
   "execution_count": 29,
   "id": "738c9c04",
   "metadata": {
    "ExecuteTime": {
     "end_time": "2022-05-27T15:59:52.917000+01:00",
     "start_time": "2022-05-27T14:59:21.640Z"
    }
   },
   "outputs": [
    {
     "data": {
      "text/plain": [
       "2×2 Matrix{Float64}:\n",
       " 0.217057     5.56496e-15\n",
       " 5.56496e-15  0.782943"
      ]
     },
     "execution_count": 29,
     "metadata": {},
     "output_type": "execute_result"
    }
   ],
   "source": [
    "ρMFGS2D(10) # Resulting MFGS"
   ]
  },
  {
   "cell_type": "code",
   "execution_count": 30,
   "id": "d8babf62",
   "metadata": {
    "ExecuteTime": {
     "end_time": "2022-05-27T15:59:52.919000+01:00",
     "start_time": "2022-05-27T14:59:21.641Z"
    }
   },
   "outputs": [
    {
     "data": {
      "text/plain": [
       "2×2 Matrix{Float64}:\n",
       " 0.207653  0.0\n",
       " 0.0       0.792347"
      ]
     },
     "execution_count": 30,
     "metadata": {},
     "output_type": "execute_result"
    }
   ],
   "source": [
    "ρSpG(10) # Compare to the Gibbs state (should be the same when λ = 0)"
   ]
  },
  {
   "cell_type": "code",
   "execution_count": 31,
   "id": "8bbc583e",
   "metadata": {
    "ExecuteTime": {
     "end_time": "2022-05-27T15:59:52.956000+01:00",
     "start_time": "2022-05-27T14:59:21.642Z"
    }
   },
   "outputs": [
    {
     "data": {
      "text/plain": [
       "0.9999999999999999"
      ]
     },
     "execution_count": 31,
     "metadata": {},
     "output_type": "execute_result"
    }
   ],
   "source": [
    "tr(ρMFGS2D(1))"
   ]
  },
  {
   "cell_type": "markdown",
   "id": "e6aed40e",
   "metadata": {
    "ExecuteTime": {
     "end_time": "2022-05-26T16:09:11.766000+01:00",
     "start_time": "2022-05-26T15:09:11.313Z"
    }
   },
   "source": [
    "### Ground-State Test"
   ]
  },
  {
   "cell_type": "code",
   "execution_count": 32,
   "id": "0cd6ec6f",
   "metadata": {
    "ExecuteTime": {
     "end_time": "2022-05-27T15:59:52.959000+01:00",
     "start_time": "2022-05-27T14:59:21.643Z"
    }
   },
   "outputs": [],
   "source": [
    "GS = eigvecs(Htot2D)[:,1];"
   ]
  },
  {
   "cell_type": "code",
   "execution_count": 33,
   "id": "c6249d06",
   "metadata": {
    "ExecuteTime": {
     "end_time": "2022-05-27T15:59:52.960000+01:00",
     "start_time": "2022-05-27T14:59:21.644Z"
    }
   },
   "outputs": [],
   "source": [
    "exGS2D = -adjoint(GS)*(sz0 ⊗ Matrix(I, nx*nz, nx*nz))*GS;"
   ]
  },
  {
   "cell_type": "markdown",
   "id": "1e2ad694",
   "metadata": {},
   "source": [
    "## 3D Mean-Force Gibbs State"
   ]
  },
  {
   "cell_type": "code",
   "execution_count": 34,
   "id": "df617aa7",
   "metadata": {
    "ExecuteTime": {
     "end_time": "2022-05-27T15:59:54.560000+01:00",
     "start_time": "2022-05-27T14:59:21.645Z"
    }
   },
   "outputs": [],
   "source": [
    "Htot3D = HRC3D(nx, ny, nz, λx, λy, λz, Ωx, Ωy, Ωz); # System Hamiltonian in original basis"
   ]
  },
  {
   "cell_type": "code",
   "execution_count": 35,
   "id": "b0a86a78",
   "metadata": {
    "ExecuteTime": {
     "end_time": "2022-05-27T15:59:55.142000+01:00",
     "start_time": "2022-05-27T14:59:21.646Z"
    }
   },
   "outputs": [],
   "source": [
    "P3D = eigen(Htot3D).vectors; # Find the projectors onto the system eigenbasis"
   ]
  },
  {
   "cell_type": "code",
   "execution_count": 36,
   "id": "c6c386fa",
   "metadata": {
    "ExecuteTime": {
     "end_time": "2022-05-27T15:59:55.820000+01:00",
     "start_time": "2022-05-27T14:59:21.647Z"
    }
   },
   "outputs": [],
   "source": [
    "Htot3DT = adjoint(P3D)*Htot3D*P3D; # System Hamiltonian in its eigenbasis"
   ]
  },
  {
   "cell_type": "code",
   "execution_count": 37,
   "id": "62a56258",
   "metadata": {
    "ExecuteTime": {
     "end_time": "2022-05-27T15:59:55.820000+01:00",
     "start_time": "2022-05-27T14:59:21.648Z"
    }
   },
   "outputs": [],
   "source": [
    "ρtot3D(T) = P3D*gibbs(Htot3DT, T)*adjoint(P3D); # Total Gibbs state in original basis"
   ]
  },
  {
   "cell_type": "code",
   "execution_count": 38,
   "id": "6f7a1abf",
   "metadata": {
    "ExecuteTime": {
     "end_time": "2022-05-27T15:59:55.828000+01:00",
     "start_time": "2022-05-27T14:59:21.649Z"
    }
   },
   "outputs": [],
   "source": [
    "ρMFGS3D(T) = ptrace(ρtot3D(T), nx*ny*nz); # Trace out the bath"
   ]
  },
  {
   "cell_type": "code",
   "execution_count": 39,
   "id": "34bb6d3f",
   "metadata": {
    "ExecuteTime": {
     "end_time": "2022-05-27T16:00:00.300000+01:00",
     "start_time": "2022-05-27T14:59:21.649Z"
    }
   },
   "outputs": [
    {
     "data": {
      "text/plain": [
       "2×2 Matrix{ComplexF64}:\n",
       "    0.225749+7.43377e-19im  7.72885e-15+6.42915e-15im\n",
       " 7.72885e-15-6.42915e-15im     0.774251-1.03245e-18im"
      ]
     },
     "execution_count": 39,
     "metadata": {},
     "output_type": "execute_result"
    }
   ],
   "source": [
    "ρMFGS3D(10) # Resulting MFGS"
   ]
  },
  {
   "cell_type": "code",
   "execution_count": 40,
   "id": "1b4dfd84",
   "metadata": {
    "ExecuteTime": {
     "end_time": "2022-05-27T16:00:00.308000+01:00",
     "start_time": "2022-05-27T14:59:21.650Z"
    }
   },
   "outputs": [
    {
     "data": {
      "text/plain": [
       "2×2 Matrix{Float64}:\n",
       " 0.207653  0.0\n",
       " 0.0       0.792347"
      ]
     },
     "execution_count": 40,
     "metadata": {},
     "output_type": "execute_result"
    }
   ],
   "source": [
    "ρSpG(10) # Compare to the Gibbs state (should be the same when λ = 0)"
   ]
  },
  {
   "cell_type": "code",
   "execution_count": 41,
   "id": "6e1be9b1",
   "metadata": {
    "ExecuteTime": {
     "end_time": "2022-05-27T16:00:01.545000+01:00",
     "start_time": "2022-05-27T14:59:21.651Z"
    }
   },
   "outputs": [
    {
     "data": {
      "text/plain": [
       "0.9999999999999996 + 2.1164020681477838e-18im"
      ]
     },
     "execution_count": 41,
     "metadata": {},
     "output_type": "execute_result"
    }
   ],
   "source": [
    "tr(ρMFGS3D(1))"
   ]
  },
  {
   "cell_type": "markdown",
   "id": "c7dece93",
   "metadata": {
    "ExecuteTime": {
     "end_time": "2022-05-26T16:09:11.766000+01:00",
     "start_time": "2022-05-26T15:09:11.313Z"
    }
   },
   "source": [
    "### Ground-State Test"
   ]
  },
  {
   "cell_type": "code",
   "execution_count": 42,
   "id": "69089d29",
   "metadata": {
    "ExecuteTime": {
     "end_time": "2022-05-27T16:00:01.621000+01:00",
     "start_time": "2022-05-27T14:59:21.652Z"
    }
   },
   "outputs": [],
   "source": [
    "GS = eigvecs(Htot3D)[:,1];"
   ]
  },
  {
   "cell_type": "code",
   "execution_count": 43,
   "id": "e0094f0d",
   "metadata": {
    "ExecuteTime": {
     "end_time": "2022-05-27T16:00:02.814000+01:00",
     "start_time": "2022-05-27T14:59:21.654Z"
    }
   },
   "outputs": [
    {
     "data": {
      "text/plain": [
       "0.42943898114872403 + 0.0im"
      ]
     },
     "execution_count": 43,
     "metadata": {},
     "output_type": "execute_result"
    }
   ],
   "source": [
    "exGS3D = -adjoint(GS)*(sz0⊗ Matrix(I, nx*ny*nz, nx*ny*nz))*GS"
   ]
  },
  {
   "cell_type": "markdown",
   "id": "fa18c9e0",
   "metadata": {},
   "source": [
    "# Plots"
   ]
  },
  {
   "cell_type": "code",
   "execution_count": 44,
   "id": "75cf783f",
   "metadata": {
    "ExecuteTime": {
     "end_time": "2022-05-27T16:00:02.814000+01:00",
     "start_time": "2022-05-27T14:59:21.655Z"
    }
   },
   "outputs": [],
   "source": [
    "s0 = sz0;"
   ]
  },
  {
   "cell_type": "code",
   "execution_count": 45,
   "id": "b8ab81d8",
   "metadata": {
    "ExecuteTime": {
     "end_time": "2022-05-27T16:00:02.820000+01:00",
     "start_time": "2022-05-27T14:59:21.655Z"
    }
   },
   "outputs": [],
   "source": [
    "expG(T) = tr(ρSpG(T)*s0); # Gibbs Sz expectation value\n",
    "exp1DMFGS(T) = tr(ρMFGS1D(T)*s0); # 1D MFGS Sz expectation value\n",
    "exp2DMFGS(T) = tr(ρMFGS2D(T)*s0); # 2D MFGS Sz expectation value\n",
    "exp3DMFGS(T) = tr(ρMFGS3D(T)*s0); # 3D MFGS Sz expectation value"
   ]
  },
  {
   "cell_type": "code",
   "execution_count": 46,
   "id": "0f5f6d38",
   "metadata": {
    "ExecuteTime": {
     "end_time": "2022-05-27T16:00:57.975000+01:00",
     "start_time": "2022-05-27T14:59:21.657Z"
    }
   },
   "outputs": [],
   "source": [
    "sG = [real_if_close(expG(i)) for i in T_list];\n",
    "s1DMFGS = [real_if_close(exp1DMFGS(i)) for i in T_list];\n",
    "s2DMFGS = [real_if_close(exp2DMFGS(i)) for i in T_list];\n",
    "s3DMFGS = [real_if_close(exp3DMFGS(i)) for i in T_list];\n",
    "GS1D = [real_if_close(exGS1D) for i in T_list];\n",
    "GS2D = [real_if_close(exGS2D) for i in T_list];\n",
    "GS3D = [real_if_close(exGS3D) for i in T_list];\n",
    "df_qu = DataFrame(hcat(T, sG, s1DMFGS, s2DMFGS, s3DMFGS, GS1D, GS2D, GS3D), :auto);"
   ]
  },
  {
   "cell_type": "code",
   "execution_count": 47,
   "id": "97fef56d",
   "metadata": {
    "ExecuteTime": {
     "end_time": "2022-05-27T16:00:59.008000+01:00",
     "start_time": "2022-05-27T14:59:21.658Z"
    }
   },
   "outputs": [],
   "source": [
    "CSV.write(\"C://Users//crh222//QuantumSpinDynamics//MFGS_data_qu.csv\",  df_qu, header = [\"T\", \"sG\", \"s1DMFGS\", \"s2DMFGS\", \"s3DMFGS\", \"GS1D\", \"GS2D\", \"GS3D\"]);"
   ]
  }
 ],
 "metadata": {
  "kernelspec": {
   "display_name": "Julia 1.7.2",
   "language": "julia",
   "name": "julia-1.7"
  },
  "language_info": {
   "file_extension": ".jl",
   "mimetype": "application/julia",
   "name": "julia",
   "version": "1.7.2"
  },
  "toc": {
   "base_numbering": 1,
   "nav_menu": {},
   "number_sections": true,
   "sideBar": true,
   "skip_h1_title": false,
   "title_cell": "Table of Contents",
   "title_sidebar": "Contents",
   "toc_cell": false,
   "toc_position": {},
   "toc_section_display": true,
   "toc_window_display": false
  }
 },
 "nbformat": 4,
 "nbformat_minor": 5
}
