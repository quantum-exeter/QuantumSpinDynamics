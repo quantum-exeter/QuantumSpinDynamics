{
 "cells": [
  {
   "cell_type": "markdown",
   "id": "7443fafc",
   "metadata": {},
   "source": [
    "# Classical Dimension-Dependence of MFGS"
   ]
  },
  {
   "cell_type": "markdown",
   "id": "37b98acf",
   "metadata": {
    "ExecuteTime": {
     "end_time": "2022-04-20T15:12:34.705000+01:00",
     "start_time": "2022-04-20T14:12:33.997Z"
    }
   },
   "source": [
    "<span style=\"font-size:1.2em;\">! Run this in **Julia** !</span> "
   ]
  },
  {
   "cell_type": "markdown",
   "id": "e8400041",
   "metadata": {},
   "source": [
    "1. You'll need to install the Julia add on for Jupyter Notebooks (IJulia). Follow guide here: https://datatofish.com/add-julia-to-jupyter/\n",
    "2. Go to *Kernel* -> *Change Kernel* -> *Julia*"
   ]
  },
  {
   "cell_type": "markdown",
   "id": "6a2849f6",
   "metadata": {},
   "source": [
    "## Packages"
   ]
  },
  {
   "cell_type": "code",
   "execution_count": 1,
   "id": "f1629c11",
   "metadata": {
    "ExecuteTime": {
     "end_time": "2022-05-25T01:10:37.962000+01:00",
     "start_time": "2022-05-25T00:10:15.341Z"
    }
   },
   "outputs": [],
   "source": [
    "include(\"RCLib.jl\") # Include the RC library with all the useful functions\n",
    "using .RCLib\n",
    "\n",
    "using LinearAlgebra # For IIL matrix multiplication\n",
    "# using Kronecker\n",
    "using OrdinaryDiffEq\n",
    "using DifferentialEquations\n",
    "using OpenQuantumTools\n",
    "\n",
    "## Plotting Packages ##\n",
    "using CSV # Allows data to be converted to .CSV to use with Python for plotting\n",
    "using DataFrames # Another useful package for exporting data\n",
    "using Plots\n",
    "\n",
    "## Performance Packages ##\n",
    "using BenchmarkTools"
   ]
  },
  {
   "cell_type": "code",
   "execution_count": null,
   "id": "7653f695",
   "metadata": {
    "ExecuteTime": {
     "start_time": "2022-05-25T00:03:50.968Z"
    }
   },
   "outputs": [],
   "source": [
    "T_list = exp10.(range(-3, 4, length=100));"
   ]
  },
  {
   "cell_type": "code",
   "execution_count": null,
   "id": "fe74e3e1",
   "metadata": {
    "ExecuteTime": {
     "start_time": "2022-05-25T00:03:51.350Z"
    }
   },
   "outputs": [],
   "source": [
    "T = [i for i in T_list];\n",
    "sz3DMFGS_cl = [pred(i) for i in T_list];"
   ]
  },
  {
   "cell_type": "code",
   "execution_count": null,
   "id": "666713d4",
   "metadata": {
    "ExecuteTime": {
     "start_time": "2022-05-25T00:03:51.762Z"
    }
   },
   "outputs": [],
   "source": [
    "df_cl = DataFrame(hcat(T, sz3DMFGS_cl), :auto);"
   ]
  },
  {
   "cell_type": "code",
   "execution_count": null,
   "id": "610a3639",
   "metadata": {
    "ExecuteTime": {
     "start_time": "2022-05-25T00:03:52.121Z"
    }
   },
   "outputs": [],
   "source": [
    "CSV.write(\"C://Users//crh222//QuantumSpinDynamics//MFGS_data_cl_pred.csv\",  df_cl, header = [\"T\", \"sz3D_cl\"]);"
   ]
  },
  {
   "cell_type": "markdown",
   "id": "4a8149a7",
   "metadata": {},
   "source": [
    "# Quantum Dimension-Dependence of MFGS"
   ]
  },
  {
   "cell_type": "markdown",
   "id": "2763f260",
   "metadata": {},
   "source": [
    "## Variables"
   ]
  },
  {
   "cell_type": "markdown",
   "id": "158a098b",
   "metadata": {},
   "source": [
    "### Lorentzian Spectral Density"
   ]
  },
  {
   "cell_type": "code",
   "execution_count": 2,
   "id": "9efb3ec9",
   "metadata": {
    "ExecuteTime": {
     "end_time": "2022-05-25T01:10:48.123000+01:00",
     "start_time": "2022-05-25T00:10:43.034Z"
    }
   },
   "outputs": [],
   "source": [
    "prm1 = [7.0 5.0 10.0];\n",
    "prm2 = [1.4 0.5 0.16];\n",
    "prm3 = [1.4 0.001 10];\n",
    "prm4 = [1.4 0.001 0.0];"
   ]
  },
  {
   "cell_type": "code",
   "execution_count": 3,
   "id": "a3161496",
   "metadata": {
    "ExecuteTime": {
     "end_time": "2022-05-25T01:10:48.186000+01:00",
     "start_time": "2022-05-25T00:10:43.313Z"
    }
   },
   "outputs": [],
   "source": [
    "ω0x, Γx, αx = prm4*ωL;\n",
    "ω0y, Γy, αy = prm4*ωL;\n",
    "ω0z, Γz, αz = prm4*ωL;"
   ]
  },
  {
   "cell_type": "markdown",
   "id": "0aa7d898",
   "metadata": {},
   "source": [
    "### RC-Specific"
   ]
  },
  {
   "cell_type": "code",
   "execution_count": 4,
   "id": "2bf455f0",
   "metadata": {
    "ExecuteTime": {
     "end_time": "2022-05-25T01:10:48.193000+01:00",
     "start_time": "2022-05-25T00:10:43.919Z"
    }
   },
   "outputs": [],
   "source": [
    "Ωx = ω0x;\n",
    "λx = ωL*sqrt(αx/Ωx);\n",
    "δx = Γx/(2π*Ωx);\n",
    "nx = 2;"
   ]
  },
  {
   "cell_type": "code",
   "execution_count": 5,
   "id": "7dfa306a",
   "metadata": {
    "ExecuteTime": {
     "end_time": "2022-05-25T01:10:48.195000+01:00",
     "start_time": "2022-05-25T00:10:44.223Z"
    }
   },
   "outputs": [],
   "source": [
    "Ωy = ω0y;\n",
    "λy = ωL*sqrt(αy/Ωy);\n",
    "δy = Γy/(2π*Ωy);\n",
    "ny = 2;"
   ]
  },
  {
   "cell_type": "code",
   "execution_count": 6,
   "id": "6d4512a2",
   "metadata": {
    "ExecuteTime": {
     "end_time": "2022-05-25T01:10:48.196000+01:00",
     "start_time": "2022-05-25T00:10:44.763Z"
    }
   },
   "outputs": [],
   "source": [
    "Ωz = ω0z;\n",
    "λz = ωL*sqrt(αz/Ωz);\n",
    "δz = Γz/(2π*Ωz);\n",
    "nz = 2;"
   ]
  },
  {
   "cell_type": "markdown",
   "id": "56a2a438",
   "metadata": {},
   "source": [
    "## Gibbs State"
   ]
  },
  {
   "cell_type": "code",
   "execution_count": 7,
   "id": "be242e93",
   "metadata": {
    "ExecuteTime": {
     "end_time": "2022-05-25T01:10:48.197000+01:00",
     "start_time": "2022-05-25T00:10:46.050Z"
    }
   },
   "outputs": [],
   "source": [
    "ρSpG(T) = gibbs(HSpG(nx), T);"
   ]
  },
  {
   "cell_type": "code",
   "execution_count": 8,
   "id": "806673a3",
   "metadata": {
    "ExecuteTime": {
     "end_time": "2022-05-25T01:10:49.200000+01:00",
     "start_time": "2022-05-25T00:10:46.310Z"
    }
   },
   "outputs": [
    {
     "data": {
      "text/plain": [
       "1.0"
      ]
     },
     "execution_count": 8,
     "metadata": {},
     "output_type": "execute_result"
    }
   ],
   "source": [
    "tr(ρSpG(10))"
   ]
  },
  {
   "cell_type": "markdown",
   "id": "d78f831d",
   "metadata": {},
   "source": [
    "## 1D Mean-Force Gibbs State\n"
   ]
  },
  {
   "cell_type": "code",
   "execution_count": 9,
   "id": "0c9fc24e",
   "metadata": {
    "ExecuteTime": {
     "end_time": "2022-05-25T01:10:51.355000+01:00",
     "start_time": "2022-05-25T00:10:49.918Z"
    }
   },
   "outputs": [],
   "source": [
    "Htot1D = HRC1D(nx, λx, Ωx);"
   ]
  },
  {
   "cell_type": "code",
   "execution_count": 10,
   "id": "ef67b3a8",
   "metadata": {
    "ExecuteTime": {
     "end_time": "2022-05-25T01:10:51.356000+01:00",
     "start_time": "2022-05-25T00:10:50.134Z"
    }
   },
   "outputs": [],
   "source": [
    "ρtot1D(T) = gibbs(Htot1D, T);"
   ]
  },
  {
   "cell_type": "code",
   "execution_count": 11,
   "id": "ce33a3a6",
   "metadata": {
    "ExecuteTime": {
     "end_time": "2022-05-25T01:10:51.357000+01:00",
     "start_time": "2022-05-25T00:10:50.333Z"
    }
   },
   "outputs": [],
   "source": [
    "ρSpMFGS1D(T) = ptrace(ρtot1D(T), nx);"
   ]
  },
  {
   "cell_type": "code",
   "execution_count": 12,
   "id": "4961f054",
   "metadata": {
    "ExecuteTime": {
     "end_time": "2022-05-25T01:10:52.034000+01:00",
     "start_time": "2022-05-25T00:10:50.970Z"
    }
   },
   "outputs": [
    {
     "ename": "LoadError",
     "evalue": "UndefVarError: ptrace not defined",
     "output_type": "error",
     "traceback": [
      "UndefVarError: ptrace not defined",
      "",
      "Stacktrace:",
      " [1] ρSpMFGS1D(T::Int64)",
      "   @ Main .\\In[11]:1",
      " [2] top-level scope",
      "   @ In[12]:1",
      " [3] eval",
      "   @ .\\boot.jl:373 [inlined]",
      " [4] include_string(mapexpr::typeof(REPL.softscope), mod::Module, code::String, filename::String)",
      "   @ Base .\\loading.jl:1196"
     ]
    }
   ],
   "source": [
    "ρSpMFGS1D(10)"
   ]
  },
  {
   "cell_type": "code",
   "execution_count": 15,
   "id": "b686421a",
   "metadata": {
    "ExecuteTime": {
     "end_time": "2022-05-25T01:10:56.463000+01:00",
     "start_time": "2022-05-25T00:10:56.458Z"
    }
   },
   "outputs": [
    {
     "ename": "LoadError",
     "evalue": "UndefVarError: ptrace not defined",
     "output_type": "error",
     "traceback": [
      "UndefVarError: ptrace not defined",
      "",
      "Stacktrace:",
      " [1] ρSpMFGS1D(T::Int64)",
      "   @ Main .\\In[11]:1",
      " [2] top-level scope",
      "   @ In[15]:1",
      " [3] eval",
      "   @ .\\boot.jl:373 [inlined]",
      " [4] include_string(mapexpr::typeof(REPL.softscope), mod::Module, code::String, filename::String)",
      "   @ Base .\\loading.jl:1196"
     ]
    }
   ],
   "source": [
    "tr(ρSpMFGS1D(1))"
   ]
  },
  {
   "cell_type": "code",
   "execution_count": 16,
   "id": "569d6be4",
   "metadata": {
    "ExecuteTime": {
     "end_time": "2022-05-25T01:10:56.765000+01:00",
     "start_time": "2022-05-25T00:10:56.763Z"
    }
   },
   "outputs": [],
   "source": [
    "GS = eigvecs(Htot1D)[:,1];"
   ]
  },
  {
   "cell_type": "markdown",
   "id": "25a20646",
   "metadata": {},
   "source": [
    "## 2D Mean-Force Gibbs State"
   ]
  },
  {
   "cell_type": "code",
   "execution_count": 17,
   "id": "8690746d",
   "metadata": {
    "ExecuteTime": {
     "end_time": "2022-05-25T01:10:58.820000+01:00",
     "start_time": "2022-05-25T00:10:58.007Z"
    }
   },
   "outputs": [],
   "source": [
    "Htot2D = HRC2D(nx, nz, λx, λz, Ωx, Ωz);"
   ]
  },
  {
   "cell_type": "code",
   "execution_count": 18,
   "id": "738e95f3",
   "metadata": {
    "ExecuteTime": {
     "end_time": "2022-05-25T01:10:58.822000+01:00",
     "start_time": "2022-05-25T00:10:58.453Z"
    }
   },
   "outputs": [],
   "source": [
    "ρtot2D(T) = gibbs(Htot2D, T);"
   ]
  },
  {
   "cell_type": "code",
   "execution_count": 19,
   "id": "72462178",
   "metadata": {
    "ExecuteTime": {
     "end_time": "2022-05-25T01:10:58.861000+01:00",
     "start_time": "2022-05-25T00:10:58.858Z"
    }
   },
   "outputs": [],
   "source": [
    "ρSpMFGS2D(T) = ptrace(ptrace(ρtot2D(T), nz), nx);"
   ]
  },
  {
   "cell_type": "code",
   "execution_count": 20,
   "id": "dd728363",
   "metadata": {
    "ExecuteTime": {
     "end_time": "2022-05-25T01:10:59.428000+01:00",
     "start_time": "2022-05-25T00:10:59.412Z"
    }
   },
   "outputs": [
    {
     "ename": "LoadError",
     "evalue": "UndefVarError: ptrace not defined",
     "output_type": "error",
     "traceback": [
      "UndefVarError: ptrace not defined",
      "",
      "Stacktrace:",
      " [1] ρSpMFGS2D(T::Int64)",
      "   @ Main .\\In[19]:1",
      " [2] top-level scope",
      "   @ In[20]:1",
      " [3] eval",
      "   @ .\\boot.jl:373 [inlined]",
      " [4] include_string(mapexpr::typeof(REPL.softscope), mod::Module, code::String, filename::String)",
      "   @ Base .\\loading.jl:1196"
     ]
    }
   ],
   "source": [
    "tr(ρSpMFGS2D(1))"
   ]
  },
  {
   "cell_type": "markdown",
   "id": "1e2ad694",
   "metadata": {},
   "source": [
    "## 3D Mean-Force Gibbs State"
   ]
  },
  {
   "cell_type": "code",
   "execution_count": 44,
   "id": "e4f1c0a8",
   "metadata": {
    "ExecuteTime": {
     "end_time": "2022-05-25T01:16:23.236000+01:00",
     "start_time": "2022-05-25T00:16:23.234Z"
    }
   },
   "outputs": [],
   "source": [
    "Htot3D = HRC3D(nx, ny, nz, λx, λy, λz, Ωx, Ωy, Ωz);"
   ]
  },
  {
   "cell_type": "code",
   "execution_count": 45,
   "id": "b79db20a",
   "metadata": {
    "ExecuteTime": {
     "end_time": "2022-05-25T01:16:24.872000+01:00",
     "start_time": "2022-05-25T00:16:24.870Z"
    }
   },
   "outputs": [],
   "source": [
    "ρtot3D(T) = diagm(gibbs(Htot3D, T));"
   ]
  },
  {
   "cell_type": "code",
   "execution_count": 47,
   "id": "55648fa3",
   "metadata": {
    "ExecuteTime": {
     "end_time": "2022-05-25T01:16:30.611000+01:00",
     "start_time": "2022-05-25T00:16:30.608Z"
    }
   },
   "outputs": [
    {
     "data": {
      "text/plain": [
       "2×2 Matrix{ComplexF64}:\n",
       " 20.8+0.0im   0.0+0.0im\n",
       "  0.0+0.0im  12.8+0.0im"
      ]
     },
     "execution_count": 47,
     "metadata": {},
     "output_type": "execute_result"
    }
   ],
   "source": [
    "partial_trace(Htot3D, [1])"
   ]
  },
  {
   "cell_type": "code",
   "execution_count": 77,
   "id": "f79a215a",
   "metadata": {
    "ExecuteTime": {
     "end_time": "2022-05-25T00:38:22.505000+01:00",
     "start_time": "2022-05-24T23:38:22.503Z"
    }
   },
   "outputs": [],
   "source": [
    "ρSpMFGS3D(T) = ptrace(ptrace(ptrace(ρtot3D(T), nz), ny), nx);"
   ]
  },
  {
   "cell_type": "code",
   "execution_count": 39,
   "id": "a51ed4d4",
   "metadata": {
    "ExecuteTime": {
     "end_time": "2022-05-25T01:13:33.140000+01:00",
     "start_time": "2022-05-25T00:13:33.137Z"
    }
   },
   "outputs": [
    {
     "data": {
      "text/plain": [
       "2×2 Matrix{ComplexF64}:\n",
       " 20.8+0.0im   0.0+0.0im\n",
       "  0.0+0.0im  12.8+0.0im"
      ]
     },
     "execution_count": 39,
     "metadata": {},
     "output_type": "execute_result"
    }
   ],
   "source": [
    "partial_trace(Htot3D, [1])"
   ]
  },
  {
   "cell_type": "code",
   "execution_count": 78,
   "id": "9295210a",
   "metadata": {
    "ExecuteTime": {
     "end_time": "2022-05-25T00:38:22.736000+01:00",
     "start_time": "2022-05-24T23:38:22.732Z"
    }
   },
   "outputs": [
    {
     "data": {
      "text/plain": [
       "2×2 Diagonal{Float64, Vector{Float64}}:\n",
       " 0.506695   ⋅ \n",
       "  ⋅        0.493305"
      ]
     },
     "execution_count": 78,
     "metadata": {},
     "output_type": "execute_result"
    }
   ],
   "source": [
    "ρSpG(500)"
   ]
  },
  {
   "cell_type": "code",
   "execution_count": 79,
   "id": "fc1b82ba",
   "metadata": {
    "ExecuteTime": {
     "end_time": "2022-05-25T00:38:22.982000+01:00",
     "start_time": "2022-05-24T23:38:22.973Z"
    }
   },
   "outputs": [
    {
     "data": {
      "text/plain": [
       "2×2 Matrix{Float64}:\n",
       " 0.514058  0.0\n",
       " 0.0       0.485942"
      ]
     },
     "execution_count": 79,
     "metadata": {},
     "output_type": "execute_result"
    }
   ],
   "source": [
    "ρSpMFGS3D(500)"
   ]
  },
  {
   "cell_type": "markdown",
   "id": "fa18c9e0",
   "metadata": {},
   "source": [
    "# Plots"
   ]
  },
  {
   "cell_type": "code",
   "execution_count": 80,
   "id": "b8ab81d8",
   "metadata": {
    "ExecuteTime": {
     "end_time": "2022-05-25T00:38:23.425000+01:00",
     "start_time": "2022-05-24T23:38:23.419Z"
    }
   },
   "outputs": [],
   "source": [
    "expzG(T) = real(tr(ρSpG(T)*sz0)); # Gibbs Sz expectation value\n",
    "expz1DMFGS(T) = real(tr(ρSpMFGS1D(T)*sz0)); # 1D MFGS Sz expectation value\n",
    "expz2DMFGS(T) = real(tr(ρSpMFGS2D(T)*sz0)); # 2D MFGS Sz expectation value\n",
    "expz3DMFGS(T) = real(tr(ρSpMFGS3D(T)*sz0)); # 2D MFGS Sz expectation value"
   ]
  },
  {
   "cell_type": "code",
   "execution_count": 81,
   "id": "0f5f6d38",
   "metadata": {
    "ExecuteTime": {
     "end_time": "2022-05-25T00:38:24.007000+01:00",
     "start_time": "2022-05-24T23:38:23.827Z"
    }
   },
   "outputs": [
    {
     "name": "stderr",
     "output_type": "stream",
     "text": [
      "WARNING: both RCLib and RCLib export \"sz0\"; uses of it in module Main must be qualified\n"
     ]
    },
    {
     "ename": "LoadError",
     "evalue": "UndefVarError: sz0 not defined",
     "output_type": "error",
     "traceback": [
      "UndefVarError: sz0 not defined",
      "",
      "Stacktrace:",
      " [1] expzG(T::Float64)",
      "   @ Main .\\In[80]:1",
      " [2] #5",
      "   @ .\\none:0 [inlined]",
      " [3] iterate",
      "   @ .\\generator.jl:47 [inlined]",
      " [4] collect(itr::Base.Generator{Vector{Float64}, var\"#5#6\"})",
      "   @ Base .\\array.jl:724",
      " [5] top-level scope",
      "   @ In[81]:1",
      " [6] eval",
      "   @ .\\boot.jl:373 [inlined]",
      " [7] include_string(mapexpr::typeof(REPL.softscope), mod::Module, code::String, filename::String)",
      "   @ Base .\\loading.jl:1196"
     ]
    }
   ],
   "source": [
    "szG_qu = [expzG(i) for i in T_list];\n",
    "sz1DMFGS_qu = [expz1DMFGS(i) for i in T_list];\n",
    "sz2DMFGS_qu = [expz2DMFGS(i) for i in T_list];\n",
    "sz3DMFGS_qu = [expz3DMFGS(i) for i in T_list];\n",
    "df_qu = DataFrame(hcat(T, szG_qu, sz1DMFGS_qu, sz2DMFGS_qu, sz3DMFGS_qu), :auto);"
   ]
  },
  {
   "cell_type": "code",
   "execution_count": 82,
   "id": "97fef56d",
   "metadata": {
    "ExecuteTime": {
     "end_time": "2022-05-25T00:38:24.210000+01:00",
     "start_time": "2022-05-24T23:38:24.204Z"
    }
   },
   "outputs": [
    {
     "ename": "LoadError",
     "evalue": "UndefVarError: df_qu not defined",
     "output_type": "error",
     "traceback": [
      "UndefVarError: df_qu not defined",
      "",
      "Stacktrace:",
      " [1] top-level scope",
      "   @ In[82]:1",
      " [2] eval",
      "   @ .\\boot.jl:373 [inlined]",
      " [3] include_string(mapexpr::typeof(REPL.softscope), mod::Module, code::String, filename::String)",
      "   @ Base .\\loading.jl:1196"
     ]
    }
   ],
   "source": [
    "CSV.write(\"C://Users//crh222//QuantumSpinDynamics//MFGS_data_qu.csv\",  df_qu, header = [\"T\", \"szG\", \"sz1DMFGS\", \"sz2DMFGS\", \"sz3DMFGS\"]);"
   ]
  },
  {
   "cell_type": "code",
   "execution_count": null,
   "id": "f23a61f5",
   "metadata": {},
   "outputs": [],
   "source": []
  },
  {
   "cell_type": "code",
   "execution_count": null,
   "id": "ce530ede",
   "metadata": {},
   "outputs": [],
   "source": []
  }
 ],
 "metadata": {
  "kernelspec": {
   "display_name": "Julia 1.7.2",
   "language": "julia",
   "name": "julia-1.7"
  },
  "language_info": {
   "file_extension": ".jl",
   "mimetype": "application/julia",
   "name": "julia",
   "version": "1.7.2"
  },
  "toc": {
   "base_numbering": 1,
   "nav_menu": {},
   "number_sections": true,
   "sideBar": true,
   "skip_h1_title": false,
   "title_cell": "Table of Contents",
   "title_sidebar": "Contents",
   "toc_cell": false,
   "toc_position": {},
   "toc_section_display": true,
   "toc_window_display": false
  }
 },
 "nbformat": 4,
 "nbformat_minor": 5
}
