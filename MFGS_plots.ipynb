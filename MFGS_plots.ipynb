{
 "cells": [
  {
   "cell_type": "markdown",
   "id": "5d6731a6",
   "metadata": {},
   "source": [
    "# MFGS Plots"
   ]
  },
  {
   "cell_type": "code",
   "execution_count": 1,
   "id": "0bb6e25f",
   "metadata": {
    "ExecuteTime": {
     "end_time": "2022-05-27T15:01:05.433782Z",
     "start_time": "2022-05-27T15:01:04.598003Z"
    }
   },
   "outputs": [],
   "source": [
    "import numpy as np\n",
    "import numpy.random as rn\n",
    "import scipy.stats as st\n",
    "import scipy.fftpack as ft\n",
    "import scipy.integrate as od\n",
    "import scipy.signal as sig\n",
    "import scipy.interpolate as intpl\n",
    "import matplotlib\n",
    "import matplotlib.pyplot as plt\n",
    "from mpl_toolkits.mplot3d import Axes3D\n",
    "from matplotlib import rc\n",
    "import tqdm as tqdm\n",
    "import pickle\n",
    "from scikits.odes.odeint import odeint\n",
    "\n",
    "import sys\n",
    "sys.path.append(\"C://Users//crh222//QuantumSpinDynamics\")\n",
    "import ASHLib as myLib\n",
    "from importlib import reload\n",
    "reload(myLib)\n",
    "\n",
    "# Say, \"the default sans-serif font is COMIC SANS\"\n",
    "matplotlib.rcParams['font.sans-serif'] = \"Arial\"  #\"Times New Roman\"\n",
    "# Then, \"ALWAYS use sans-serif fonts\"\n",
    "matplotlib.rcParams['font.family'] = \"sans-serif\"\n",
    "matplotlib.rcParams['mathtext.fontset'] = \"cm\"\n",
    "#rc('text', usetex=True)"
   ]
  },
  {
   "cell_type": "code",
   "execution_count": 2,
   "id": "6a8a5b42",
   "metadata": {
    "ExecuteTime": {
     "end_time": "2022-05-27T15:01:05.755360Z",
     "start_time": "2022-05-27T15:01:05.433782Z"
    }
   },
   "outputs": [],
   "source": [
    "import pandas as pd"
   ]
  },
  {
   "cell_type": "code",
   "execution_count": 3,
   "id": "28e91a66",
   "metadata": {
    "ExecuteTime": {
     "end_time": "2022-05-27T15:01:05.772185Z",
     "start_time": "2022-05-27T15:01:05.756764Z"
    }
   },
   "outputs": [],
   "source": [
    "data_qu = np.array(pd.read_csv(r'MFGS_data_qu.csv')) "
   ]
  },
  {
   "cell_type": "code",
   "execution_count": 4,
   "id": "47d835aa",
   "metadata": {
    "ExecuteTime": {
     "end_time": "2022-05-27T15:01:06.356387Z",
     "start_time": "2022-05-27T15:01:05.773186Z"
    }
   },
   "outputs": [
    {
     "data": {
      "image/png": "[encoded data removed]",
      "text/plain": [
       "<Figure size 468x324 with 1 Axes>"
      ]
     },
     "metadata": {
      "needs_background": "light"
     },
     "output_type": "display_data"
    }
   ],
   "source": [
    "fig, ax = plt.subplots(figsize=(6.5, 4.5))  #size in inches\n",
    "\n",
    "# labeling\n",
    "# ax.spines[\"top\"].set_visible(False)\n",
    "# ax.spines[\"right\"].set_visible(False)\n",
    "ax.get_xaxis().tick_bottom()\n",
    "ax.get_yaxis().tick_left()\n",
    "\n",
    "ax.set_xlabel(\"$T$\", fontsize=12)\n",
    "ax.set_ylabel(\"$\\langle \\\\hat{S}_z\\\\rangle$\", fontsize=12)\n",
    "\n",
    "ax.set_xlim(0.1, 1000)\n",
    "\n",
    "##### data ######\n",
    "\n",
    "ax.semilogx(data_qu[:,0], -data_qu[:, 1], 'k-', label = \"Quantum Gibbs\") # Gibbs\n",
    "ax.semilogx(data_qu[:,0], -data_qu[:, 2], 'b-', label = \"1D Quantum MFGS\") # 1D MFGS\n",
    "ax.semilogx(data_qu[:,0], -data_qu[:, 3], 'g-', label = \"2D Quantum MFGS\") # 2D MFGS\n",
    "ax.semilogx(data_qu[:,0], -data_qu[:, 4], 'r-', label = \"3D Quantum MFGS\") # 3D MFGS\n",
    "\n",
    "# ax.semilogx(data_qu[:,0], data_qu[:, 5], 'b--') # 1D MFGS Ground State\n",
    "# ax.semilogx(data_qu[:,0], data_qu[:, 6], 'g--') # 2D MFGS Ground State\n",
    "# ax.semilogx(data_qu[:,0], data_qu[:, 7], 'r--') # 3D MFGS Ground State\n",
    "\n",
    "# ax.semilogx(data_cl_pred[:,0], 0.5*data_cl_pred[:, 1], 'k:', label = \"Classical Gibbs = MFGS\") # 1D Dynamical Steady State\n",
    "# ax.semilogx(data_cl[:,0], 0.5*data_cl[:, 1], 'k+', label = \"ASH Code\") # 1D Dynamical Steady State\n",
    "# plt.errorbar(data_cl[:,0], 0.5*data_cl[:, 1], yerr=0.5*data_cl[:, 2], capsize=3.0, ecolor='k', fmt=\"none\")\n",
    "\n",
    "plt.legend(loc=\"upper right\")\n",
    "plt.grid(which='both', lw='0.2')\n",
    "plt.title('3D Steady-State Magnetisations for Isotropic Coupling (Prm. b)')\n",
    "\n",
    "plt.savefig(\"C://Users//crh222//Dropbox//PhD//1. Reaction Coordinate Mapping//Graphs//MFGS_dim_dep_prm.pdf\", dpi=300)"
   ]
  },
  {
   "cell_type": "code",
   "execution_count": 5,
   "id": "0ee48fd2",
   "metadata": {
    "ExecuteTime": {
     "end_time": "2022-05-27T15:01:06.363183Z",
     "start_time": "2022-05-27T15:01:06.356387Z"
    }
   },
   "outputs": [],
   "source": [
    "data_quXY = np.array(pd.read_csv(r'MFGS_data_quXY.csv')) "
   ]
  },
  {
   "cell_type": "code",
   "execution_count": 6,
   "id": "aa0b5618",
   "metadata": {
    "ExecuteTime": {
     "end_time": "2022-05-27T15:01:06.876765Z",
     "start_time": "2022-05-27T15:01:06.364934Z"
    }
   },
   "outputs": [
    {
     "ename": "NameError",
     "evalue": "name 'data_quXZ' is not defined",
     "output_type": "error",
     "traceback": [
      "\u001b[1;31m---------------------------------------------------------------------------\u001b[0m",
      "\u001b[1;31mNameError\u001b[0m                                 Traceback (most recent call last)",
      "\u001b[1;32m~\\AppData\\Local\\Temp/ipykernel_48996/399412224.py\u001b[0m in \u001b[0;36m<module>\u001b[1;34m\u001b[0m\n\u001b[0;32m     15\u001b[0m \u001b[1;33m\u001b[0m\u001b[0m\n\u001b[0;32m     16\u001b[0m \u001b[0max\u001b[0m\u001b[1;33m.\u001b[0m\u001b[0msemilogx\u001b[0m\u001b[1;33m(\u001b[0m\u001b[0mdata_qu\u001b[0m\u001b[1;33m[\u001b[0m\u001b[1;33m:\u001b[0m\u001b[1;33m,\u001b[0m\u001b[1;36m0\u001b[0m\u001b[1;33m]\u001b[0m\u001b[1;33m,\u001b[0m \u001b[0mdata_quXY\u001b[0m\u001b[1;33m[\u001b[0m\u001b[1;33m:\u001b[0m\u001b[1;33m,\u001b[0m \u001b[1;36m3\u001b[0m\u001b[1;33m]\u001b[0m\u001b[1;33m,\u001b[0m \u001b[1;34m'k-'\u001b[0m\u001b[1;33m,\u001b[0m \u001b[0mlabel\u001b[0m \u001b[1;33m=\u001b[0m \u001b[1;34m\"XY Coupling\"\u001b[0m\u001b[1;33m)\u001b[0m \u001b[1;31m# 2D MFGS (XY-Coupling)\u001b[0m\u001b[1;33m\u001b[0m\u001b[1;33m\u001b[0m\u001b[0m\n\u001b[1;32m---> 17\u001b[1;33m \u001b[0max\u001b[0m\u001b[1;33m.\u001b[0m\u001b[0msemilogx\u001b[0m\u001b[1;33m(\u001b[0m\u001b[0mdata_qu\u001b[0m\u001b[1;33m[\u001b[0m\u001b[1;33m:\u001b[0m\u001b[1;33m,\u001b[0m\u001b[1;36m0\u001b[0m\u001b[1;33m]\u001b[0m\u001b[1;33m,\u001b[0m \u001b[0mdata_quXZ\u001b[0m\u001b[1;33m[\u001b[0m\u001b[1;33m:\u001b[0m\u001b[1;33m,\u001b[0m \u001b[1;36m3\u001b[0m\u001b[1;33m]\u001b[0m\u001b[1;33m,\u001b[0m \u001b[1;34m'k--'\u001b[0m\u001b[1;33m,\u001b[0m \u001b[0mlabel\u001b[0m \u001b[1;33m=\u001b[0m \u001b[1;34m\"XZ Coupling\"\u001b[0m\u001b[1;33m)\u001b[0m \u001b[1;31m# 2D MFGS (XZ-Coupling)\u001b[0m\u001b[1;33m\u001b[0m\u001b[1;33m\u001b[0m\u001b[0m\n\u001b[0m\u001b[0;32m     18\u001b[0m \u001b[1;33m\u001b[0m\u001b[0m\n\u001b[0;32m     19\u001b[0m \u001b[0mplt\u001b[0m\u001b[1;33m.\u001b[0m\u001b[0mlegend\u001b[0m\u001b[1;33m(\u001b[0m\u001b[0mloc\u001b[0m\u001b[1;33m=\u001b[0m\u001b[1;34m\"upper right\"\u001b[0m\u001b[1;33m)\u001b[0m\u001b[1;33m\u001b[0m\u001b[1;33m\u001b[0m\u001b[0m\n",
      "\u001b[1;31mNameError\u001b[0m: name 'data_quXZ' is not defined"
     ]
    },
    {
     "data": {
      "image/png": "[encoded data removed]",
      "text/plain": [
       "<Figure size 468x324 with 1 Axes>"
      ]
     },
     "metadata": {
      "needs_background": "light"
     },
     "output_type": "display_data"
    }
   ],
   "source": [
    "fig, ax = plt.subplots(figsize=(6.5, 4.5))  #size in inches\n",
    "\n",
    "# labeling\n",
    "# ax.spines[\"top\"].set_visible(False)\n",
    "# ax.spines[\"right\"].set_visible(False)\n",
    "ax.get_xaxis().tick_bottom()\n",
    "ax.get_yaxis().tick_left()\n",
    "\n",
    "ax.set_xlabel(\"$T$\", fontsize=12)\n",
    "ax.set_ylabel(\"$\\langle \\\\hat{S}_z\\\\rangle$\", fontsize=12)\n",
    "\n",
    "ax.set_ylim(0, 0.5)\n",
    "\n",
    "##### data ######\n",
    "\n",
    "ax.semilogx(data_qu[:,0], data_quXY[:, 3], 'k-', label = \"XY Coupling\") # 2D MFGS (XY-Coupling)\n",
    "ax.semilogx(data_qu[:,0], data_quXZ[:, 3], 'k--', label = \"XZ Coupling\") # 2D MFGS (XZ-Coupling)\n",
    "\n",
    "plt.legend(loc=\"upper right\")\n",
    "plt.grid(which='both', lw='0.2')\n",
    "plt.title('2D Steady-State Magnetisations for Isotropic Coupling (Prm. b)')\n",
    "\n",
    "plt.savefig(\"C://Users//crh222//Dropbox//PhD//1. Reaction Coordinate Mapping//Graphs//MFGS_2D.pdf\", dpi=300)"
   ]
  },
  {
   "cell_type": "code",
   "execution_count": null,
   "id": "8c7b54ad",
   "metadata": {},
   "outputs": [],
   "source": []
  }
 ],
 "metadata": {
  "kernelspec": {
   "display_name": "Python 3 (ipykernel)",
   "language": "python",
   "name": "python3"
  },
  "language_info": {
   "codemirror_mode": {
    "name": "ipython",
    "version": 3
   },
   "file_extension": ".py",
   "mimetype": "text/x-python",
   "name": "python",
   "nbconvert_exporter": "python",
   "pygments_lexer": "ipython3",
   "version": "3.9.7"
  },
  "toc": {
   "base_numbering": 1,
   "nav_menu": {},
   "number_sections": true,
   "sideBar": true,
   "skip_h1_title": false,
   "title_cell": "Table of Contents",
   "title_sidebar": "Contents",
   "toc_cell": false,
   "toc_position": {},
   "toc_section_display": true,
   "toc_window_display": false
  }
 },
 "nbformat": 4,
 "nbformat_minor": 5
}
